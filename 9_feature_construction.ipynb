{
  "nbformat": 4,
  "nbformat_minor": 0,
  "metadata": {
    "colab": {
      "provenance": [],
      "authorship_tag": "ABX9TyNZIjLsAq0gkN157MsGovRJ",
      "include_colab_link": true
    },
    "kernelspec": {
      "name": "python3",
      "display_name": "Python 3"
    },
    "language_info": {
      "name": "python"
    }
  },
  "cells": [
    {
      "cell_type": "markdown",
      "metadata": {
        "id": "view-in-github",
        "colab_type": "text"
      },
      "source": [
        "<a href=\"https://colab.research.google.com/github/VIVEK818713/Feature-Engineering/blob/main/9_feature_construction.ipynb\" target=\"_parent\"><img src=\"https://colab.research.google.com/assets/colab-badge.svg\" alt=\"Open In Colab\"/></a>"
      ]
    },
    {
      "cell_type": "code",
      "execution_count": null,
      "metadata": {
        "id": "Id0D4pS6P4_e"
      },
      "outputs": [],
      "source": []
    },
    {
      "cell_type": "markdown",
      "source": [
        "# Feature construction n Feature Engineering\n",
        "## you are making new feature from the given feature manually.Means there is no any process you have to do it bu thinking and deciding and create feature.there is no mathemetical formula you have to do this job by using domain knowledge.\n",
        "## To understnd it we will use Titanic data set and create new feature . we will take column Sibsp and Parch then we will craete a new feature namly family type.\n",
        "##in this family type column if value is 0 means one is travelling alone if its value is 1 means there are maximum 4 memeber and we call is small family and if ts value is 2 then it has more then 4 members travelling together so we will call is big family.\n",
        "## After create new feature we will observe that the accuracy of our model increased or not.\n",
        "## we will also do feature spliting in hands on."
      ],
      "metadata": {
        "id": "CokUmIDI-wUb"
      }
    },
    {
      "cell_type": "code",
      "source": [
        "import numpy as np\n",
        "import pandas as pd\n",
        "\n",
        "from sklearn.model_selection import cross_val_score\n",
        "from sklearn.linear_model import LogisticRegression\n",
        "import os\n",
        "import seaborn as sns"
      ],
      "metadata": {
        "id": "MY01YfMcdbKD"
      },
      "execution_count": null,
      "outputs": []
    },
    {
      "cell_type": "code",
      "source": [
        "os.environ['KAGGLE_CONFIG_DIR']='/content/drive/MyDrive/Colab Notebooks/Kaggle json'"
      ],
      "metadata": {
        "id": "Bsu6S1iMKJbx"
      },
      "execution_count": null,
      "outputs": []
    },
    {
      "cell_type": "code",
      "source": [
        "!kaggle datasets download -d hesh97/titanicdataset-traincsv"
      ],
      "metadata": {
        "id": "Xe8bC_AKKTWB"
      },
      "execution_count": null,
      "outputs": []
    },
    {
      "cell_type": "code",
      "source": [
        "! unzip /content/titanicdataset-traincsv.zip"
      ],
      "metadata": {
        "id": "4EU2C8r2LV4-"
      },
      "execution_count": null,
      "outputs": []
    },
    {
      "cell_type": "code",
      "source": [
        "df=pd.read_csv('/content/train.csv')[['Age','Pclass','SibSp','Parch','Survived']]\n",
        "df.head()"
      ],
      "metadata": {
        "id": "M79UpEWxLp5v"
      },
      "execution_count": null,
      "outputs": []
    },
    {
      "cell_type": "markdown",
      "source": [
        "## drop all the NAN values"
      ],
      "metadata": {
        "id": "Z65HvpGJMVaR"
      }
    },
    {
      "cell_type": "code",
      "source": [
        "df.dropna(inplace=True)"
      ],
      "metadata": {
        "id": "-0tf3_awL4d6"
      },
      "execution_count": null,
      "outputs": []
    },
    {
      "cell_type": "markdown",
      "source": [
        "## Split data into dependnt and independant columns"
      ],
      "metadata": {
        "id": "W4jfU9GFMefI"
      }
    },
    {
      "cell_type": "code",
      "source": [
        "X = df.iloc[:,0:4]\n",
        "y = df.iloc[:,-1]"
      ],
      "metadata": {
        "id": "v0rS8fZGMaP1"
      },
      "execution_count": null,
      "outputs": []
    },
    {
      "cell_type": "markdown",
      "source": [
        "## Apply logistic regression and check the accuracy"
      ],
      "metadata": {
        "id": "khxn7wuAMuYR"
      }
    },
    {
      "cell_type": "code",
      "source": [
        "np.mean(cross_val_score(LogisticRegression(),X,y,scoring='accuracy',cv=20))"
      ],
      "metadata": {
        "id": "Wr-441F3MpJe"
      },
      "execution_count": null,
      "outputs": []
    },
    {
      "cell_type": "markdown",
      "source": [
        "#Applying Feature Construction"
      ],
      "metadata": {
        "id": "CuHd4BztM5BQ"
      }
    },
    {
      "cell_type": "code",
      "source": [
        "X['Family_size'] = X['SibSp'] + X['Parch'] + 1"
      ],
      "metadata": {
        "id": "22MaojtAM044"
      },
      "execution_count": null,
      "outputs": []
    },
    {
      "cell_type": "code",
      "source": [
        "X.head()"
      ],
      "metadata": {
        "id": "dDHL6engM95Y"
      },
      "execution_count": null,
      "outputs": []
    },
    {
      "cell_type": "markdown",
      "source": [
        "## create a function for our assumption"
      ],
      "metadata": {
        "id": "esvfxCs6NIJ-"
      }
    },
    {
      "cell_type": "code",
      "source": [
        "def myfunc(num):\n",
        "    if num == 1:\n",
        "        #alone\n",
        "        return 0\n",
        "    elif num >1 and num <=4:\n",
        "        # small family\n",
        "        return 1\n",
        "    else:\n",
        "        # large family\n",
        "        return 2"
      ],
      "metadata": {
        "id": "Dg0r9e4FNCGi"
      },
      "execution_count": null,
      "outputs": []
    },
    {
      "cell_type": "code",
      "source": [
        "myfunc(4)"
      ],
      "metadata": {
        "id": "kB-cwN9bNGZJ"
      },
      "execution_count": null,
      "outputs": []
    },
    {
      "cell_type": "code",
      "source": [
        "X['Family_type'] = X['Family_size'].apply(myfunc)"
      ],
      "metadata": {
        "id": "Qu6Uach0NR34"
      },
      "execution_count": null,
      "outputs": []
    },
    {
      "cell_type": "code",
      "source": [
        "X.head()"
      ],
      "metadata": {
        "id": "leC0es0cNVgz"
      },
      "execution_count": null,
      "outputs": []
    },
    {
      "cell_type": "markdown",
      "source": [
        "## these columns ['SibSp','Parch','Family_size'] are no needed so drop it"
      ],
      "metadata": {
        "id": "M8jbE2hBNe_C"
      }
    },
    {
      "cell_type": "code",
      "source": [
        "X.drop(columns=['SibSp','Parch','Family_size'],inplace=True)"
      ],
      "metadata": {
        "id": "KtOaMuKkNY5_"
      },
      "execution_count": null,
      "outputs": []
    },
    {
      "cell_type": "code",
      "source": [
        "X.head()"
      ],
      "metadata": {
        "id": "ROxA336VNpmC"
      },
      "execution_count": null,
      "outputs": []
    },
    {
      "cell_type": "markdown",
      "source": [
        "## Now apply the logistic regression and check the acuuracy"
      ],
      "metadata": {
        "id": "Rgqf8AXONvH7"
      }
    },
    {
      "cell_type": "code",
      "source": [
        "np.mean(cross_val_score(LogisticRegression(),X,y,scoring='accuracy',cv=20))"
      ],
      "metadata": {
        "id": "kdZKaIDgNs1d"
      },
      "execution_count": null,
      "outputs": []
    },
    {
      "cell_type": "markdown",
      "source": [
        "# Now understand Feature Splitting"
      ],
      "metadata": {
        "id": "L0RC_pyDN7AC"
      }
    },
    {
      "cell_type": "code",
      "source": [
        "df=pd.read_csv('/content/train.csv')\n",
        "df.head()"
      ],
      "metadata": {
        "id": "L26ZvF1RN41K"
      },
      "execution_count": null,
      "outputs": []
    },
    {
      "cell_type": "code",
      "source": [
        "df['Name']"
      ],
      "metadata": {
        "id": "2f5w3qNsOWgN"
      },
      "execution_count": null,
      "outputs": []
    },
    {
      "cell_type": "code",
      "source": [
        "df['Name'].str.split(', ', expand=True)[1]"
      ],
      "metadata": {
        "id": "tE7O1FPMOk8C"
      },
      "execution_count": null,
      "outputs": []
    },
    {
      "cell_type": "code",
      "source": [
        "df['Name'].str.split(', ', expand=True)[1].str.split('.', expand=True)[0]"
      ],
      "metadata": {
        "id": "R2slVw3QOuf4"
      },
      "execution_count": null,
      "outputs": []
    },
    {
      "cell_type": "code",
      "source": [
        "df['Title'] = df['Name'].str.split(', ', expand=True)[1].str.split('.', expand=True)[0]\n"
      ],
      "metadata": {
        "id": "R63p2tbKOw9W"
      },
      "execution_count": null,
      "outputs": []
    },
    {
      "cell_type": "code",
      "source": [
        "df[['Title','Name']]\n"
      ],
      "metadata": {
        "id": "noZUqk8qOacY"
      },
      "execution_count": null,
      "outputs": []
    },
    {
      "cell_type": "code",
      "source": [
        "(df.groupby('Title').mean()['Survived']).sort_values(ascending=False)"
      ],
      "metadata": {
        "id": "kRdF2bkkOipq"
      },
      "execution_count": null,
      "outputs": []
    },
    {
      "cell_type": "markdown",
      "source": [
        "## you can apply feature splting below column"
      ],
      "metadata": {
        "id": "fneUzVHBO_9F"
      }
    },
    {
      "cell_type": "code",
      "source": [
        "df['Is_Married'] = 0\n",
        "df['Is_Married'].loc[df['Title'] == 'Mrs'] = 1\n"
      ],
      "metadata": {
        "id": "8BBHVbPCO67O"
      },
      "execution_count": null,
      "outputs": []
    },
    {
      "cell_type": "code",
      "source": [
        "df['Is_Married']"
      ],
      "metadata": {
        "id": "jq4EBpmTPITM"
      },
      "execution_count": null,
      "outputs": []
    },
    {
      "cell_type": "code",
      "source": [],
      "metadata": {
        "id": "QKSMw1bkPLtk"
      },
      "execution_count": null,
      "outputs": []
    }
  ]
}