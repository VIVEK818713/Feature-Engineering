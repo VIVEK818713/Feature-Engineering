{
  "nbformat": 4,
  "nbformat_minor": 0,
  "metadata": {
    "colab": {
      "provenance": [],
      "mount_file_id": "1pIVawsx0JgAqomyyfT2mt951DnweH7Ky",
      "authorship_tag": "ABX9TyN4K43rJiDv828zQuLaik+H",
      "include_colab_link": true
    },
    "kernelspec": {
      "name": "python3",
      "display_name": "Python 3"
    },
    "language_info": {
      "name": "python"
    }
  },
  "cells": [
    {
      "cell_type": "markdown",
      "metadata": {
        "id": "view-in-github",
        "colab_type": "text"
      },
      "source": [
        "<a href=\"https://colab.research.google.com/github/VIVEK818713/Feature-Engineering/blob/main/5_Encoding_the_Numerical_Feature.ipynb\" target=\"_parent\"><img src=\"https://colab.research.google.com/assets/colab-badge.svg\" alt=\"Open In Colab\"/></a>"
      ]
    },
    {
      "cell_type": "markdown",
      "source": [
        "#Encoding the Numerical Feature--Binning(Discreatization) and Binarization"
      ],
      "metadata": {
        "id": "D8Rc0sT7jz_A"
      }
    },
    {
      "cell_type": "markdown",
      "source": [
        "## we have studies already how to encode categorical data into numerical data. But here we are going to work on how to convert numerical data into categorical data.\n",
        "## But question arises why we are converting numerical data into categorical data? Bsically it depends some time we observe that numerical representation is not so much helpful for us i is easy to repesent it into categorical data.\n",
        "##  we want to analyze the data of Google Play Store, where we have to analyze the Number of downloads of various applications. Since we know that all apps are not equally useful for users, only some popular applications are useful. So, there is a difference between the downloads for each one of those. Generally, this type of data is skewed in nature and we are not able to find any good insights from this type of data directly. Here is the need to encode our numerical columns to gain better insights into the data. Therefore, I convert numerical columns to categorical columns using different techniques. This article will discuss “Binning”, or “Discretization” to encode the numerical variables.\n",
        "## Lets take an example there is a dataset namely GooglePlayStore in this datset there is a column 'No. of Download' in this column the data is like-[23,102343,1000,39872000,12,1084736337,......] \n",
        "## As you observe some app has downloaded very less time and some app downloaded ery high times so data will be skewed and it is not helpful for us . so here we are going to convert these numericals values into categoricals valuse by creating bins.\n",
        "## we can make Bins of download like {100+ ,200+,1000+, 10k+,1M+,1B+  } so it is very problem specific it may be possible in any situation you have to convert numerical data into categorical data."
      ],
      "metadata": {
        "id": "tZrB-647j2pS"
      }
    },
    {
      "cell_type": "markdown",
      "source": [
        "#Techniques to Encode Numerical Columns\n",
        "##Binning(Discretization): It is the process of transforming continuous variables into categorical variables by creating a set of intervals, which are contiguous, that span over the range of the variable’s values. It is also known as “Binning”, where the bin is an analogous name for an interval.\n",
        "## Benefits of Discretization:\n",
        "\n",
        "##1. Handles the Outliers in a better way.\n",
        "\n",
        "##2. Improves the value spread.\n",
        "\n",
        "##3. Minimize the effects of small observation errors."
      ],
      "metadata": {
        "id": "mUibXlt5kEtr"
      }
    },
    {
      "cell_type": "markdown",
      "source": [
        "#Types of Binning:\n",
        "## 1. Unsupervised Binning\n",
        "##------------------------->a. Equal width binning(Uniform Binning)\n",
        "##------------------------->b. Equal frequency binning(Quantile Binning)\n",
        "##------------------------->c. K-means binning\n",
        "## 2. Supervised Binning\n",
        "##------------------------->Decision Tree binning\n",
        "## 3. Custom Binning"
      ],
      "metadata": {
        "id": "GXxPSQl3kEfd"
      }
    },
    {
      "cell_type": "markdown",
      "source": [
        "##Unsupervised Binning:\n",
        "##(a) Equal width binning: It is also known as “Uniform Binning” since the width of all the intervals is the same. The algorithm divides the data into N intervals of equal size. The width of intervals is:\n",
        "\n",
        "## w=(max-min)/N\n",
        "\n",
        "##Therefore, the interval boundaries are:\n",
        "##[min+w], [min+2w], [min+3w], – – – – – – – – – – – -, [min+(N-1)w] where, min and max are the minimum and maximum value from the data respectively.\n",
        "##This technique does not changes the spread of the data but does handle the outliers.\n",
        " "
      ],
      "metadata": {
        "id": "tKUTsWz7kEPy"
      }
    },
    {
      "cell_type": "markdown",
      "source": [
        "##(b) Equal frequency binning: It is also known as “Quantile Binning”. The algorithm divides the data into N groups where each group contains approximately the same number of values.\n",
        "\n",
        "##Consider, we want 10 bins, that is each interval contains 10% of the total observations.\n",
        "##Here the width of the interval need not necessarily be equal.\n",
        "##Handles outliers better than the previous method and makes the value spread approximately uniform(each interval contains almost the same number of values)."
      ],
      "metadata": {
        "id": "ueGZnlblkVWF"
      }
    },
    {
      "cell_type": "markdown",
      "source": [
        "## (c) K-means binning: This technique uses the clustering algorithm namely ” K-Means Algorithm”.\n",
        "\n",
        "##This technique is mostly used when our data is in the form of clusters.\n",
        "##Here’s the algorithm which is as followed:\n",
        "##Let X = {x1,x2,x3,……..,xn} be the set of observation and V = {v1,v2,…….,vc} be the set of centroids.\n",
        "\n",
        "##1. Randomly select ‘c’ centroids(no. of centroids = no. of bins).\n",
        "##2. Calculate the distance between each of the observations and centroids.\n",
        "##3. Assign the observation to that centroid whose distance from the centroid is the minimum of all the centroids.\n",
        "##4. Recalculate the new centroid using the mean(average) of all the points in the new cluster being formed.\n",
        "##5. Recalculate the distance between each observation and newly obtained centroids.\n",
        "##6. If no observation was reassigned in further steps then stop, otherwise, repeat from step (3) again."
      ],
      "metadata": {
        "id": "oUXqNc8DkZ9n"
      }
    },
    {
      "cell_type": "markdown",
      "source": [
        "#Custom binning: It is also known as “Domain” based binning. In this technique, you have domain knowledge about your business problem statement and by using your knowledge you have to do your custom binning.\n",
        "\n",
        "##For Example, We have an attribute of age with the following values\n",
        "\n",
        "##Age: 10, 11, 13, 14, 17, 19, 30, 31, 32, 38, 40, 42, 70, 72, 73, 75\n",
        "\n",
        "##Now after Binning, our data becomes:\n",
        "\n",
        "![image.png](data:image/png;base64,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)"
      ],
      "metadata": {
        "id": "6DCC8shpkevB"
      }
    },
    {
      "cell_type": "markdown",
      "source": [
        "## implementation of binning using sklearn. in sklearn there is a class KBinsDiscretization. in this classyou have to provide mainly 3 paramater . \n",
        "## 1. bins---no.of bins\n",
        "## 2. strategy---it has 3 value uniform, quantile,kmeans\n",
        "## 3. encoding--it has 2 value ordinal,onehotencode"
      ],
      "metadata": {
        "id": "zoWu4ECDkkoK"
      }
    },
    {
      "cell_type": "markdown",
      "source": [
        "## For the mplemetation part we will use titanic dataset from kaggle . and we will not use all the columns for the understanding purpose of binning. here we will do analysis without binning and with binning both and judge the output.this data is not so appropriate for binning but for he understading purpose we we are using it. let's start."
      ],
      "metadata": {
        "id": "AXSKQddRkyae"
      }
    },
    {
      "cell_type": "code",
      "execution_count": null,
      "metadata": {
        "id": "U3_f2dbTjf9e"
      },
      "outputs": [],
      "source": [
        "import pandas as pd\n",
        "import numpy as np\n",
        "import os"
      ]
    },
    {
      "cell_type": "code",
      "source": [
        "os.environ['KAGGLE_CONFIG_DIR']='/content/drive/MyDrive/Colab Notebooks/Kaggle json'"
      ],
      "metadata": {
        "id": "FD1CwxZVk3KW"
      },
      "execution_count": null,
      "outputs": []
    },
    {
      "cell_type": "code",
      "source": [
        "!kaggle datasets download -d hesh97/titanicdataset-traincsv"
      ],
      "metadata": {
        "id": "m4oCS3U--mQV"
      },
      "execution_count": null,
      "outputs": []
    },
    {
      "cell_type": "code",
      "source": [
        "!unzip titanicdataset-traincsv.zip"
      ],
      "metadata": {
        "id": "aZYI0wAu-pe7"
      },
      "execution_count": null,
      "outputs": []
    },
    {
      "cell_type": "code",
      "source": [
        "df=pd.read_csv('/content/train.csv')\n",
        "df.head()"
      ],
      "metadata": {
        "id": "1lI012Zk-r78"
      },
      "execution_count": null,
      "outputs": []
    },
    {
      "cell_type": "markdown",
      "source": [
        "## For understanding we will going to work on columns AGE,FARE, SURVIVED"
      ],
      "metadata": {
        "id": "2rHFPpPn-0RD"
      }
    },
    {
      "cell_type": "code",
      "source": [
        "df=pd.read_csv('/content/train.csv',usecols=['Age','Fare','Survived'])\n",
        "df.head()"
      ],
      "metadata": {
        "id": "hVBtSyyo-ugh"
      },
      "execution_count": null,
      "outputs": []
    },
    {
      "cell_type": "code",
      "source": [
        "df.shape"
      ],
      "metadata": {
        "id": "sgcJcjPN_Ass"
      },
      "execution_count": null,
      "outputs": []
    },
    {
      "cell_type": "code",
      "source": [
        "import matplotlib.pyplot as plt\n",
        "\n",
        "from sklearn.model_selection import train_test_split\n",
        "\n",
        "from sklearn.tree import DecisionTreeClassifier\n",
        "\n",
        "from sklearn.metrics import accuracy_score\n",
        "from sklearn.model_selection import cross_val_score\n",
        "\n",
        "from sklearn.preprocessing import KBinsDiscretizer\n",
        "from sklearn.compose import ColumnTransformer"
      ],
      "metadata": {
        "id": "SVN4BvAc_DMc"
      },
      "execution_count": null,
      "outputs": []
    },
    {
      "cell_type": "markdown",
      "source": [
        "##here we are drop all the row which have missing values for the understanding because we are not working on missing values here."
      ],
      "metadata": {
        "id": "XIASPfzn_K76"
      }
    },
    {
      "cell_type": "code",
      "source": [
        "df.dropna(inplace=True)"
      ],
      "metadata": {
        "id": "bNHE7WnR_F9l"
      },
      "execution_count": null,
      "outputs": []
    },
    {
      "cell_type": "code",
      "source": [
        "df.shape"
      ],
      "metadata": {
        "id": "U1OPDLa6_PrB"
      },
      "execution_count": null,
      "outputs": []
    },
    {
      "cell_type": "markdown",
      "source": [
        "##here we are not using any kind of binning what is happening. so first braek data into dependent and independent columns."
      ],
      "metadata": {
        "id": "mrWW5iVH_Ux6"
      }
    },
    {
      "cell_type": "code",
      "source": [
        "X=df.iloc[:,1:]\n",
        "y=df.iloc[:,0]"
      ],
      "metadata": {
        "id": "UVY3M-bX_SK8"
      },
      "execution_count": null,
      "outputs": []
    },
    {
      "cell_type": "markdown",
      "source": [
        "##Now do train and test split"
      ],
      "metadata": {
        "id": "du9KSl-S_h5g"
      }
    },
    {
      "cell_type": "code",
      "source": [
        "X_train,X_test,y_train,y_test=train_test_split(X,y,test_size=0.2,random_state=42)"
      ],
      "metadata": {
        "id": "ziKfCnDf_eI-"
      },
      "execution_count": null,
      "outputs": []
    },
    {
      "cell_type": "markdown",
      "source": [
        "##Now apply decision tree algorithm"
      ],
      "metadata": {
        "id": "gPa5uIRn_pzk"
      }
    },
    {
      "cell_type": "code",
      "source": [
        "clf=DecisionTreeClassifier()"
      ],
      "metadata": {
        "id": "-GCqoY2W_lc1"
      },
      "execution_count": null,
      "outputs": []
    },
    {
      "cell_type": "markdown",
      "source": [
        "## Train the model"
      ],
      "metadata": {
        "id": "8-OldWch_2qp"
      }
    },
    {
      "cell_type": "code",
      "source": [
        "clf.fit(X_train,y_train)"
      ],
      "metadata": {
        "id": "JYtEMYvj_uYW"
      },
      "execution_count": null,
      "outputs": []
    },
    {
      "cell_type": "markdown",
      "source": [
        "## Predict"
      ],
      "metadata": {
        "id": "AslmeWdIAAWw"
      }
    },
    {
      "cell_type": "code",
      "source": [
        "y_pred=clf.predict(X_test)"
      ],
      "metadata": {
        "id": "AeRAffr2_4WB"
      },
      "execution_count": null,
      "outputs": []
    },
    {
      "cell_type": "markdown",
      "source": [
        "## Accuracy score without applying any transformation"
      ],
      "metadata": {
        "id": "qXPJW7ATAJic"
      }
    },
    {
      "cell_type": "code",
      "source": [
        "accuracy_score(y_test,y_pred)"
      ],
      "metadata": {
        "id": "Lt0cEt4v__P4"
      },
      "execution_count": null,
      "outputs": []
    },
    {
      "cell_type": "markdown",
      "source": [
        "## check score using cross validation"
      ],
      "metadata": {
        "id": "m8tQH_ORASjW"
      }
    },
    {
      "cell_type": "code",
      "source": [
        "np.mean(cross_val_score(DecisionTreeClassifier(),X,y,cv=10,scoring='accuracy'))"
      ],
      "metadata": {
        "id": "tejZJASzAK9X"
      },
      "execution_count": null,
      "outputs": []
    },
    {
      "cell_type": "markdown",
      "source": [
        "##Here we did not apply Binning\n",
        "##SO now we are going to apply Binning(dicretizer) and observe the result.\n",
        "##here we will apply binning on our 2 columns AGE and FARE . and using strategy quantile, you can change the n-bins value accordingly your desire."
      ],
      "metadata": {
        "id": "BWXVLLeyAbEK"
      }
    },
    {
      "cell_type": "code",
      "source": [
        "kbin_age = KBinsDiscretizer(n_bins=15,encode='ordinal',strategy='quantile')\n",
        "kbin_fare = KBinsDiscretizer(n_bins=15,encode='ordinal',strategy='quantile')"
      ],
      "metadata": {
        "id": "1YQ6xAM_AT8_"
      },
      "execution_count": null,
      "outputs": []
    },
    {
      "cell_type": "markdown",
      "source": [
        "##As we know the role of columntransformer so we will use it here. here index [0]means AGE and [1] means FARE in X-train you can check."
      ],
      "metadata": {
        "id": "OFo2GVLhAp-3"
      }
    },
    {
      "cell_type": "code",
      "source": [
        "X_train.head()"
      ],
      "metadata": {
        "id": "onObvIMTAmrm"
      },
      "execution_count": null,
      "outputs": []
    },
    {
      "cell_type": "markdown",
      "source": [
        "## Do columntransform"
      ],
      "metadata": {
        "id": "2In9EtbfAy_5"
      }
    },
    {
      "cell_type": "code",
      "source": [
        "trf = ColumnTransformer([\n",
        "    ('first',kbin_age,[0]),\n",
        "    ('second',kbin_fare,[1])\n",
        "])"
      ],
      "metadata": {
        "id": "hJQEU3fgAvd7"
      },
      "execution_count": null,
      "outputs": []
    },
    {
      "cell_type": "code",
      "source": [
        "X_train_trf = trf.fit_transform(X_train)\n",
        "X_test_trf = trf.transform(X_test)"
      ],
      "metadata": {
        "id": "GjmWfb4yA2A1"
      },
      "execution_count": null,
      "outputs": []
    },
    {
      "cell_type": "markdown",
      "source": [
        "##if you want to check how our transformer work then see below"
      ],
      "metadata": {
        "id": "u7AxV1W0A_vA"
      }
    },
    {
      "cell_type": "code",
      "source": [
        "trf.named_transformers_"
      ],
      "metadata": {
        "id": "DIIxZDmXA6JQ"
      },
      "execution_count": null,
      "outputs": []
    },
    {
      "cell_type": "code",
      "source": [
        "trf.named_transformers_['first']"
      ],
      "metadata": {
        "id": "vjEc4WeTBDUD"
      },
      "execution_count": null,
      "outputs": []
    },
    {
      "cell_type": "markdown",
      "source": [
        "##to check no.of bins in first"
      ],
      "metadata": {
        "id": "orLqKn2YBKIv"
      }
    },
    {
      "cell_type": "code",
      "source": [
        "trf.named_transformers_['first'].n_bins_"
      ],
      "metadata": {
        "id": "NqFOnoRTBGfd"
      },
      "execution_count": null,
      "outputs": []
    },
    {
      "cell_type": "markdown",
      "source": [
        "##To check range of bins"
      ],
      "metadata": {
        "id": "eccz3NIfBRSq"
      }
    },
    {
      "cell_type": "code",
      "source": [
        "trf.named_transformers_['first'].bin_edges_"
      ],
      "metadata": {
        "id": "6jl-R2_4BNyd"
      },
      "execution_count": null,
      "outputs": []
    },
    {
      "cell_type": "code",
      "source": [
        "trf.named_transformers_['second'].bin_edges_"
      ],
      "metadata": {
        "id": "gwQ3flhOBVHd"
      },
      "execution_count": null,
      "outputs": []
    },
    {
      "cell_type": "markdown",
      "source": [
        "## Let's check how columns are transform after apply Binning"
      ],
      "metadata": {
        "id": "c2FbUTcVBhzE"
      }
    },
    {
      "cell_type": "code",
      "source": [
        "output = pd.DataFrame({\n",
        "    'age':X_train['Age'],\n",
        "    'age_trf':X_train_trf[:,0],\n",
        "    'fare':X_train['Fare'],\n",
        "    'fare_trf':X_train_trf[:,1]\n",
        "})"
      ],
      "metadata": {
        "id": "cBBglHrPBXnK"
      },
      "execution_count": null,
      "outputs": []
    },
    {
      "cell_type": "code",
      "source": [
        "output.head()"
      ],
      "metadata": {
        "id": "kH3oMQU0BlLp"
      },
      "execution_count": null,
      "outputs": []
    },
    {
      "cell_type": "code",
      "source": [
        "output['age_labels'] = pd.cut(x=X_train['Age'],\n",
        "                                    bins=trf.named_transformers_['first'].bin_edges_[0].tolist())\n",
        "output['fare_labels'] = pd.cut(x=X_train['Fare'],\n",
        "                                    bins=trf.named_transformers_['second'].bin_edges_[0].tolist())"
      ],
      "metadata": {
        "id": "-VDSgJoXBoOw"
      },
      "execution_count": null,
      "outputs": []
    },
    {
      "cell_type": "code",
      "source": [
        "output.sample(5)"
      ],
      "metadata": {
        "id": "9H8g8H7dBqkj"
      },
      "execution_count": null,
      "outputs": []
    },
    {
      "cell_type": "markdown",
      "source": [
        "##Now once again apply Decision tree algorithm on this."
      ],
      "metadata": {
        "id": "ruv-Lku0Bxr3"
      }
    },
    {
      "cell_type": "code",
      "source": [
        "clf = DecisionTreeClassifier()\n",
        "clf.fit(X_train_trf,y_train)\n",
        "y_pred2 = clf.predict(X_test_trf)"
      ],
      "metadata": {
        "id": "6jyvcRR8BtaJ"
      },
      "execution_count": null,
      "outputs": []
    },
    {
      "cell_type": "code",
      "source": [
        "accuracy_score(y_test,y_pred2)"
      ],
      "metadata": {
        "id": "7V-Nq8M0B2b_"
      },
      "execution_count": null,
      "outputs": []
    },
    {
      "cell_type": "markdown",
      "source": [
        "##Accuracy is not so iproved so you can change the value of parameter inKBinsDiscretizer().like you can change the n_bins value and observe the result or you can cahnge the strategy also."
      ],
      "metadata": {
        "id": "33G1LYLBB_Io"
      }
    },
    {
      "cell_type": "code",
      "source": [
        "def discretize(bins,strategy):\n",
        "    kbin_age = KBinsDiscretizer(n_bins=bins,encode='ordinal',strategy=strategy)\n",
        "    kbin_fare = KBinsDiscretizer(n_bins=bins,encode='ordinal',strategy=strategy)\n",
        "    \n",
        "    trf = ColumnTransformer([\n",
        "        ('first',kbin_age,[0]),\n",
        "        ('second',kbin_fare,[1])\n",
        "    ])\n",
        "    \n",
        "    X_trf = trf.fit_transform(X)\n",
        "    print(np.mean(cross_val_score(DecisionTreeClassifier(),X,y,cv=10,scoring='accuracy')))\n",
        "    \n",
        "    plt.figure(figsize=(14,4))\n",
        "    plt.subplot(121)\n",
        "    plt.hist(X['Age'])\n",
        "    plt.title(\"Before\")\n",
        "\n",
        "    plt.subplot(122)\n",
        "    plt.hist(X_trf[:,0],color='red')\n",
        "    plt.title(\"After\")\n",
        "\n",
        "    plt.show()\n",
        "    \n",
        "    plt.figure(figsize=(14,4))\n",
        "    plt.subplot(121)\n",
        "    plt.hist(X['Fare'])\n",
        "    plt.title(\"Before\")\n",
        "\n",
        "    plt.subplot(122)\n",
        "    plt.hist(X_trf[:,1],color='red')\n",
        "    plt.title(\"Fare\")\n",
        "\n",
        "    plt.show()"
      ],
      "metadata": {
        "id": "56GTeRn9B5hk"
      },
      "execution_count": null,
      "outputs": []
    },
    {
      "cell_type": "code",
      "source": [
        "discretize(5,'quantile')"
      ],
      "metadata": {
        "id": "t1zTsEwgCC2F"
      },
      "execution_count": null,
      "outputs": []
    },
    {
      "cell_type": "code",
      "source": [
        "discretize(5,'kmeans')"
      ],
      "metadata": {
        "id": "od_Fgy7_CHWQ"
      },
      "execution_count": null,
      "outputs": []
    },
    {
      "cell_type": "code",
      "source": [
        "discretize(10,'uniform')"
      ],
      "metadata": {
        "id": "kAONsphqCJg9"
      },
      "execution_count": null,
      "outputs": []
    },
    {
      "cell_type": "code",
      "source": [],
      "metadata": {
        "id": "MDrJA-TECSrh"
      },
      "execution_count": null,
      "outputs": []
    },
    {
      "cell_type": "markdown",
      "source": [
        "# Binarization: It is a special case of Binning Technique. In this technique, we convert the continuous value into binary format i.e, in either 0 or 1.\n",
        "\n",
        "##For Example, \n",
        "\n",
        "##Annual Income of the Population\n",
        "##If income is less than 5 lakhs, then that people include in the non-taxable region(Binary value -0), and if more than 5 lakhs, then includes in the taxable region(Binary value -1).\n",
        "##Very useful Technique in Image Processing, for converting a colored image into a black and white image.\n",
        "##As we know that image is the collection of pixels and its values are in the range of 0 to 255(colored images), then based on the selected threshold values you can binarize the variables and make the image into black and white, which means if less than that threshold makes that as 0 implies black portion, and if more than threshold makes as 1 means white portion.\n",
        "\n",
        "##Implementation: Uses binarizer class of Scikit-Learn library of Python, which has two parameters: threshold and copy. If we make the copy parameter True, then it creates a new column otherwise it changes in the initial column."
      ],
      "metadata": {
        "id": "4PzLDyvgCTdH"
      }
    },
    {
      "cell_type": "code",
      "source": [
        "import numpy as np\n",
        "import pandas as pd"
      ],
      "metadata": {
        "id": "8RU02tDzCMND"
      },
      "execution_count": null,
      "outputs": []
    },
    {
      "cell_type": "code",
      "source": [
        "from sklearn.model_selection import train_test_split,cross_val_score\n",
        "from sklearn.tree import DecisionTreeClassifier\n",
        "\n",
        "from sklearn.metrics import accuracy_score\n",
        "\n",
        "from sklearn.compose import ColumnTransformer"
      ],
      "metadata": {
        "id": "GQ2efJhyCYpf"
      },
      "execution_count": null,
      "outputs": []
    },
    {
      "cell_type": "code",
      "source": [
        "df = pd.read_csv('/content/train.csv')\n",
        "df.sample(3)"
      ],
      "metadata": {
        "id": "G445EbyQCbM8"
      },
      "execution_count": null,
      "outputs": []
    },
    {
      "cell_type": "code",
      "source": [
        "df = pd.read_csv('/content/train.csv')[['Age','Fare','SibSp','Parch','Survived']]"
      ],
      "metadata": {
        "id": "-9GoRI5uCglK"
      },
      "execution_count": null,
      "outputs": []
    },
    {
      "cell_type": "code",
      "source": [
        "df.dropna(inplace=True)"
      ],
      "metadata": {
        "id": "LxmbRHtSClpN"
      },
      "execution_count": null,
      "outputs": []
    },
    {
      "cell_type": "code",
      "source": [
        "df.head()"
      ],
      "metadata": {
        "id": "LSlBHdgNCpaw"
      },
      "execution_count": null,
      "outputs": []
    },
    {
      "cell_type": "code",
      "source": [
        "df['family'] = df['SibSp'] + df['Parch']"
      ],
      "metadata": {
        "id": "v4jN-cJhCsai"
      },
      "execution_count": null,
      "outputs": []
    },
    {
      "cell_type": "code",
      "source": [
        "df.head()"
      ],
      "metadata": {
        "id": "4ttW5j2bCvM-"
      },
      "execution_count": null,
      "outputs": []
    },
    {
      "cell_type": "code",
      "source": [
        "df.drop(columns=['SibSp','Parch'],inplace=True)"
      ],
      "metadata": {
        "id": "WT7YUI8uCx4q"
      },
      "execution_count": null,
      "outputs": []
    },
    {
      "cell_type": "code",
      "source": [
        "df.head()"
      ],
      "metadata": {
        "id": "vygGdHduC1wS"
      },
      "execution_count": null,
      "outputs": []
    },
    {
      "cell_type": "code",
      "source": [
        "X = df.drop(columns=['Survived'])\n",
        "y = df['Survived']"
      ],
      "metadata": {
        "id": "4O1YNLDjC5CO"
      },
      "execution_count": null,
      "outputs": []
    },
    {
      "cell_type": "code",
      "source": [
        "X_train,X_test,y_train,y_test = train_test_split(X,y,test_size=0.2,random_state=42)"
      ],
      "metadata": {
        "id": "GomfOUV6C78_"
      },
      "execution_count": null,
      "outputs": []
    },
    {
      "cell_type": "code",
      "source": [
        "X_train.head()"
      ],
      "metadata": {
        "id": "P9C7EgW6C-T1"
      },
      "execution_count": null,
      "outputs": []
    },
    {
      "cell_type": "markdown",
      "source": [
        "### Without binarization"
      ],
      "metadata": {
        "id": "eIW3lf0DDJYL"
      }
    },
    {
      "cell_type": "code",
      "source": [
        "clf = DecisionTreeClassifier()\n",
        "\n",
        "clf.fit(X_train,y_train)\n",
        "\n",
        "y_pred = clf.predict(X_test)\n",
        "\n",
        "accuracy_score(y_test,y_pred)"
      ],
      "metadata": {
        "id": "3djMEexqDAnw"
      },
      "execution_count": null,
      "outputs": []
    },
    {
      "cell_type": "code",
      "source": [
        "np.mean(cross_val_score(DecisionTreeClassifier(),X,y,cv=10,scoring='accuracy'))"
      ],
      "metadata": {
        "id": "3UpitJrWDK7i"
      },
      "execution_count": null,
      "outputs": []
    },
    {
      "cell_type": "markdown",
      "source": [
        "## Applying Binarization"
      ],
      "metadata": {
        "id": "OYRuoQc_DT_2"
      }
    },
    {
      "cell_type": "code",
      "source": [
        "from sklearn.preprocessing import Binarizer"
      ],
      "metadata": {
        "id": "C47Kcb8ADOu8"
      },
      "execution_count": null,
      "outputs": []
    },
    {
      "cell_type": "code",
      "source": [
        "trf = ColumnTransformer([\n",
        "    ('bin',Binarizer(copy=False),['family'])\n",
        "],remainder='passthrough')"
      ],
      "metadata": {
        "id": "SmBQmvs0DVgn"
      },
      "execution_count": null,
      "outputs": []
    },
    {
      "cell_type": "code",
      "source": [
        "X_train_trf = trf.fit_transform(X_train)\n",
        "X_test_trf = trf.transform(X_test)"
      ],
      "metadata": {
        "id": "CbFxoRX7DYCP"
      },
      "execution_count": null,
      "outputs": []
    },
    {
      "cell_type": "code",
      "source": [
        "pd.DataFrame(X_train_trf,columns=['family','Age','Fare'])"
      ],
      "metadata": {
        "id": "JdcVij-MDc4g"
      },
      "execution_count": null,
      "outputs": []
    },
    {
      "cell_type": "code",
      "source": [
        "clf = DecisionTreeClassifier()\n",
        "clf.fit(X_train_trf,y_train)\n",
        "y_pred2 = clf.predict(X_test_trf)\n",
        "\n",
        "accuracy_score(y_test,y_pred2)"
      ],
      "metadata": {
        "id": "eTs_HHcPDfyE"
      },
      "execution_count": null,
      "outputs": []
    },
    {
      "cell_type": "code",
      "source": [
        "X_trf = trf.fit_transform(X)\n",
        "np.mean(cross_val_score(DecisionTreeClassifier(),X_trf,y,cv=10,scoring='accuracy'))"
      ],
      "metadata": {
        "id": "Wirlf772DkWX"
      },
      "execution_count": null,
      "outputs": []
    },
    {
      "cell_type": "code",
      "source": [],
      "metadata": {
        "id": "eQMqyBHHDoaI"
      },
      "execution_count": null,
      "outputs": []
    }
  ]
}