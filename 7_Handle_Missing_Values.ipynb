{
  "nbformat": 4,
  "nbformat_minor": 0,
  "metadata": {
    "colab": {
      "provenance": [],
      "mount_file_id": "1BVWYIK2VBsUZ6IeaqOIKQwcHw_4XPIoh",
      "authorship_tag": "ABX9TyNSDYbf9DeIbdQPVtHpf8Wi",
      "include_colab_link": true
    },
    "kernelspec": {
      "name": "python3",
      "display_name": "Python 3"
    },
    "language_info": {
      "name": "python"
    }
  },
  "cells": [
    {
      "cell_type": "markdown",
      "metadata": {
        "id": "view-in-github",
        "colab_type": "text"
      },
      "source": [
        "<a href=\"https://colab.research.google.com/github/VIVEK818713/Feature-Engineering/blob/main/7_Handle_Missing_Values.ipynb\" target=\"_parent\"><img src=\"https://colab.research.google.com/assets/colab-badge.svg\" alt=\"Open In Colab\"/></a>"
      ]
    },
    {
      "cell_type": "markdown",
      "source": [
        "# Handle Missing Value\n",
        "## to handle missing value you can do 2 thing no.1 you can remove the rows which have missing value. but if you yu remove  row then then some useful information may be also gone so this technique is rarely used but we will discuss it\n",
        "## no. 2 is to impute the missing value means you can fill these missing value. There are 2 ways to fill the misssing value.\n",
        "##1. Univariate means when you fill the missing value you are focusing on only 1 column. In univariate you fill the data on the basis of numerical or categorical value.\n",
        "## in numerical , you can choose \n",
        "## a. mean/median\n",
        "## b. random value\n",
        "## c. end of distribution\n",
        "## in categorical, you can fill the value by\n",
        "## a. Mode(most frequent value)\n",
        "## b. you can write \"Missing\"\n",
        "## in sklearn there is a class simleimputer for univariate.\n",
        "##2. Multivariate means you are ocusig on multiple columns to fill the missing value. there are 2 technique\n",
        "## a. KNN imputer\n",
        "## b. iterative imputer.it works on an algorithm which is called MICE"
      ],
      "metadata": {
        "id": "fm-McynHgdMN"
      }
    },
    {
      "cell_type": "markdown",
      "source": [
        "## So we will understand each of them one by one\n",
        "## 1. remove missing value\n",
        "## 2. simple imputer\n",
        "## 3. KNN imputer\n",
        "## 4. iterartive imputer\n",
        "## 5. Missing indicator\n",
        "\n",
        "## So uderstand first remove missg value which is called complete case Analysis(CCA)\n",
        "#Complete case analysis.\n",
        "##This method, also called list-wise deletion, is a straightforward procedure that simply removes all rows or elements containing missing values prior to the analysis.\n",
        "## means in any row contain missing value then we remove that row.\n",
        "# When to use CCA\n",
        "## 1. your data is missing completely at random. means that your data will be missing randomly not continous like startig 50 rows has missing value or last 50 rows missing values of in middle somewhere 50 rows missing value then CCA will not apply or not works good.So your data should be missing completly at random MCAR.\n",
        "## it will be same as assume there is no missing values in your dataset and you have 1000 rows and you remove randomly 50 rows then the distribution of data will be same.\n",
        "## if your column have less ten 5% missig value then you can go for CCA . but it is just an assumption.\n",
        "## You can think if a column have 95% or 80% missing value then you should not remove the rows but wou should remove that columns."
      ],
      "metadata": {
        "id": "Il3kr5hegigQ"
      }
    },
    {
      "cell_type": "markdown",
      "source": [
        "# Advantage\n",
        "## Easy to implement as no data manipulation required.\n",
        "## preserev variable distribution( if data is MCAR , then the distribution of the variable of the reduced dataset should match the distribution in the original dataset.\n",
        "# Disadvantage\n",
        "## it can exclude the large fraction of the original dataset(if missing data is abundant)\n",
        "## Excluded observation colud be informative for the analysis ( if the data is not missing at random)\n",
        "## when usng our model in production , the model will not know how to handle missing data."
      ],
      "metadata": {
        "id": "z353ORhag-Bp"
      }
    },
    {
      "cell_type": "code",
      "execution_count": null,
      "metadata": {
        "id": "F40Er_LYfOQJ"
      },
      "outputs": [],
      "source": [
        "import pandas as pd\n",
        "import numpy as np\n",
        "import matplotlib.pyplot as plt\n"
      ]
    },
    {
      "cell_type": "code",
      "source": [
        "df=pd.read_csv(\"/content/drive/MyDrive/Colab Notebooks/0machine learning/csv data/data_science_job.csv\")\n",
        "df.head()"
      ],
      "metadata": {
        "colab": {
          "base_uri": "https://localhost:8080/",
          "height": 305
        },
        "id": "tT-3dv-JhNoy",
        "outputId": "875e4a0d-6095-47ca-83b9-9ffe02d3ed7b"
      },
      "execution_count": null,
      "outputs": [
        {
          "output_type": "execute_result",
          "data": {
            "text/plain": [
              "   enrollee_id      city  city_development_index gender  \\\n",
              "0         8949  city_103                   0.920   Male   \n",
              "1        29725   city_40                   0.776   Male   \n",
              "2        11561   city_21                   0.624    NaN   \n",
              "3        33241  city_115                   0.789    NaN   \n",
              "4          666  city_162                   0.767   Male   \n",
              "\n",
              "       relevent_experience enrolled_university education_level  \\\n",
              "0  Has relevent experience       no_enrollment        Graduate   \n",
              "1   No relevent experience       no_enrollment        Graduate   \n",
              "2   No relevent experience    Full time course        Graduate   \n",
              "3   No relevent experience                 NaN        Graduate   \n",
              "4  Has relevent experience       no_enrollment         Masters   \n",
              "\n",
              "  major_discipline  experience company_size    company_type  training_hours  \\\n",
              "0             STEM        20.0          NaN             NaN            36.0   \n",
              "1             STEM        15.0        50-99         Pvt Ltd            47.0   \n",
              "2             STEM         5.0          NaN             NaN            83.0   \n",
              "3  Business Degree         0.0          NaN         Pvt Ltd            52.0   \n",
              "4             STEM        20.0        50-99  Funded Startup             8.0   \n",
              "\n",
              "   target  \n",
              "0       1  \n",
              "1       0  \n",
              "2       0  \n",
              "3       1  \n",
              "4       0  "
            ],
            "text/html": [
              "\n",
              "  <div id=\"df-c6d67f50-2063-4c5e-b493-5296660d21be\">\n",
              "    <div class=\"colab-df-container\">\n",
              "      <div>\n",
              "<style scoped>\n",
              "    .dataframe tbody tr th:only-of-type {\n",
              "        vertical-align: middle;\n",
              "    }\n",
              "\n",
              "    .dataframe tbody tr th {\n",
              "        vertical-align: top;\n",
              "    }\n",
              "\n",
              "    .dataframe thead th {\n",
              "        text-align: right;\n",
              "    }\n",
              "</style>\n",
              "<table border=\"1\" class=\"dataframe\">\n",
              "  <thead>\n",
              "    <tr style=\"text-align: right;\">\n",
              "      <th></th>\n",
              "      <th>enrollee_id</th>\n",
              "      <th>city</th>\n",
              "      <th>city_development_index</th>\n",
              "      <th>gender</th>\n",
              "      <th>relevent_experience</th>\n",
              "      <th>enrolled_university</th>\n",
              "      <th>education_level</th>\n",
              "      <th>major_discipline</th>\n",
              "      <th>experience</th>\n",
              "      <th>company_size</th>\n",
              "      <th>company_type</th>\n",
              "      <th>training_hours</th>\n",
              "      <th>target</th>\n",
              "    </tr>\n",
              "  </thead>\n",
              "  <tbody>\n",
              "    <tr>\n",
              "      <th>0</th>\n",
              "      <td>8949</td>\n",
              "      <td>city_103</td>\n",
              "      <td>0.920</td>\n",
              "      <td>Male</td>\n",
              "      <td>Has relevent experience</td>\n",
              "      <td>no_enrollment</td>\n",
              "      <td>Graduate</td>\n",
              "      <td>STEM</td>\n",
              "      <td>20.0</td>\n",
              "      <td>NaN</td>\n",
              "      <td>NaN</td>\n",
              "      <td>36.0</td>\n",
              "      <td>1</td>\n",
              "    </tr>\n",
              "    <tr>\n",
              "      <th>1</th>\n",
              "      <td>29725</td>\n",
              "      <td>city_40</td>\n",
              "      <td>0.776</td>\n",
              "      <td>Male</td>\n",
              "      <td>No relevent experience</td>\n",
              "      <td>no_enrollment</td>\n",
              "      <td>Graduate</td>\n",
              "      <td>STEM</td>\n",
              "      <td>15.0</td>\n",
              "      <td>50-99</td>\n",
              "      <td>Pvt Ltd</td>\n",
              "      <td>47.0</td>\n",
              "      <td>0</td>\n",
              "    </tr>\n",
              "    <tr>\n",
              "      <th>2</th>\n",
              "      <td>11561</td>\n",
              "      <td>city_21</td>\n",
              "      <td>0.624</td>\n",
              "      <td>NaN</td>\n",
              "      <td>No relevent experience</td>\n",
              "      <td>Full time course</td>\n",
              "      <td>Graduate</td>\n",
              "      <td>STEM</td>\n",
              "      <td>5.0</td>\n",
              "      <td>NaN</td>\n",
              "      <td>NaN</td>\n",
              "      <td>83.0</td>\n",
              "      <td>0</td>\n",
              "    </tr>\n",
              "    <tr>\n",
              "      <th>3</th>\n",
              "      <td>33241</td>\n",
              "      <td>city_115</td>\n",
              "      <td>0.789</td>\n",
              "      <td>NaN</td>\n",
              "      <td>No relevent experience</td>\n",
              "      <td>NaN</td>\n",
              "      <td>Graduate</td>\n",
              "      <td>Business Degree</td>\n",
              "      <td>0.0</td>\n",
              "      <td>NaN</td>\n",
              "      <td>Pvt Ltd</td>\n",
              "      <td>52.0</td>\n",
              "      <td>1</td>\n",
              "    </tr>\n",
              "    <tr>\n",
              "      <th>4</th>\n",
              "      <td>666</td>\n",
              "      <td>city_162</td>\n",
              "      <td>0.767</td>\n",
              "      <td>Male</td>\n",
              "      <td>Has relevent experience</td>\n",
              "      <td>no_enrollment</td>\n",
              "      <td>Masters</td>\n",
              "      <td>STEM</td>\n",
              "      <td>20.0</td>\n",
              "      <td>50-99</td>\n",
              "      <td>Funded Startup</td>\n",
              "      <td>8.0</td>\n",
              "      <td>0</td>\n",
              "    </tr>\n",
              "  </tbody>\n",
              "</table>\n",
              "</div>\n",
              "      <button class=\"colab-df-convert\" onclick=\"convertToInteractive('df-c6d67f50-2063-4c5e-b493-5296660d21be')\"\n",
              "              title=\"Convert this dataframe to an interactive table.\"\n",
              "              style=\"display:none;\">\n",
              "        \n",
              "  <svg xmlns=\"http://www.w3.org/2000/svg\" height=\"24px\"viewBox=\"0 0 24 24\"\n",
              "       width=\"24px\">\n",
              "    <path d=\"M0 0h24v24H0V0z\" fill=\"none\"/>\n",
              "    <path d=\"M18.56 5.44l.94 2.06.94-2.06 2.06-.94-2.06-.94-.94-2.06-.94 2.06-2.06.94zm-11 1L8.5 8.5l.94-2.06 2.06-.94-2.06-.94L8.5 2.5l-.94 2.06-2.06.94zm10 10l.94 2.06.94-2.06 2.06-.94-2.06-.94-.94-2.06-.94 2.06-2.06.94z\"/><path d=\"M17.41 7.96l-1.37-1.37c-.4-.4-.92-.59-1.43-.59-.52 0-1.04.2-1.43.59L10.3 9.45l-7.72 7.72c-.78.78-.78 2.05 0 2.83L4 21.41c.39.39.9.59 1.41.59.51 0 1.02-.2 1.41-.59l7.78-7.78 2.81-2.81c.8-.78.8-2.07 0-2.86zM5.41 20L4 18.59l7.72-7.72 1.47 1.35L5.41 20z\"/>\n",
              "  </svg>\n",
              "      </button>\n",
              "      \n",
              "  <style>\n",
              "    .colab-df-container {\n",
              "      display:flex;\n",
              "      flex-wrap:wrap;\n",
              "      gap: 12px;\n",
              "    }\n",
              "\n",
              "    .colab-df-convert {\n",
              "      background-color: #E8F0FE;\n",
              "      border: none;\n",
              "      border-radius: 50%;\n",
              "      cursor: pointer;\n",
              "      display: none;\n",
              "      fill: #1967D2;\n",
              "      height: 32px;\n",
              "      padding: 0 0 0 0;\n",
              "      width: 32px;\n",
              "    }\n",
              "\n",
              "    .colab-df-convert:hover {\n",
              "      background-color: #E2EBFA;\n",
              "      box-shadow: 0px 1px 2px rgba(60, 64, 67, 0.3), 0px 1px 3px 1px rgba(60, 64, 67, 0.15);\n",
              "      fill: #174EA6;\n",
              "    }\n",
              "\n",
              "    [theme=dark] .colab-df-convert {\n",
              "      background-color: #3B4455;\n",
              "      fill: #D2E3FC;\n",
              "    }\n",
              "\n",
              "    [theme=dark] .colab-df-convert:hover {\n",
              "      background-color: #434B5C;\n",
              "      box-shadow: 0px 1px 3px 1px rgba(0, 0, 0, 0.15);\n",
              "      filter: drop-shadow(0px 1px 2px rgba(0, 0, 0, 0.3));\n",
              "      fill: #FFFFFF;\n",
              "    }\n",
              "  </style>\n",
              "\n",
              "      <script>\n",
              "        const buttonEl =\n",
              "          document.querySelector('#df-c6d67f50-2063-4c5e-b493-5296660d21be button.colab-df-convert');\n",
              "        buttonEl.style.display =\n",
              "          google.colab.kernel.accessAllowed ? 'block' : 'none';\n",
              "\n",
              "        async function convertToInteractive(key) {\n",
              "          const element = document.querySelector('#df-c6d67f50-2063-4c5e-b493-5296660d21be');\n",
              "          const dataTable =\n",
              "            await google.colab.kernel.invokeFunction('convertToInteractive',\n",
              "                                                     [key], {});\n",
              "          if (!dataTable) return;\n",
              "\n",
              "          const docLinkHtml = 'Like what you see? Visit the ' +\n",
              "            '<a target=\"_blank\" href=https://colab.research.google.com/notebooks/data_table.ipynb>data table notebook</a>'\n",
              "            + ' to learn more about interactive tables.';\n",
              "          element.innerHTML = '';\n",
              "          dataTable['output_type'] = 'display_data';\n",
              "          await google.colab.output.renderOutput(dataTable, element);\n",
              "          const docLink = document.createElement('div');\n",
              "          docLink.innerHTML = docLinkHtml;\n",
              "          element.appendChild(docLink);\n",
              "        }\n",
              "      </script>\n",
              "    </div>\n",
              "  </div>\n",
              "  "
            ]
          },
          "metadata": {},
          "execution_count": 3
        }
      ]
    },
    {
      "cell_type": "markdown",
      "source": [
        "##Check the missing value and calculate the %age of them"
      ],
      "metadata": {
        "id": "spejTRabhBW7"
      }
    },
    {
      "cell_type": "code",
      "source": [
        "df.isnull().sum()"
      ],
      "metadata": {
        "colab": {
          "base_uri": "https://localhost:8080/"
        },
        "id": "WfCte6zFhcie",
        "outputId": "128b9f31-a5ae-48c8-f158-14cc034e2504"
      },
      "execution_count": null,
      "outputs": [
        {
          "output_type": "execute_result",
          "data": {
            "text/plain": [
              "enrollee_id                  0\n",
              "city                         0\n",
              "city_development_index     479\n",
              "gender                    4508\n",
              "relevent_experience          0\n",
              "enrolled_university        386\n",
              "education_level            460\n",
              "major_discipline          2813\n",
              "experience                  65\n",
              "company_size              5938\n",
              "company_type              6140\n",
              "training_hours             766\n",
              "target                       0\n",
              "dtype: int64"
            ]
          },
          "metadata": {},
          "execution_count": 4
        }
      ]
    },
    {
      "cell_type": "code",
      "source": [
        "df.isnull().mean()*100"
      ],
      "metadata": {
        "colab": {
          "base_uri": "https://localhost:8080/"
        },
        "id": "NWhPmfrehzQO",
        "outputId": "ea1acd0d-3872-49f0-e3fa-c83d88aa2447"
      },
      "execution_count": null,
      "outputs": [
        {
          "output_type": "execute_result",
          "data": {
            "text/plain": [
              "enrollee_id                0.000000\n",
              "city                       0.000000\n",
              "city_development_index     2.500261\n",
              "gender                    23.530640\n",
              "relevent_experience        0.000000\n",
              "enrolled_university        2.014824\n",
              "education_level            2.401086\n",
              "major_discipline          14.683161\n",
              "experience                 0.339284\n",
              "company_size              30.994885\n",
              "company_type              32.049274\n",
              "training_hours             3.998330\n",
              "target                     0.000000\n",
              "dtype: float64"
            ]
          },
          "metadata": {},
          "execution_count": 5
        }
      ]
    },
    {
      "cell_type": "code",
      "source": [
        "df.shape"
      ],
      "metadata": {
        "colab": {
          "base_uri": "https://localhost:8080/"
        },
        "id": "zL5Kaa7jh2io",
        "outputId": "e0f91d6a-0c1a-4c03-8794-d90f652fb4c5"
      },
      "execution_count": null,
      "outputs": [
        {
          "output_type": "execute_result",
          "data": {
            "text/plain": [
              "(19158, 13)"
            ]
          },
          "metadata": {},
          "execution_count": 6
        }
      ]
    },
    {
      "cell_type": "markdown",
      "source": [
        "##Now we are going toapply CCA on those column which have less than 5% missing value."
      ],
      "metadata": {
        "id": "a_lcPtOSh9Tg"
      }
    },
    {
      "cell_type": "code",
      "source": [
        "cols = [var for var in df.columns if df[var].isnull().mean() < 0.05 and df[var].isnull().mean() > 0]\n",
        "cols"
      ],
      "metadata": {
        "colab": {
          "base_uri": "https://localhost:8080/"
        },
        "id": "GhsmiP7Ph5Rt",
        "outputId": "44152032-46a9-499a-c443-f4d823645fc0"
      },
      "execution_count": null,
      "outputs": [
        {
          "output_type": "execute_result",
          "data": {
            "text/plain": [
              "['city_development_index',\n",
              " 'enrolled_university',\n",
              " 'education_level',\n",
              " 'experience',\n",
              " 'training_hours']"
            ]
          },
          "metadata": {},
          "execution_count": 7
        }
      ]
    },
    {
      "cell_type": "code",
      "source": [
        "df[cols].sample(3)"
      ],
      "metadata": {
        "colab": {
          "base_uri": "https://localhost:8080/",
          "height": 143
        },
        "id": "u8HgXYS4iBnj",
        "outputId": "629556a6-3e72-40e5-d89b-d0e53697e3e6"
      },
      "execution_count": null,
      "outputs": [
        {
          "output_type": "execute_result",
          "data": {
            "text/plain": [
              "       city_development_index enrolled_university education_level  experience  \\\n",
              "15181                   0.754       no_enrollment        Graduate        13.0   \n",
              "6                       0.920       no_enrollment     High School         5.0   \n",
              "6206                    0.789    Full time course             Phd         8.0   \n",
              "\n",
              "       training_hours  \n",
              "15181           128.0  \n",
              "6                24.0  \n",
              "6206             11.0  "
            ],
            "text/html": [
              "\n",
              "  <div id=\"df-23a15ecb-5901-409b-9f22-e64761315343\">\n",
              "    <div class=\"colab-df-container\">\n",
              "      <div>\n",
              "<style scoped>\n",
              "    .dataframe tbody tr th:only-of-type {\n",
              "        vertical-align: middle;\n",
              "    }\n",
              "\n",
              "    .dataframe tbody tr th {\n",
              "        vertical-align: top;\n",
              "    }\n",
              "\n",
              "    .dataframe thead th {\n",
              "        text-align: right;\n",
              "    }\n",
              "</style>\n",
              "<table border=\"1\" class=\"dataframe\">\n",
              "  <thead>\n",
              "    <tr style=\"text-align: right;\">\n",
              "      <th></th>\n",
              "      <th>city_development_index</th>\n",
              "      <th>enrolled_university</th>\n",
              "      <th>education_level</th>\n",
              "      <th>experience</th>\n",
              "      <th>training_hours</th>\n",
              "    </tr>\n",
              "  </thead>\n",
              "  <tbody>\n",
              "    <tr>\n",
              "      <th>15181</th>\n",
              "      <td>0.754</td>\n",
              "      <td>no_enrollment</td>\n",
              "      <td>Graduate</td>\n",
              "      <td>13.0</td>\n",
              "      <td>128.0</td>\n",
              "    </tr>\n",
              "    <tr>\n",
              "      <th>6</th>\n",
              "      <td>0.920</td>\n",
              "      <td>no_enrollment</td>\n",
              "      <td>High School</td>\n",
              "      <td>5.0</td>\n",
              "      <td>24.0</td>\n",
              "    </tr>\n",
              "    <tr>\n",
              "      <th>6206</th>\n",
              "      <td>0.789</td>\n",
              "      <td>Full time course</td>\n",
              "      <td>Phd</td>\n",
              "      <td>8.0</td>\n",
              "      <td>11.0</td>\n",
              "    </tr>\n",
              "  </tbody>\n",
              "</table>\n",
              "</div>\n",
              "      <button class=\"colab-df-convert\" onclick=\"convertToInteractive('df-23a15ecb-5901-409b-9f22-e64761315343')\"\n",
              "              title=\"Convert this dataframe to an interactive table.\"\n",
              "              style=\"display:none;\">\n",
              "        \n",
              "  <svg xmlns=\"http://www.w3.org/2000/svg\" height=\"24px\"viewBox=\"0 0 24 24\"\n",
              "       width=\"24px\">\n",
              "    <path d=\"M0 0h24v24H0V0z\" fill=\"none\"/>\n",
              "    <path d=\"M18.56 5.44l.94 2.06.94-2.06 2.06-.94-2.06-.94-.94-2.06-.94 2.06-2.06.94zm-11 1L8.5 8.5l.94-2.06 2.06-.94-2.06-.94L8.5 2.5l-.94 2.06-2.06.94zm10 10l.94 2.06.94-2.06 2.06-.94-2.06-.94-.94-2.06-.94 2.06-2.06.94z\"/><path d=\"M17.41 7.96l-1.37-1.37c-.4-.4-.92-.59-1.43-.59-.52 0-1.04.2-1.43.59L10.3 9.45l-7.72 7.72c-.78.78-.78 2.05 0 2.83L4 21.41c.39.39.9.59 1.41.59.51 0 1.02-.2 1.41-.59l7.78-7.78 2.81-2.81c.8-.78.8-2.07 0-2.86zM5.41 20L4 18.59l7.72-7.72 1.47 1.35L5.41 20z\"/>\n",
              "  </svg>\n",
              "      </button>\n",
              "      \n",
              "  <style>\n",
              "    .colab-df-container {\n",
              "      display:flex;\n",
              "      flex-wrap:wrap;\n",
              "      gap: 12px;\n",
              "    }\n",
              "\n",
              "    .colab-df-convert {\n",
              "      background-color: #E8F0FE;\n",
              "      border: none;\n",
              "      border-radius: 50%;\n",
              "      cursor: pointer;\n",
              "      display: none;\n",
              "      fill: #1967D2;\n",
              "      height: 32px;\n",
              "      padding: 0 0 0 0;\n",
              "      width: 32px;\n",
              "    }\n",
              "\n",
              "    .colab-df-convert:hover {\n",
              "      background-color: #E2EBFA;\n",
              "      box-shadow: 0px 1px 2px rgba(60, 64, 67, 0.3), 0px 1px 3px 1px rgba(60, 64, 67, 0.15);\n",
              "      fill: #174EA6;\n",
              "    }\n",
              "\n",
              "    [theme=dark] .colab-df-convert {\n",
              "      background-color: #3B4455;\n",
              "      fill: #D2E3FC;\n",
              "    }\n",
              "\n",
              "    [theme=dark] .colab-df-convert:hover {\n",
              "      background-color: #434B5C;\n",
              "      box-shadow: 0px 1px 3px 1px rgba(0, 0, 0, 0.15);\n",
              "      filter: drop-shadow(0px 1px 2px rgba(0, 0, 0, 0.3));\n",
              "      fill: #FFFFFF;\n",
              "    }\n",
              "  </style>\n",
              "\n",
              "      <script>\n",
              "        const buttonEl =\n",
              "          document.querySelector('#df-23a15ecb-5901-409b-9f22-e64761315343 button.colab-df-convert');\n",
              "        buttonEl.style.display =\n",
              "          google.colab.kernel.accessAllowed ? 'block' : 'none';\n",
              "\n",
              "        async function convertToInteractive(key) {\n",
              "          const element = document.querySelector('#df-23a15ecb-5901-409b-9f22-e64761315343');\n",
              "          const dataTable =\n",
              "            await google.colab.kernel.invokeFunction('convertToInteractive',\n",
              "                                                     [key], {});\n",
              "          if (!dataTable) return;\n",
              "\n",
              "          const docLinkHtml = 'Like what you see? Visit the ' +\n",
              "            '<a target=\"_blank\" href=https://colab.research.google.com/notebooks/data_table.ipynb>data table notebook</a>'\n",
              "            + ' to learn more about interactive tables.';\n",
              "          element.innerHTML = '';\n",
              "          dataTable['output_type'] = 'display_data';\n",
              "          await google.colab.output.renderOutput(dataTable, element);\n",
              "          const docLink = document.createElement('div');\n",
              "          docLink.innerHTML = docLinkHtml;\n",
              "          element.appendChild(docLink);\n",
              "        }\n",
              "      </script>\n",
              "    </div>\n",
              "  </div>\n",
              "  "
            ]
          },
          "metadata": {},
          "execution_count": 8
        }
      ]
    },
    {
      "cell_type": "code",
      "source": [
        "len(df[cols].dropna())"
      ],
      "metadata": {
        "colab": {
          "base_uri": "https://localhost:8080/"
        },
        "id": "0mEl9M29iEC0",
        "outputId": "e42fab49-92c6-48ea-d087-14358f68c50c"
      },
      "execution_count": null,
      "outputs": [
        {
          "output_type": "execute_result",
          "data": {
            "text/plain": [
              "17182"
            ]
          },
          "metadata": {},
          "execution_count": 9
        }
      ]
    },
    {
      "cell_type": "code",
      "source": [
        "len(df)"
      ],
      "metadata": {
        "colab": {
          "base_uri": "https://localhost:8080/"
        },
        "id": "Bt0a6f2AiGvB",
        "outputId": "a5607ba8-87ef-4daf-ff83-c06ce1baee2d"
      },
      "execution_count": null,
      "outputs": [
        {
          "output_type": "execute_result",
          "data": {
            "text/plain": [
              "19158"
            ]
          },
          "metadata": {},
          "execution_count": 10
        }
      ]
    },
    {
      "cell_type": "code",
      "source": [
        "len(df[cols].dropna())/len(df)"
      ],
      "metadata": {
        "colab": {
          "base_uri": "https://localhost:8080/"
        },
        "id": "xYvv7atniKua",
        "outputId": "8f3204f1-a11c-4db8-c2c1-43ef078de725"
      },
      "execution_count": null,
      "outputs": [
        {
          "output_type": "execute_result",
          "data": {
            "text/plain": [
              "0.8968577095730244"
            ]
          },
          "metadata": {},
          "execution_count": 11
        }
      ]
    },
    {
      "cell_type": "code",
      "source": [
        "new_df = df[cols].dropna()\n",
        "df.shape, new_df.shape"
      ],
      "metadata": {
        "colab": {
          "base_uri": "https://localhost:8080/"
        },
        "id": "UW9yCJGeiNUV",
        "outputId": "de603ac5-c707-492e-8b6f-4186a93ca45f"
      },
      "execution_count": null,
      "outputs": [
        {
          "output_type": "execute_result",
          "data": {
            "text/plain": [
              "((19158, 13), (17182, 5))"
            ]
          },
          "metadata": {},
          "execution_count": 12
        }
      ]
    },
    {
      "cell_type": "markdown",
      "source": [
        "## Now plot the histogram and observe the output of it on numerical columns after apply the CCA.\n",
        "## Note that you have tocheck the distribution of the data before apply CCA and after the apply the CCA. if the both distribution have campareble then you can apply the CCA but if there is a big change in the distribution then avoid the CCA."
      ],
      "metadata": {
        "id": "3f2Dcd1viWFu"
      }
    },
    {
      "cell_type": "code",
      "source": [
        "new_df.hist(bins=50, density=True, figsize=(12, 12))\n",
        "plt.show()"
      ],
      "metadata": {
        "colab": {
          "base_uri": "https://localhost:8080/",
          "height": 716
        },
        "id": "ClJBomptiQy_",
        "outputId": "06ec1e66-fb48-4c0a-e3ef-e0fc8a9c867f"
      },
      "execution_count": null,
      "outputs": [
        {
          "output_type": "display_data",
          "data": {
            "text/plain": [
              "<Figure size 864x864 with 4 Axes>"
            ],
            "image/png": "[encoded data removed]"
          },
          "metadata": {
            "needs_background": "light"
          }
        }
      ]
    },
    {
      "cell_type": "markdown",
      "source": [
        "##Now Analysis individually one by one"
      ],
      "metadata": {
        "id": "AfJx-zznin3Q"
      }
    },
    {
      "cell_type": "code",
      "source": [
        "fig = plt.figure()\n",
        "ax = fig.add_subplot(111)\n",
        "\n",
        "# original data\n",
        "df['training_hours'].hist(bins=50, ax=ax, density=True, color='red')\n",
        "\n",
        "# data after cca, the argument alpha makes the color transparent, so we can\n",
        "# see the overlay of the 2 distributions\n",
        "new_df['training_hours'].hist(bins=50, ax=ax, color='green', density=True, alpha=0.8)\n"
      ],
      "metadata": {
        "colab": {
          "base_uri": "https://localhost:8080/",
          "height": 282
        },
        "id": "1uLmzrssikJj",
        "outputId": "a021f27c-c18e-4fbf-c687-45b1b2bf1bf9"
      },
      "execution_count": null,
      "outputs": [
        {
          "output_type": "execute_result",
          "data": {
            "text/plain": [
              "<matplotlib.axes._subplots.AxesSubplot at 0x7f0b8553bc50>"
            ]
          },
          "metadata": {},
          "execution_count": 14
        },
        {
          "output_type": "display_data",
          "data": {
            "text/plain": [
              "<Figure size 432x288 with 1 Axes>"
            ],
            "image/png": "[encoded data removed]"
          },
          "metadata": {
            "needs_background": "light"
          }
        }
      ]
    },
    {
      "cell_type": "code",
      "source": [
        "fig = plt.figure()\n",
        "ax = fig.add_subplot(111)\n",
        "\n",
        "# original data\n",
        "df['training_hours'].plot.density(color='red')\n",
        "\n",
        "# data after cca\n",
        "new_df['training_hours'].plot.density(color='green')"
      ],
      "metadata": {
        "colab": {
          "base_uri": "https://localhost:8080/",
          "height": 282
        },
        "id": "lhR5lx4Sir7T",
        "outputId": "6ffaff02-a9d5-4620-a5a7-722d0e93b4a7"
      },
      "execution_count": null,
      "outputs": [
        {
          "output_type": "execute_result",
          "data": {
            "text/plain": [
              "<matplotlib.axes._subplots.AxesSubplot at 0x7f0b84c60950>"
            ]
          },
          "metadata": {},
          "execution_count": 15
        },
        {
          "output_type": "display_data",
          "data": {
            "text/plain": [
              "<Figure size 432x288 with 1 Axes>"
            ],
            "image/png": "[encoded data removed]"
          },
          "metadata": {
            "needs_background": "light"
          }
        }
      ]
    },
    {
      "cell_type": "code",
      "source": [
        "fig = plt.figure()\n",
        "ax = fig.add_subplot(111)\n",
        "\n",
        "# original data\n",
        "df['city_development_index'].hist(bins=50, ax=ax, density=True, color='red')\n",
        "\n",
        "# data after cca, the argument alpha makes the color transparent, so we can\n",
        "# see the overlay of the 2 distributions\n",
        "new_df['city_development_index'].hist(bins=50, ax=ax, color='green', density=True, alpha=0.8)\n"
      ],
      "metadata": {
        "colab": {
          "base_uri": "https://localhost:8080/",
          "height": 282
        },
        "id": "8kIfqzB5ivB-",
        "outputId": "00e0f2c7-1c9c-4355-f4bb-7f54d2c59840"
      },
      "execution_count": null,
      "outputs": [
        {
          "output_type": "execute_result",
          "data": {
            "text/plain": [
              "<matplotlib.axes._subplots.AxesSubplot at 0x7f0b76ba0cd0>"
            ]
          },
          "metadata": {},
          "execution_count": 16
        },
        {
          "output_type": "display_data",
          "data": {
            "text/plain": [
              "<Figure size 432x288 with 1 Axes>"
            ],
            "image/png": "[encoded data removed]"
          },
          "metadata": {
            "needs_background": "light"
          }
        }
      ]
    },
    {
      "cell_type": "code",
      "source": [
        "fig = plt.figure()\n",
        "ax = fig.add_subplot(111)\n",
        "\n",
        "# original data\n",
        "df['city_development_index'].plot.density(color='red')\n",
        "\n",
        "# data after cca\n",
        "new_df['city_development_index'].plot.density(color='green')"
      ],
      "metadata": {
        "colab": {
          "base_uri": "https://localhost:8080/",
          "height": 282
        },
        "id": "b3mdmBd-ixvv",
        "outputId": "fa5c57ed-7842-4b36-bdf4-aa7c6397182b"
      },
      "execution_count": null,
      "outputs": [
        {
          "output_type": "execute_result",
          "data": {
            "text/plain": [
              "<matplotlib.axes._subplots.AxesSubplot at 0x7f0b769cc210>"
            ]
          },
          "metadata": {},
          "execution_count": 17
        },
        {
          "output_type": "display_data",
          "data": {
            "text/plain": [
              "<Figure size 432x288 with 1 Axes>"
            ],
            "image/png": "[encoded data removed]"
          },
          "metadata": {
            "needs_background": "light"
          }
        }
      ]
    },
    {
      "cell_type": "code",
      "source": [
        "fig = plt.figure()\n",
        "ax = fig.add_subplot(111)\n",
        "\n",
        "# original data\n",
        "df['experience'].hist(bins=50, ax=ax, density=True, color='red')\n",
        "\n",
        "# data after cca, the argument alpha makes the color transparent, so we can\n",
        "# see the overlay of the 2 distributions\n",
        "new_df['experience'].hist(bins=50, ax=ax, color='green', density=True, alpha=0.8)"
      ],
      "metadata": {
        "colab": {
          "base_uri": "https://localhost:8080/",
          "height": 282
        },
        "id": "Ykl3aHYGi03s",
        "outputId": "fe211644-614c-4c1d-c184-8a014e6d4c0c"
      },
      "execution_count": null,
      "outputs": [
        {
          "output_type": "execute_result",
          "data": {
            "text/plain": [
              "<matplotlib.axes._subplots.AxesSubplot at 0x7f0b76ba0d10>"
            ]
          },
          "metadata": {},
          "execution_count": 18
        },
        {
          "output_type": "display_data",
          "data": {
            "text/plain": [
              "<Figure size 432x288 with 1 Axes>"
            ],
            "image/png": "[encoded data removed]"
          },
          "metadata": {
            "needs_background": "light"
          }
        }
      ]
    },
    {
      "cell_type": "code",
      "source": [
        "fig = plt.figure()\n",
        "ax = fig.add_subplot(111)\n",
        "\n",
        "# original data\n",
        "df['experience'].plot.density(color='red')\n",
        "\n",
        "# data after cca\n",
        "new_df['experience'].plot.density(color='green')"
      ],
      "metadata": {
        "colab": {
          "base_uri": "https://localhost:8080/",
          "height": 282
        },
        "id": "Mcyry9gki3Wc",
        "outputId": "29e8b230-b44f-4474-972d-db44a2102592"
      },
      "execution_count": null,
      "outputs": [
        {
          "output_type": "execute_result",
          "data": {
            "text/plain": [
              "<matplotlib.axes._subplots.AxesSubplot at 0x7f0b769a6ed0>"
            ]
          },
          "metadata": {},
          "execution_count": 19
        },
        {
          "output_type": "display_data",
          "data": {
            "text/plain": [
              "<Figure size 432x288 with 1 Axes>"
            ],
            "image/png": "[encoded data removed]"
          },
          "metadata": {
            "needs_background": "light"
          }
        }
      ]
    },
    {
      "cell_type": "markdown",
      "source": [
        "##Now work on **categorical columns**, in the case of categorical data there are some category in the columns so you sholud know that categories first."
      ],
      "metadata": {
        "id": "Dm2TL8Z5i_04"
      }
    },
    {
      "cell_type": "code",
      "source": [
        "df['enrolled_university'].value_counts()"
      ],
      "metadata": {
        "colab": {
          "base_uri": "https://localhost:8080/"
        },
        "id": "-_Y6UFhgi5zV",
        "outputId": "b8ce85cf-8080-40a1-cbd8-ca281011e963"
      },
      "execution_count": null,
      "outputs": [
        {
          "output_type": "execute_result",
          "data": {
            "text/plain": [
              "no_enrollment       13817\n",
              "Full time course     3757\n",
              "Part time course     1198\n",
              "Name: enrolled_university, dtype: int64"
            ]
          },
          "metadata": {},
          "execution_count": 20
        }
      ]
    },
    {
      "cell_type": "code",
      "source": [
        "df['education_level'].value_counts()"
      ],
      "metadata": {
        "colab": {
          "base_uri": "https://localhost:8080/"
        },
        "id": "Z836GB0WjHrZ",
        "outputId": "49926dc6-0184-43f6-ddc9-90bd228b5ff3"
      },
      "execution_count": null,
      "outputs": [
        {
          "output_type": "execute_result",
          "data": {
            "text/plain": [
              "Graduate          11598\n",
              "Masters            4361\n",
              "High School        2017\n",
              "Phd                 414\n",
              "Primary School      308\n",
              "Name: education_level, dtype: int64"
            ]
          },
          "metadata": {},
          "execution_count": 21
        }
      ]
    },
    {
      "cell_type": "markdown",
      "source": [
        "##So what you should know that before CCA the ratio in whole data of each category must be same after the apply CCA. By this we ca conclude that we are working on Missing completlty at random approach"
      ],
      "metadata": {
        "id": "ODC1GPQ6jTIM"
      }
    },
    {
      "cell_type": "code",
      "source": [
        "temp = pd.concat([\n",
        "            # percentage of observations per category, original data\n",
        "            df['enrolled_university'].value_counts() / len(df),\n",
        "\n",
        "            # percentage of observations per category, cca data\n",
        "            new_df['enrolled_university'].value_counts() / len(new_df)\n",
        "        ],\n",
        "        axis=1)\n",
        "\n",
        "# add column names\n",
        "temp.columns = ['original', 'cca']\n",
        "\n",
        "temp"
      ],
      "metadata": {
        "colab": {
          "base_uri": "https://localhost:8080/",
          "height": 143
        },
        "id": "oyLVrCXajKQw",
        "outputId": "bdab3ec6-a47e-481f-8ed3-5ce75e467bf6"
      },
      "execution_count": null,
      "outputs": [
        {
          "output_type": "execute_result",
          "data": {
            "text/plain": [
              "                  original       cca\n",
              "no_enrollment     0.721213  0.735188\n",
              "Full time course  0.196106  0.200733\n",
              "Part time course  0.062533  0.064079"
            ],
            "text/html": [
              "\n",
              "  <div id=\"df-053ba760-e78a-466e-991b-f3f8fe2bb6b1\">\n",
              "    <div class=\"colab-df-container\">\n",
              "      <div>\n",
              "<style scoped>\n",
              "    .dataframe tbody tr th:only-of-type {\n",
              "        vertical-align: middle;\n",
              "    }\n",
              "\n",
              "    .dataframe tbody tr th {\n",
              "        vertical-align: top;\n",
              "    }\n",
              "\n",
              "    .dataframe thead th {\n",
              "        text-align: right;\n",
              "    }\n",
              "</style>\n",
              "<table border=\"1\" class=\"dataframe\">\n",
              "  <thead>\n",
              "    <tr style=\"text-align: right;\">\n",
              "      <th></th>\n",
              "      <th>original</th>\n",
              "      <th>cca</th>\n",
              "    </tr>\n",
              "  </thead>\n",
              "  <tbody>\n",
              "    <tr>\n",
              "      <th>no_enrollment</th>\n",
              "      <td>0.721213</td>\n",
              "      <td>0.735188</td>\n",
              "    </tr>\n",
              "    <tr>\n",
              "      <th>Full time course</th>\n",
              "      <td>0.196106</td>\n",
              "      <td>0.200733</td>\n",
              "    </tr>\n",
              "    <tr>\n",
              "      <th>Part time course</th>\n",
              "      <td>0.062533</td>\n",
              "      <td>0.064079</td>\n",
              "    </tr>\n",
              "  </tbody>\n",
              "</table>\n",
              "</div>\n",
              "      <button class=\"colab-df-convert\" onclick=\"convertToInteractive('df-053ba760-e78a-466e-991b-f3f8fe2bb6b1')\"\n",
              "              title=\"Convert this dataframe to an interactive table.\"\n",
              "              style=\"display:none;\">\n",
              "        \n",
              "  <svg xmlns=\"http://www.w3.org/2000/svg\" height=\"24px\"viewBox=\"0 0 24 24\"\n",
              "       width=\"24px\">\n",
              "    <path d=\"M0 0h24v24H0V0z\" fill=\"none\"/>\n",
              "    <path d=\"M18.56 5.44l.94 2.06.94-2.06 2.06-.94-2.06-.94-.94-2.06-.94 2.06-2.06.94zm-11 1L8.5 8.5l.94-2.06 2.06-.94-2.06-.94L8.5 2.5l-.94 2.06-2.06.94zm10 10l.94 2.06.94-2.06 2.06-.94-2.06-.94-.94-2.06-.94 2.06-2.06.94z\"/><path d=\"M17.41 7.96l-1.37-1.37c-.4-.4-.92-.59-1.43-.59-.52 0-1.04.2-1.43.59L10.3 9.45l-7.72 7.72c-.78.78-.78 2.05 0 2.83L4 21.41c.39.39.9.59 1.41.59.51 0 1.02-.2 1.41-.59l7.78-7.78 2.81-2.81c.8-.78.8-2.07 0-2.86zM5.41 20L4 18.59l7.72-7.72 1.47 1.35L5.41 20z\"/>\n",
              "  </svg>\n",
              "      </button>\n",
              "      \n",
              "  <style>\n",
              "    .colab-df-container {\n",
              "      display:flex;\n",
              "      flex-wrap:wrap;\n",
              "      gap: 12px;\n",
              "    }\n",
              "\n",
              "    .colab-df-convert {\n",
              "      background-color: #E8F0FE;\n",
              "      border: none;\n",
              "      border-radius: 50%;\n",
              "      cursor: pointer;\n",
              "      display: none;\n",
              "      fill: #1967D2;\n",
              "      height: 32px;\n",
              "      padding: 0 0 0 0;\n",
              "      width: 32px;\n",
              "    }\n",
              "\n",
              "    .colab-df-convert:hover {\n",
              "      background-color: #E2EBFA;\n",
              "      box-shadow: 0px 1px 2px rgba(60, 64, 67, 0.3), 0px 1px 3px 1px rgba(60, 64, 67, 0.15);\n",
              "      fill: #174EA6;\n",
              "    }\n",
              "\n",
              "    [theme=dark] .colab-df-convert {\n",
              "      background-color: #3B4455;\n",
              "      fill: #D2E3FC;\n",
              "    }\n",
              "\n",
              "    [theme=dark] .colab-df-convert:hover {\n",
              "      background-color: #434B5C;\n",
              "      box-shadow: 0px 1px 3px 1px rgba(0, 0, 0, 0.15);\n",
              "      filter: drop-shadow(0px 1px 2px rgba(0, 0, 0, 0.3));\n",
              "      fill: #FFFFFF;\n",
              "    }\n",
              "  </style>\n",
              "\n",
              "      <script>\n",
              "        const buttonEl =\n",
              "          document.querySelector('#df-053ba760-e78a-466e-991b-f3f8fe2bb6b1 button.colab-df-convert');\n",
              "        buttonEl.style.display =\n",
              "          google.colab.kernel.accessAllowed ? 'block' : 'none';\n",
              "\n",
              "        async function convertToInteractive(key) {\n",
              "          const element = document.querySelector('#df-053ba760-e78a-466e-991b-f3f8fe2bb6b1');\n",
              "          const dataTable =\n",
              "            await google.colab.kernel.invokeFunction('convertToInteractive',\n",
              "                                                     [key], {});\n",
              "          if (!dataTable) return;\n",
              "\n",
              "          const docLinkHtml = 'Like what you see? Visit the ' +\n",
              "            '<a target=\"_blank\" href=https://colab.research.google.com/notebooks/data_table.ipynb>data table notebook</a>'\n",
              "            + ' to learn more about interactive tables.';\n",
              "          element.innerHTML = '';\n",
              "          dataTable['output_type'] = 'display_data';\n",
              "          await google.colab.output.renderOutput(dataTable, element);\n",
              "          const docLink = document.createElement('div');\n",
              "          docLink.innerHTML = docLinkHtml;\n",
              "          element.appendChild(docLink);\n",
              "        }\n",
              "      </script>\n",
              "    </div>\n",
              "  </div>\n",
              "  "
            ]
          },
          "metadata": {},
          "execution_count": 22
        }
      ]
    },
    {
      "cell_type": "code",
      "source": [
        "temp = pd.concat([\n",
        "            # percentage of observations per category, original data\n",
        "            df['education_level'].value_counts() / len(df),\n",
        "\n",
        "            # percentage of observations per category, cca data\n",
        "            new_df['education_level'].value_counts() / len(new_df)\n",
        "        ],\n",
        "        axis=1)\n",
        "\n",
        "# add column names\n",
        "temp.columns = ['original', 'cca']\n",
        "\n",
        "temp"
      ],
      "metadata": {
        "colab": {
          "base_uri": "https://localhost:8080/",
          "height": 206
        },
        "id": "vmPNaGdNjW9K",
        "outputId": "bc0e6bab-25ba-43ec-e789-cbfbd51b0c41"
      },
      "execution_count": null,
      "outputs": [
        {
          "output_type": "execute_result",
          "data": {
            "text/plain": [
              "                original       cca\n",
              "Graduate        0.605387  0.619835\n",
              "Masters         0.227633  0.234082\n",
              "High School     0.105282  0.107380\n",
              "Phd             0.021610  0.022116\n",
              "Primary School  0.016077  0.016587"
            ],
            "text/html": [
              "\n",
              "  <div id=\"df-efefbbdb-7a4c-41d8-bd5a-a2bc1309596e\">\n",
              "    <div class=\"colab-df-container\">\n",
              "      <div>\n",
              "<style scoped>\n",
              "    .dataframe tbody tr th:only-of-type {\n",
              "        vertical-align: middle;\n",
              "    }\n",
              "\n",
              "    .dataframe tbody tr th {\n",
              "        vertical-align: top;\n",
              "    }\n",
              "\n",
              "    .dataframe thead th {\n",
              "        text-align: right;\n",
              "    }\n",
              "</style>\n",
              "<table border=\"1\" class=\"dataframe\">\n",
              "  <thead>\n",
              "    <tr style=\"text-align: right;\">\n",
              "      <th></th>\n",
              "      <th>original</th>\n",
              "      <th>cca</th>\n",
              "    </tr>\n",
              "  </thead>\n",
              "  <tbody>\n",
              "    <tr>\n",
              "      <th>Graduate</th>\n",
              "      <td>0.605387</td>\n",
              "      <td>0.619835</td>\n",
              "    </tr>\n",
              "    <tr>\n",
              "      <th>Masters</th>\n",
              "      <td>0.227633</td>\n",
              "      <td>0.234082</td>\n",
              "    </tr>\n",
              "    <tr>\n",
              "      <th>High School</th>\n",
              "      <td>0.105282</td>\n",
              "      <td>0.107380</td>\n",
              "    </tr>\n",
              "    <tr>\n",
              "      <th>Phd</th>\n",
              "      <td>0.021610</td>\n",
              "      <td>0.022116</td>\n",
              "    </tr>\n",
              "    <tr>\n",
              "      <th>Primary School</th>\n",
              "      <td>0.016077</td>\n",
              "      <td>0.016587</td>\n",
              "    </tr>\n",
              "  </tbody>\n",
              "</table>\n",
              "</div>\n",
              "      <button class=\"colab-df-convert\" onclick=\"convertToInteractive('df-efefbbdb-7a4c-41d8-bd5a-a2bc1309596e')\"\n",
              "              title=\"Convert this dataframe to an interactive table.\"\n",
              "              style=\"display:none;\">\n",
              "        \n",
              "  <svg xmlns=\"http://www.w3.org/2000/svg\" height=\"24px\"viewBox=\"0 0 24 24\"\n",
              "       width=\"24px\">\n",
              "    <path d=\"M0 0h24v24H0V0z\" fill=\"none\"/>\n",
              "    <path d=\"M18.56 5.44l.94 2.06.94-2.06 2.06-.94-2.06-.94-.94-2.06-.94 2.06-2.06.94zm-11 1L8.5 8.5l.94-2.06 2.06-.94-2.06-.94L8.5 2.5l-.94 2.06-2.06.94zm10 10l.94 2.06.94-2.06 2.06-.94-2.06-.94-.94-2.06-.94 2.06-2.06.94z\"/><path d=\"M17.41 7.96l-1.37-1.37c-.4-.4-.92-.59-1.43-.59-.52 0-1.04.2-1.43.59L10.3 9.45l-7.72 7.72c-.78.78-.78 2.05 0 2.83L4 21.41c.39.39.9.59 1.41.59.51 0 1.02-.2 1.41-.59l7.78-7.78 2.81-2.81c.8-.78.8-2.07 0-2.86zM5.41 20L4 18.59l7.72-7.72 1.47 1.35L5.41 20z\"/>\n",
              "  </svg>\n",
              "      </button>\n",
              "      \n",
              "  <style>\n",
              "    .colab-df-container {\n",
              "      display:flex;\n",
              "      flex-wrap:wrap;\n",
              "      gap: 12px;\n",
              "    }\n",
              "\n",
              "    .colab-df-convert {\n",
              "      background-color: #E8F0FE;\n",
              "      border: none;\n",
              "      border-radius: 50%;\n",
              "      cursor: pointer;\n",
              "      display: none;\n",
              "      fill: #1967D2;\n",
              "      height: 32px;\n",
              "      padding: 0 0 0 0;\n",
              "      width: 32px;\n",
              "    }\n",
              "\n",
              "    .colab-df-convert:hover {\n",
              "      background-color: #E2EBFA;\n",
              "      box-shadow: 0px 1px 2px rgba(60, 64, 67, 0.3), 0px 1px 3px 1px rgba(60, 64, 67, 0.15);\n",
              "      fill: #174EA6;\n",
              "    }\n",
              "\n",
              "    [theme=dark] .colab-df-convert {\n",
              "      background-color: #3B4455;\n",
              "      fill: #D2E3FC;\n",
              "    }\n",
              "\n",
              "    [theme=dark] .colab-df-convert:hover {\n",
              "      background-color: #434B5C;\n",
              "      box-shadow: 0px 1px 3px 1px rgba(0, 0, 0, 0.15);\n",
              "      filter: drop-shadow(0px 1px 2px rgba(0, 0, 0, 0.3));\n",
              "      fill: #FFFFFF;\n",
              "    }\n",
              "  </style>\n",
              "\n",
              "      <script>\n",
              "        const buttonEl =\n",
              "          document.querySelector('#df-efefbbdb-7a4c-41d8-bd5a-a2bc1309596e button.colab-df-convert');\n",
              "        buttonEl.style.display =\n",
              "          google.colab.kernel.accessAllowed ? 'block' : 'none';\n",
              "\n",
              "        async function convertToInteractive(key) {\n",
              "          const element = document.querySelector('#df-efefbbdb-7a4c-41d8-bd5a-a2bc1309596e');\n",
              "          const dataTable =\n",
              "            await google.colab.kernel.invokeFunction('convertToInteractive',\n",
              "                                                     [key], {});\n",
              "          if (!dataTable) return;\n",
              "\n",
              "          const docLinkHtml = 'Like what you see? Visit the ' +\n",
              "            '<a target=\"_blank\" href=https://colab.research.google.com/notebooks/data_table.ipynb>data table notebook</a>'\n",
              "            + ' to learn more about interactive tables.';\n",
              "          element.innerHTML = '';\n",
              "          dataTable['output_type'] = 'display_data';\n",
              "          await google.colab.output.renderOutput(dataTable, element);\n",
              "          const docLink = document.createElement('div');\n",
              "          docLink.innerHTML = docLinkHtml;\n",
              "          element.appendChild(docLink);\n",
              "        }\n",
              "      </script>\n",
              "    </div>\n",
              "  </div>\n",
              "  "
            ]
          },
          "metadata": {},
          "execution_count": 23
        }
      ]
    },
    {
      "cell_type": "markdown",
      "source": [
        "## you should know before the removing rows that missing completely at random criteria is fulfill or not.if it is not then we can not apply CCA. or we have loose some important information.But one problem is here that when we apply this on production then it will not handle missing value because we did not train our model to handle missing value so you should understand this there should not missing value at the production.\n",
        "## That is why most of the person do not use CCA they try to fill or impute the missing values."
      ],
      "metadata": {
        "id": "6-EDunHVjfbA"
      }
    },
    {
      "cell_type": "markdown",
      "source": [
        "# Handling Missing Numerical Data\n",
        "## Numerical Columns can be impute by 2 ways first is unvariate impute and second is multivariate impute.\n",
        "## Univariate imputation means you are using columns values for the imputation of missing value of that same column means you can choose mean or median.\n",
        "## in mutivariate imputation means you are impute the missing value of a column and using the other columns values for filling the missing value.we will studies 2 technique here first is KNN imputer and second is itartaive imputer.\n",
        "## Now usderstand univariate imputation for numerical column. we can also apply this on categorical columns but first we will work on numerical columns.\n",
        "## so will discuss the 4 technique to fill the missing \n",
        "## a. mean/median\n",
        "## b. Arbitrary value\n",
        "## c. end of distribution\n",
        "## d. Random value"
      ],
      "metadata": {
        "id": "N32DBJP8jgx0"
      }
    },
    {
      "cell_type": "markdown",
      "source": [
        "##Mean/Median--if your distribution is normal then you can go for Mean and if your distribution is skewed right or left side then you should go for Median.if you have greater then 5% missing value then it is not so reliable.The disadvanatge of this is it change the distribution of data.It may be we got some outliers. it may be change in covariance or corelation. You should use it when your data is MCAR and data is missing less then 5%."
      ],
      "metadata": {
        "id": "Z1iQXVpDjod0"
      }
    },
    {
      "cell_type": "code",
      "source": [
        "import pandas as pd\n",
        "import numpy as np\n",
        "import matplotlib.pyplot as plt"
      ],
      "metadata": {
        "id": "_FK_1QjSjagE"
      },
      "execution_count": null,
      "outputs": []
    },
    {
      "cell_type": "code",
      "source": [
        "from sklearn.model_selection import train_test_split\n",
        "from sklearn.impute import SimpleImputer\n",
        "from sklearn.compose import ColumnTransformer"
      ],
      "metadata": {
        "id": "JlZCgklOjs3r"
      },
      "execution_count": null,
      "outputs": []
    },
    {
      "cell_type": "code",
      "source": [
        "df=pd.read_csv('/content/drive/MyDrive/Colab Notebooks/0machine learning/csv data/titanic_toy.csv')\n",
        "df.head()"
      ],
      "metadata": {
        "colab": {
          "base_uri": "https://localhost:8080/",
          "height": 206
        },
        "id": "fLt3OL9mjvYE",
        "outputId": "e7ae4842-b0e9-4bfd-d241-c272e46939c0"
      },
      "execution_count": null,
      "outputs": [
        {
          "output_type": "execute_result",
          "data": {
            "text/plain": [
              "    Age     Fare  Family  Survived\n",
              "0  22.0   7.2500       1         0\n",
              "1  38.0  71.2833       1         1\n",
              "2  26.0   7.9250       0         1\n",
              "3  35.0  53.1000       1         1\n",
              "4  35.0   8.0500       0         0"
            ],
            "text/html": [
              "\n",
              "  <div id=\"df-78be8615-ce89-47d3-a6e0-f5d1794fe957\">\n",
              "    <div class=\"colab-df-container\">\n",
              "      <div>\n",
              "<style scoped>\n",
              "    .dataframe tbody tr th:only-of-type {\n",
              "        vertical-align: middle;\n",
              "    }\n",
              "\n",
              "    .dataframe tbody tr th {\n",
              "        vertical-align: top;\n",
              "    }\n",
              "\n",
              "    .dataframe thead th {\n",
              "        text-align: right;\n",
              "    }\n",
              "</style>\n",
              "<table border=\"1\" class=\"dataframe\">\n",
              "  <thead>\n",
              "    <tr style=\"text-align: right;\">\n",
              "      <th></th>\n",
              "      <th>Age</th>\n",
              "      <th>Fare</th>\n",
              "      <th>Family</th>\n",
              "      <th>Survived</th>\n",
              "    </tr>\n",
              "  </thead>\n",
              "  <tbody>\n",
              "    <tr>\n",
              "      <th>0</th>\n",
              "      <td>22.0</td>\n",
              "      <td>7.2500</td>\n",
              "      <td>1</td>\n",
              "      <td>0</td>\n",
              "    </tr>\n",
              "    <tr>\n",
              "      <th>1</th>\n",
              "      <td>38.0</td>\n",
              "      <td>71.2833</td>\n",
              "      <td>1</td>\n",
              "      <td>1</td>\n",
              "    </tr>\n",
              "    <tr>\n",
              "      <th>2</th>\n",
              "      <td>26.0</td>\n",
              "      <td>7.9250</td>\n",
              "      <td>0</td>\n",
              "      <td>1</td>\n",
              "    </tr>\n",
              "    <tr>\n",
              "      <th>3</th>\n",
              "      <td>35.0</td>\n",
              "      <td>53.1000</td>\n",
              "      <td>1</td>\n",
              "      <td>1</td>\n",
              "    </tr>\n",
              "    <tr>\n",
              "      <th>4</th>\n",
              "      <td>35.0</td>\n",
              "      <td>8.0500</td>\n",
              "      <td>0</td>\n",
              "      <td>0</td>\n",
              "    </tr>\n",
              "  </tbody>\n",
              "</table>\n",
              "</div>\n",
              "      <button class=\"colab-df-convert\" onclick=\"convertToInteractive('df-78be8615-ce89-47d3-a6e0-f5d1794fe957')\"\n",
              "              title=\"Convert this dataframe to an interactive table.\"\n",
              "              style=\"display:none;\">\n",
              "        \n",
              "  <svg xmlns=\"http://www.w3.org/2000/svg\" height=\"24px\"viewBox=\"0 0 24 24\"\n",
              "       width=\"24px\">\n",
              "    <path d=\"M0 0h24v24H0V0z\" fill=\"none\"/>\n",
              "    <path d=\"M18.56 5.44l.94 2.06.94-2.06 2.06-.94-2.06-.94-.94-2.06-.94 2.06-2.06.94zm-11 1L8.5 8.5l.94-2.06 2.06-.94-2.06-.94L8.5 2.5l-.94 2.06-2.06.94zm10 10l.94 2.06.94-2.06 2.06-.94-2.06-.94-.94-2.06-.94 2.06-2.06.94z\"/><path d=\"M17.41 7.96l-1.37-1.37c-.4-.4-.92-.59-1.43-.59-.52 0-1.04.2-1.43.59L10.3 9.45l-7.72 7.72c-.78.78-.78 2.05 0 2.83L4 21.41c.39.39.9.59 1.41.59.51 0 1.02-.2 1.41-.59l7.78-7.78 2.81-2.81c.8-.78.8-2.07 0-2.86zM5.41 20L4 18.59l7.72-7.72 1.47 1.35L5.41 20z\"/>\n",
              "  </svg>\n",
              "      </button>\n",
              "      \n",
              "  <style>\n",
              "    .colab-df-container {\n",
              "      display:flex;\n",
              "      flex-wrap:wrap;\n",
              "      gap: 12px;\n",
              "    }\n",
              "\n",
              "    .colab-df-convert {\n",
              "      background-color: #E8F0FE;\n",
              "      border: none;\n",
              "      border-radius: 50%;\n",
              "      cursor: pointer;\n",
              "      display: none;\n",
              "      fill: #1967D2;\n",
              "      height: 32px;\n",
              "      padding: 0 0 0 0;\n",
              "      width: 32px;\n",
              "    }\n",
              "\n",
              "    .colab-df-convert:hover {\n",
              "      background-color: #E2EBFA;\n",
              "      box-shadow: 0px 1px 2px rgba(60, 64, 67, 0.3), 0px 1px 3px 1px rgba(60, 64, 67, 0.15);\n",
              "      fill: #174EA6;\n",
              "    }\n",
              "\n",
              "    [theme=dark] .colab-df-convert {\n",
              "      background-color: #3B4455;\n",
              "      fill: #D2E3FC;\n",
              "    }\n",
              "\n",
              "    [theme=dark] .colab-df-convert:hover {\n",
              "      background-color: #434B5C;\n",
              "      box-shadow: 0px 1px 3px 1px rgba(0, 0, 0, 0.15);\n",
              "      filter: drop-shadow(0px 1px 2px rgba(0, 0, 0, 0.3));\n",
              "      fill: #FFFFFF;\n",
              "    }\n",
              "  </style>\n",
              "\n",
              "      <script>\n",
              "        const buttonEl =\n",
              "          document.querySelector('#df-78be8615-ce89-47d3-a6e0-f5d1794fe957 button.colab-df-convert');\n",
              "        buttonEl.style.display =\n",
              "          google.colab.kernel.accessAllowed ? 'block' : 'none';\n",
              "\n",
              "        async function convertToInteractive(key) {\n",
              "          const element = document.querySelector('#df-78be8615-ce89-47d3-a6e0-f5d1794fe957');\n",
              "          const dataTable =\n",
              "            await google.colab.kernel.invokeFunction('convertToInteractive',\n",
              "                                                     [key], {});\n",
              "          if (!dataTable) return;\n",
              "\n",
              "          const docLinkHtml = 'Like what you see? Visit the ' +\n",
              "            '<a target=\"_blank\" href=https://colab.research.google.com/notebooks/data_table.ipynb>data table notebook</a>'\n",
              "            + ' to learn more about interactive tables.';\n",
              "          element.innerHTML = '';\n",
              "          dataTable['output_type'] = 'display_data';\n",
              "          await google.colab.output.renderOutput(dataTable, element);\n",
              "          const docLink = document.createElement('div');\n",
              "          docLink.innerHTML = docLinkHtml;\n",
              "          element.appendChild(docLink);\n",
              "        }\n",
              "      </script>\n",
              "    </div>\n",
              "  </div>\n",
              "  "
            ]
          },
          "metadata": {},
          "execution_count": 26
        }
      ]
    },
    {
      "cell_type": "markdown",
      "source": [
        "## Now get the information about the dataframe"
      ],
      "metadata": {
        "id": "gcaQL4-0kGUZ"
      }
    },
    {
      "cell_type": "code",
      "source": [
        "df.info()"
      ],
      "metadata": {
        "colab": {
          "base_uri": "https://localhost:8080/"
        },
        "id": "0vfLx_AFjyGj",
        "outputId": "0d4d639f-867d-4187-9cca-c67c974198b2"
      },
      "execution_count": null,
      "outputs": [
        {
          "output_type": "stream",
          "name": "stdout",
          "text": [
            "<class 'pandas.core.frame.DataFrame'>\n",
            "RangeIndex: 891 entries, 0 to 890\n",
            "Data columns (total 4 columns):\n",
            " #   Column    Non-Null Count  Dtype  \n",
            "---  ------    --------------  -----  \n",
            " 0   Age       714 non-null    float64\n",
            " 1   Fare      846 non-null    float64\n",
            " 2   Family    891 non-null    int64  \n",
            " 3   Survived  891 non-null    int64  \n",
            "dtypes: float64(2), int64(2)\n",
            "memory usage: 28.0 KB\n"
          ]
        }
      ]
    },
    {
      "cell_type": "markdown",
      "source": [
        "## check the missing value in each column"
      ],
      "metadata": {
        "id": "tOM7NZE_kMQh"
      }
    },
    {
      "cell_type": "code",
      "source": [
        "df.isnull().mean()"
      ],
      "metadata": {
        "colab": {
          "base_uri": "https://localhost:8080/"
        },
        "id": "aZAKi3XzkBdH",
        "outputId": "07805ccf-7768-41a2-8365-4d5a3faac62a"
      },
      "execution_count": null,
      "outputs": [
        {
          "output_type": "execute_result",
          "data": {
            "text/plain": [
              "Age         0.198653\n",
              "Fare        0.050505\n",
              "Family      0.000000\n",
              "Survived    0.000000\n",
              "dtype: float64"
            ]
          },
          "metadata": {},
          "execution_count": 28
        }
      ]
    },
    {
      "cell_type": "markdown",
      "source": [
        "## break the data into dependant and independant datasets"
      ],
      "metadata": {
        "id": "7gyt6glvkbkH"
      }
    },
    {
      "cell_type": "code",
      "source": [
        "X = df.drop(columns=['Survived'])\n",
        "y = df['Survived']"
      ],
      "metadata": {
        "id": "vrXGhzfQkQCs"
      },
      "execution_count": null,
      "outputs": []
    },
    {
      "cell_type": "markdown",
      "source": [
        "## Split the data into train and test and check the shape"
      ],
      "metadata": {
        "id": "9l1uTa6lknnM"
      }
    },
    {
      "cell_type": "code",
      "source": [
        "X_train,X_test,y_train,y_test = train_test_split(X,y,test_size=0.2,random_state=2)"
      ],
      "metadata": {
        "id": "hvj8qKGlkjnb"
      },
      "execution_count": null,
      "outputs": []
    },
    {
      "cell_type": "code",
      "source": [
        "X_train.shape, X_test.shape"
      ],
      "metadata": {
        "colab": {
          "base_uri": "https://localhost:8080/"
        },
        "id": "66AiVJgHkteP",
        "outputId": "84a8ae23-00e2-4331-c9e8-54e2b730d614"
      },
      "execution_count": null,
      "outputs": [
        {
          "output_type": "execute_result",
          "data": {
            "text/plain": [
              "((712, 3), (179, 3))"
            ]
          },
          "metadata": {},
          "execution_count": 31
        }
      ]
    },
    {
      "cell_type": "markdown",
      "source": [
        "## now check the missing value in Xtrain "
      ],
      "metadata": {
        "id": "nRtZb3VWk21k"
      }
    },
    {
      "cell_type": "code",
      "source": [
        "X_train.isnull().mean()"
      ],
      "metadata": {
        "colab": {
          "base_uri": "https://localhost:8080/"
        },
        "id": "67H1bOxRk1nr",
        "outputId": "8c68a4ee-7539-4ca4-ea2c-aa8b71f4462a"
      },
      "execution_count": null,
      "outputs": [
        {
          "output_type": "execute_result",
          "data": {
            "text/plain": [
              "Age       0.207865\n",
              "Fare      0.050562\n",
              "Family    0.000000\n",
              "dtype: float64"
            ]
          },
          "metadata": {},
          "execution_count": 32
        }
      ]
    },
    {
      "cell_type": "markdown",
      "source": [
        "## Calculate the mean and median of AGE and FARE Column"
      ],
      "metadata": {
        "id": "dMIdwqmOlKj4"
      }
    },
    {
      "cell_type": "code",
      "source": [
        "mean_age = X_train['Age'].mean()\n",
        "median_age = X_train['Age'].median()\n",
        "\n",
        "mean_fare = X_train['Fare'].mean()\n",
        "median_fare = X_train['Fare'].median()"
      ],
      "metadata": {
        "id": "HEIdli_qlAGy"
      },
      "execution_count": null,
      "outputs": []
    },
    {
      "cell_type": "markdown",
      "source": [
        "## Now fill the missing value with mean and median"
      ],
      "metadata": {
        "id": "F6XR5V4HlSOI"
      }
    },
    {
      "cell_type": "code",
      "source": [
        "X_train['Age_median'] = X_train['Age'].fillna(median_age)\n",
        "X_train['Age_mean'] = X_train['Age'].fillna(mean_age)\n",
        "\n",
        "X_train['Fare_median'] = X_train['Fare'].fillna(median_fare)\n",
        "X_train['Fare_mean'] = X_train['Fare'].fillna(mean_fare)"
      ],
      "metadata": {
        "id": "4Dg5SiDblIT4"
      },
      "execution_count": null,
      "outputs": []
    },
    {
      "cell_type": "markdown",
      "source": [
        "## Check the Xtrain , is it imputed with mean and meadian or not"
      ],
      "metadata": {
        "id": "YWvXxdQrlboN"
      }
    },
    {
      "cell_type": "code",
      "source": [
        "X_train.sample(5)"
      ],
      "metadata": {
        "colab": {
          "base_uri": "https://localhost:8080/",
          "height": 206
        },
        "id": "WtbJjtGxlaNs",
        "outputId": "094bdcdc-979a-491b-ba67-54becba7e82a"
      },
      "execution_count": null,
      "outputs": [
        {
          "output_type": "execute_result",
          "data": {
            "text/plain": [
              "      Age     Fare  Family  Age_median   Age_mean  Fare_median  Fare_mean\n",
              "359   NaN   7.8792       0       28.75  29.785904       7.8792     7.8792\n",
              "845  42.0   7.5500       0       42.00  42.000000       7.5500     7.5500\n",
              "684  60.0  39.0000       2       60.00  60.000000      39.0000    39.0000\n",
              "83   28.0  47.1000       0       28.00  28.000000      47.1000    47.1000\n",
              "767  30.5   7.7500       0       30.50  30.500000       7.7500     7.7500"
            ],
            "text/html": [
              "\n",
              "  <div id=\"df-64efa787-ce4f-4be1-b30d-4080f94c0c81\">\n",
              "    <div class=\"colab-df-container\">\n",
              "      <div>\n",
              "<style scoped>\n",
              "    .dataframe tbody tr th:only-of-type {\n",
              "        vertical-align: middle;\n",
              "    }\n",
              "\n",
              "    .dataframe tbody tr th {\n",
              "        vertical-align: top;\n",
              "    }\n",
              "\n",
              "    .dataframe thead th {\n",
              "        text-align: right;\n",
              "    }\n",
              "</style>\n",
              "<table border=\"1\" class=\"dataframe\">\n",
              "  <thead>\n",
              "    <tr style=\"text-align: right;\">\n",
              "      <th></th>\n",
              "      <th>Age</th>\n",
              "      <th>Fare</th>\n",
              "      <th>Family</th>\n",
              "      <th>Age_median</th>\n",
              "      <th>Age_mean</th>\n",
              "      <th>Fare_median</th>\n",
              "      <th>Fare_mean</th>\n",
              "    </tr>\n",
              "  </thead>\n",
              "  <tbody>\n",
              "    <tr>\n",
              "      <th>359</th>\n",
              "      <td>NaN</td>\n",
              "      <td>7.8792</td>\n",
              "      <td>0</td>\n",
              "      <td>28.75</td>\n",
              "      <td>29.785904</td>\n",
              "      <td>7.8792</td>\n",
              "      <td>7.8792</td>\n",
              "    </tr>\n",
              "    <tr>\n",
              "      <th>845</th>\n",
              "      <td>42.0</td>\n",
              "      <td>7.5500</td>\n",
              "      <td>0</td>\n",
              "      <td>42.00</td>\n",
              "      <td>42.000000</td>\n",
              "      <td>7.5500</td>\n",
              "      <td>7.5500</td>\n",
              "    </tr>\n",
              "    <tr>\n",
              "      <th>684</th>\n",
              "      <td>60.0</td>\n",
              "      <td>39.0000</td>\n",
              "      <td>2</td>\n",
              "      <td>60.00</td>\n",
              "      <td>60.000000</td>\n",
              "      <td>39.0000</td>\n",
              "      <td>39.0000</td>\n",
              "    </tr>\n",
              "    <tr>\n",
              "      <th>83</th>\n",
              "      <td>28.0</td>\n",
              "      <td>47.1000</td>\n",
              "      <td>0</td>\n",
              "      <td>28.00</td>\n",
              "      <td>28.000000</td>\n",
              "      <td>47.1000</td>\n",
              "      <td>47.1000</td>\n",
              "    </tr>\n",
              "    <tr>\n",
              "      <th>767</th>\n",
              "      <td>30.5</td>\n",
              "      <td>7.7500</td>\n",
              "      <td>0</td>\n",
              "      <td>30.50</td>\n",
              "      <td>30.500000</td>\n",
              "      <td>7.7500</td>\n",
              "      <td>7.7500</td>\n",
              "    </tr>\n",
              "  </tbody>\n",
              "</table>\n",
              "</div>\n",
              "      <button class=\"colab-df-convert\" onclick=\"convertToInteractive('df-64efa787-ce4f-4be1-b30d-4080f94c0c81')\"\n",
              "              title=\"Convert this dataframe to an interactive table.\"\n",
              "              style=\"display:none;\">\n",
              "        \n",
              "  <svg xmlns=\"http://www.w3.org/2000/svg\" height=\"24px\"viewBox=\"0 0 24 24\"\n",
              "       width=\"24px\">\n",
              "    <path d=\"M0 0h24v24H0V0z\" fill=\"none\"/>\n",
              "    <path d=\"M18.56 5.44l.94 2.06.94-2.06 2.06-.94-2.06-.94-.94-2.06-.94 2.06-2.06.94zm-11 1L8.5 8.5l.94-2.06 2.06-.94-2.06-.94L8.5 2.5l-.94 2.06-2.06.94zm10 10l.94 2.06.94-2.06 2.06-.94-2.06-.94-.94-2.06-.94 2.06-2.06.94z\"/><path d=\"M17.41 7.96l-1.37-1.37c-.4-.4-.92-.59-1.43-.59-.52 0-1.04.2-1.43.59L10.3 9.45l-7.72 7.72c-.78.78-.78 2.05 0 2.83L4 21.41c.39.39.9.59 1.41.59.51 0 1.02-.2 1.41-.59l7.78-7.78 2.81-2.81c.8-.78.8-2.07 0-2.86zM5.41 20L4 18.59l7.72-7.72 1.47 1.35L5.41 20z\"/>\n",
              "  </svg>\n",
              "      </button>\n",
              "      \n",
              "  <style>\n",
              "    .colab-df-container {\n",
              "      display:flex;\n",
              "      flex-wrap:wrap;\n",
              "      gap: 12px;\n",
              "    }\n",
              "\n",
              "    .colab-df-convert {\n",
              "      background-color: #E8F0FE;\n",
              "      border: none;\n",
              "      border-radius: 50%;\n",
              "      cursor: pointer;\n",
              "      display: none;\n",
              "      fill: #1967D2;\n",
              "      height: 32px;\n",
              "      padding: 0 0 0 0;\n",
              "      width: 32px;\n",
              "    }\n",
              "\n",
              "    .colab-df-convert:hover {\n",
              "      background-color: #E2EBFA;\n",
              "      box-shadow: 0px 1px 2px rgba(60, 64, 67, 0.3), 0px 1px 3px 1px rgba(60, 64, 67, 0.15);\n",
              "      fill: #174EA6;\n",
              "    }\n",
              "\n",
              "    [theme=dark] .colab-df-convert {\n",
              "      background-color: #3B4455;\n",
              "      fill: #D2E3FC;\n",
              "    }\n",
              "\n",
              "    [theme=dark] .colab-df-convert:hover {\n",
              "      background-color: #434B5C;\n",
              "      box-shadow: 0px 1px 3px 1px rgba(0, 0, 0, 0.15);\n",
              "      filter: drop-shadow(0px 1px 2px rgba(0, 0, 0, 0.3));\n",
              "      fill: #FFFFFF;\n",
              "    }\n",
              "  </style>\n",
              "\n",
              "      <script>\n",
              "        const buttonEl =\n",
              "          document.querySelector('#df-64efa787-ce4f-4be1-b30d-4080f94c0c81 button.colab-df-convert');\n",
              "        buttonEl.style.display =\n",
              "          google.colab.kernel.accessAllowed ? 'block' : 'none';\n",
              "\n",
              "        async function convertToInteractive(key) {\n",
              "          const element = document.querySelector('#df-64efa787-ce4f-4be1-b30d-4080f94c0c81');\n",
              "          const dataTable =\n",
              "            await google.colab.kernel.invokeFunction('convertToInteractive',\n",
              "                                                     [key], {});\n",
              "          if (!dataTable) return;\n",
              "\n",
              "          const docLinkHtml = 'Like what you see? Visit the ' +\n",
              "            '<a target=\"_blank\" href=https://colab.research.google.com/notebooks/data_table.ipynb>data table notebook</a>'\n",
              "            + ' to learn more about interactive tables.';\n",
              "          element.innerHTML = '';\n",
              "          dataTable['output_type'] = 'display_data';\n",
              "          await google.colab.output.renderOutput(dataTable, element);\n",
              "          const docLink = document.createElement('div');\n",
              "          docLink.innerHTML = docLinkHtml;\n",
              "          element.appendChild(docLink);\n",
              "        }\n",
              "      </script>\n",
              "    </div>\n",
              "  </div>\n",
              "  "
            ]
          },
          "metadata": {},
          "execution_count": 35
        }
      ]
    },
    {
      "cell_type": "markdown",
      "source": [
        "## when you apply mean/median for imputation then you have to check the variance .because your variance will be shrink due to men/median imputation if the variance is large then it is red signal.there are 20% missing value in AGE so there is a variance change and in FARE there is about 5% missing value that is why the variance is low."
      ],
      "metadata": {
        "id": "UnWG1i8Clyie"
      }
    },
    {
      "cell_type": "code",
      "source": [
        "print('Original Age variable variance: ', X_train['Age'].var())\n",
        "print('Age Variance after median imputation: ', X_train['Age_median'].var())\n",
        "print('Age Variance after mean imputation: ', X_train['Age_mean'].var())\n",
        "\n",
        "print('Original Fare variable variance: ', X_train['Fare'].var())\n",
        "print('Fare Variance after median imputation: ', X_train['Fare_median'].var())\n",
        "print('Fare Variance after mean imputation: ', X_train['Fare_mean'].var())"
      ],
      "metadata": {
        "colab": {
          "base_uri": "https://localhost:8080/"
        },
        "id": "eZpct2Irlmdv",
        "outputId": "9b91f3a1-5341-48f2-9ca3-9684c8829601"
      },
      "execution_count": null,
      "outputs": [
        {
          "output_type": "stream",
          "name": "stdout",
          "text": [
            "Original Age variable variance:  204.34951339046142\n",
            "Age Variance after median imputation:  161.98956633460548\n",
            "Age Variance after mean imputation:  161.81262452718676\n",
            "Original Fare variable variance:  2448.1979137063163\n",
            "Fare Variance after median imputation:  2340.09102197536\n",
            "Fare Variance after mean imputation:  2324.2385256705534\n"
          ]
        }
      ]
    },
    {
      "cell_type": "markdown",
      "source": [
        "##Now check the distribution changes"
      ],
      "metadata": {
        "id": "em_bJQWZw02s"
      }
    },
    {
      "cell_type": "code",
      "source": [
        "fig = plt.figure()\n",
        "ax = fig.add_subplot(111)\n",
        "\n",
        "# original variable distribution\n",
        "X_train['Age'].plot(kind='kde', ax=ax)\n",
        "\n",
        "# variable imputed with the median\n",
        "X_train['Age_median'].plot(kind='kde', ax=ax, color='red')\n",
        "\n",
        "# variable imputed with the mean\n",
        "X_train['Age_mean'].plot(kind='kde', ax=ax, color='green')\n",
        "\n",
        "# add legends\n",
        "lines, labels = ax.get_legend_handles_labels()\n",
        "ax.legend(lines, labels, loc='best')"
      ],
      "metadata": {
        "colab": {
          "base_uri": "https://localhost:8080/",
          "height": 285
        },
        "id": "uL0ZVZtywqUw",
        "outputId": "3adf6561-48ed-4174-a4b5-2a8dd3991289"
      },
      "execution_count": null,
      "outputs": [
        {
          "output_type": "execute_result",
          "data": {
            "text/plain": [
              "<matplotlib.legend.Legend at 0x7f0b7573b090>"
            ]
          },
          "metadata": {},
          "execution_count": 37
        },
        {
          "output_type": "display_data",
          "data": {
            "text/plain": [
              "<Figure size 432x288 with 1 Axes>"
            ],
            "image/png": "[encoded data removed]"
          },
          "metadata": {
            "needs_background": "light"
          }
        }
      ]
    },
    {
      "cell_type": "code",
      "source": [
        "fig = plt.figure()\n",
        "ax = fig.add_subplot(111)\n",
        "\n",
        "# original variable diastribution\n",
        "X_train['Fare'].plot(kind='kde', ax=ax)\n",
        "\n",
        "# variable imputed with the median\n",
        "X_train['Fare_median'].plot(kind='kde', ax=ax, color='red')\n",
        "\n",
        "# variable imputed with the mean\n",
        "X_train['Fare_mean'].plot(kind='kde', ax=ax, color='green')\n",
        "\n",
        "# add legends\n",
        "lines, labels = ax.get_legend_handles_labels()\n",
        "ax.legend(lines, labels, loc='best')\n"
      ],
      "metadata": {
        "colab": {
          "base_uri": "https://localhost:8080/",
          "height": 282
        },
        "id": "qOOcpTEXw5Au",
        "outputId": "67eff7bc-43ce-44d2-d8a3-9d55443d6356"
      },
      "execution_count": null,
      "outputs": [
        {
          "output_type": "execute_result",
          "data": {
            "text/plain": [
              "<matplotlib.legend.Legend at 0x7f0b756bd7d0>"
            ]
          },
          "metadata": {},
          "execution_count": 38
        },
        {
          "output_type": "display_data",
          "data": {
            "text/plain": [
              "<Figure size 432x288 with 1 Axes>"
            ],
            "image/png": "[encoded data removed]"
          },
          "metadata": {
            "needs_background": "light"
          }
        }
      ]
    },
    {
      "cell_type": "code",
      "source": [
        "X_train.cov()"
      ],
      "metadata": {
        "colab": {
          "base_uri": "https://localhost:8080/",
          "height": 269
        },
        "id": "uMWxmOeCw_gz",
        "outputId": "5e7e9900-bfb3-4d9b-9a1a-1e172b86f5d6"
      },
      "execution_count": null,
      "outputs": [
        {
          "output_type": "execute_result",
          "data": {
            "text/plain": [
              "                    Age         Fare     Family  Age_median    Age_mean  \\\n",
              "Age          204.349513    70.719262  -6.498901  204.349513  204.349513   \n",
              "Fare          70.719262  2448.197914  17.258917   57.957599   55.603719   \n",
              "Family        -6.498901    17.258917   2.735252   -5.112563   -5.146106   \n",
              "Age_median   204.349513    57.957599  -5.112563  161.989566  161.812625   \n",
              "Age_mean     204.349513    55.603719  -5.146106  161.812625  161.812625   \n",
              "Fare_median   64.858859  2448.197914  16.476305   53.553455   51.358000   \n",
              "Fare_mean     66.665205  2448.197914  16.385048   55.023037   52.788341   \n",
              "\n",
              "             Fare_median    Fare_mean  \n",
              "Age            64.858859    66.665205  \n",
              "Fare         2448.197914  2448.197914  \n",
              "Family         16.476305    16.385048  \n",
              "Age_median     53.553455    55.023037  \n",
              "Age_mean       51.358000    52.788341  \n",
              "Fare_median  2340.091022  2324.238526  \n",
              "Fare_mean    2324.238526  2324.238526  "
            ],
            "text/html": [
              "\n",
              "  <div id=\"df-1c420448-1016-4a57-9b58-5d53fa1ce653\">\n",
              "    <div class=\"colab-df-container\">\n",
              "      <div>\n",
              "<style scoped>\n",
              "    .dataframe tbody tr th:only-of-type {\n",
              "        vertical-align: middle;\n",
              "    }\n",
              "\n",
              "    .dataframe tbody tr th {\n",
              "        vertical-align: top;\n",
              "    }\n",
              "\n",
              "    .dataframe thead th {\n",
              "        text-align: right;\n",
              "    }\n",
              "</style>\n",
              "<table border=\"1\" class=\"dataframe\">\n",
              "  <thead>\n",
              "    <tr style=\"text-align: right;\">\n",
              "      <th></th>\n",
              "      <th>Age</th>\n",
              "      <th>Fare</th>\n",
              "      <th>Family</th>\n",
              "      <th>Age_median</th>\n",
              "      <th>Age_mean</th>\n",
              "      <th>Fare_median</th>\n",
              "      <th>Fare_mean</th>\n",
              "    </tr>\n",
              "  </thead>\n",
              "  <tbody>\n",
              "    <tr>\n",
              "      <th>Age</th>\n",
              "      <td>204.349513</td>\n",
              "      <td>70.719262</td>\n",
              "      <td>-6.498901</td>\n",
              "      <td>204.349513</td>\n",
              "      <td>204.349513</td>\n",
              "      <td>64.858859</td>\n",
              "      <td>66.665205</td>\n",
              "    </tr>\n",
              "    <tr>\n",
              "      <th>Fare</th>\n",
              "      <td>70.719262</td>\n",
              "      <td>2448.197914</td>\n",
              "      <td>17.258917</td>\n",
              "      <td>57.957599</td>\n",
              "      <td>55.603719</td>\n",
              "      <td>2448.197914</td>\n",
              "      <td>2448.197914</td>\n",
              "    </tr>\n",
              "    <tr>\n",
              "      <th>Family</th>\n",
              "      <td>-6.498901</td>\n",
              "      <td>17.258917</td>\n",
              "      <td>2.735252</td>\n",
              "      <td>-5.112563</td>\n",
              "      <td>-5.146106</td>\n",
              "      <td>16.476305</td>\n",
              "      <td>16.385048</td>\n",
              "    </tr>\n",
              "    <tr>\n",
              "      <th>Age_median</th>\n",
              "      <td>204.349513</td>\n",
              "      <td>57.957599</td>\n",
              "      <td>-5.112563</td>\n",
              "      <td>161.989566</td>\n",
              "      <td>161.812625</td>\n",
              "      <td>53.553455</td>\n",
              "      <td>55.023037</td>\n",
              "    </tr>\n",
              "    <tr>\n",
              "      <th>Age_mean</th>\n",
              "      <td>204.349513</td>\n",
              "      <td>55.603719</td>\n",
              "      <td>-5.146106</td>\n",
              "      <td>161.812625</td>\n",
              "      <td>161.812625</td>\n",
              "      <td>51.358000</td>\n",
              "      <td>52.788341</td>\n",
              "    </tr>\n",
              "    <tr>\n",
              "      <th>Fare_median</th>\n",
              "      <td>64.858859</td>\n",
              "      <td>2448.197914</td>\n",
              "      <td>16.476305</td>\n",
              "      <td>53.553455</td>\n",
              "      <td>51.358000</td>\n",
              "      <td>2340.091022</td>\n",
              "      <td>2324.238526</td>\n",
              "    </tr>\n",
              "    <tr>\n",
              "      <th>Fare_mean</th>\n",
              "      <td>66.665205</td>\n",
              "      <td>2448.197914</td>\n",
              "      <td>16.385048</td>\n",
              "      <td>55.023037</td>\n",
              "      <td>52.788341</td>\n",
              "      <td>2324.238526</td>\n",
              "      <td>2324.238526</td>\n",
              "    </tr>\n",
              "  </tbody>\n",
              "</table>\n",
              "</div>\n",
              "      <button class=\"colab-df-convert\" onclick=\"convertToInteractive('df-1c420448-1016-4a57-9b58-5d53fa1ce653')\"\n",
              "              title=\"Convert this dataframe to an interactive table.\"\n",
              "              style=\"display:none;\">\n",
              "        \n",
              "  <svg xmlns=\"http://www.w3.org/2000/svg\" height=\"24px\"viewBox=\"0 0 24 24\"\n",
              "       width=\"24px\">\n",
              "    <path d=\"M0 0h24v24H0V0z\" fill=\"none\"/>\n",
              "    <path d=\"M18.56 5.44l.94 2.06.94-2.06 2.06-.94-2.06-.94-.94-2.06-.94 2.06-2.06.94zm-11 1L8.5 8.5l.94-2.06 2.06-.94-2.06-.94L8.5 2.5l-.94 2.06-2.06.94zm10 10l.94 2.06.94-2.06 2.06-.94-2.06-.94-.94-2.06-.94 2.06-2.06.94z\"/><path d=\"M17.41 7.96l-1.37-1.37c-.4-.4-.92-.59-1.43-.59-.52 0-1.04.2-1.43.59L10.3 9.45l-7.72 7.72c-.78.78-.78 2.05 0 2.83L4 21.41c.39.39.9.59 1.41.59.51 0 1.02-.2 1.41-.59l7.78-7.78 2.81-2.81c.8-.78.8-2.07 0-2.86zM5.41 20L4 18.59l7.72-7.72 1.47 1.35L5.41 20z\"/>\n",
              "  </svg>\n",
              "      </button>\n",
              "      \n",
              "  <style>\n",
              "    .colab-df-container {\n",
              "      display:flex;\n",
              "      flex-wrap:wrap;\n",
              "      gap: 12px;\n",
              "    }\n",
              "\n",
              "    .colab-df-convert {\n",
              "      background-color: #E8F0FE;\n",
              "      border: none;\n",
              "      border-radius: 50%;\n",
              "      cursor: pointer;\n",
              "      display: none;\n",
              "      fill: #1967D2;\n",
              "      height: 32px;\n",
              "      padding: 0 0 0 0;\n",
              "      width: 32px;\n",
              "    }\n",
              "\n",
              "    .colab-df-convert:hover {\n",
              "      background-color: #E2EBFA;\n",
              "      box-shadow: 0px 1px 2px rgba(60, 64, 67, 0.3), 0px 1px 3px 1px rgba(60, 64, 67, 0.15);\n",
              "      fill: #174EA6;\n",
              "    }\n",
              "\n",
              "    [theme=dark] .colab-df-convert {\n",
              "      background-color: #3B4455;\n",
              "      fill: #D2E3FC;\n",
              "    }\n",
              "\n",
              "    [theme=dark] .colab-df-convert:hover {\n",
              "      background-color: #434B5C;\n",
              "      box-shadow: 0px 1px 3px 1px rgba(0, 0, 0, 0.15);\n",
              "      filter: drop-shadow(0px 1px 2px rgba(0, 0, 0, 0.3));\n",
              "      fill: #FFFFFF;\n",
              "    }\n",
              "  </style>\n",
              "\n",
              "      <script>\n",
              "        const buttonEl =\n",
              "          document.querySelector('#df-1c420448-1016-4a57-9b58-5d53fa1ce653 button.colab-df-convert');\n",
              "        buttonEl.style.display =\n",
              "          google.colab.kernel.accessAllowed ? 'block' : 'none';\n",
              "\n",
              "        async function convertToInteractive(key) {\n",
              "          const element = document.querySelector('#df-1c420448-1016-4a57-9b58-5d53fa1ce653');\n",
              "          const dataTable =\n",
              "            await google.colab.kernel.invokeFunction('convertToInteractive',\n",
              "                                                     [key], {});\n",
              "          if (!dataTable) return;\n",
              "\n",
              "          const docLinkHtml = 'Like what you see? Visit the ' +\n",
              "            '<a target=\"_blank\" href=https://colab.research.google.com/notebooks/data_table.ipynb>data table notebook</a>'\n",
              "            + ' to learn more about interactive tables.';\n",
              "          element.innerHTML = '';\n",
              "          dataTable['output_type'] = 'display_data';\n",
              "          await google.colab.output.renderOutput(dataTable, element);\n",
              "          const docLink = document.createElement('div');\n",
              "          docLink.innerHTML = docLinkHtml;\n",
              "          element.appendChild(docLink);\n",
              "        }\n",
              "      </script>\n",
              "    </div>\n",
              "  </div>\n",
              "  "
            ]
          },
          "metadata": {},
          "execution_count": 39
        }
      ]
    },
    {
      "cell_type": "code",
      "source": [
        "X_train.corr()"
      ],
      "metadata": {
        "colab": {
          "base_uri": "https://localhost:8080/",
          "height": 269
        },
        "id": "BYbO8qz8xDbB",
        "outputId": "d22a0b2d-bd35-403e-cedd-953b4f4728f3"
      },
      "execution_count": null,
      "outputs": [
        {
          "output_type": "execute_result",
          "data": {
            "text/plain": [
              "                  Age      Fare    Family  Age_median  Age_mean  Fare_median  \\\n",
              "Age          1.000000  0.092644 -0.299113    1.000000  1.000000     0.087356   \n",
              "Fare         0.092644  1.000000  0.208268    0.091757  0.088069     1.000000   \n",
              "Family      -0.299113  0.208268  1.000000   -0.242883 -0.244610     0.205942   \n",
              "Age_median   1.000000  0.091757 -0.242883    1.000000  0.999454     0.086982   \n",
              "Age_mean     1.000000  0.088069 -0.244610    0.999454  1.000000     0.083461   \n",
              "Fare_median  0.087356  1.000000  0.205942    0.086982  0.083461     1.000000   \n",
              "Fare_mean    0.090156  1.000000  0.205499    0.089673  0.086078     0.996607   \n",
              "\n",
              "             Fare_mean  \n",
              "Age           0.090156  \n",
              "Fare          1.000000  \n",
              "Family        0.205499  \n",
              "Age_median    0.089673  \n",
              "Age_mean      0.086078  \n",
              "Fare_median   0.996607  \n",
              "Fare_mean     1.000000  "
            ],
            "text/html": [
              "\n",
              "  <div id=\"df-7ecfb34a-a835-4c2d-8ab0-9bba2f432d11\">\n",
              "    <div class=\"colab-df-container\">\n",
              "      <div>\n",
              "<style scoped>\n",
              "    .dataframe tbody tr th:only-of-type {\n",
              "        vertical-align: middle;\n",
              "    }\n",
              "\n",
              "    .dataframe tbody tr th {\n",
              "        vertical-align: top;\n",
              "    }\n",
              "\n",
              "    .dataframe thead th {\n",
              "        text-align: right;\n",
              "    }\n",
              "</style>\n",
              "<table border=\"1\" class=\"dataframe\">\n",
              "  <thead>\n",
              "    <tr style=\"text-align: right;\">\n",
              "      <th></th>\n",
              "      <th>Age</th>\n",
              "      <th>Fare</th>\n",
              "      <th>Family</th>\n",
              "      <th>Age_median</th>\n",
              "      <th>Age_mean</th>\n",
              "      <th>Fare_median</th>\n",
              "      <th>Fare_mean</th>\n",
              "    </tr>\n",
              "  </thead>\n",
              "  <tbody>\n",
              "    <tr>\n",
              "      <th>Age</th>\n",
              "      <td>1.000000</td>\n",
              "      <td>0.092644</td>\n",
              "      <td>-0.299113</td>\n",
              "      <td>1.000000</td>\n",
              "      <td>1.000000</td>\n",
              "      <td>0.087356</td>\n",
              "      <td>0.090156</td>\n",
              "    </tr>\n",
              "    <tr>\n",
              "      <th>Fare</th>\n",
              "      <td>0.092644</td>\n",
              "      <td>1.000000</td>\n",
              "      <td>0.208268</td>\n",
              "      <td>0.091757</td>\n",
              "      <td>0.088069</td>\n",
              "      <td>1.000000</td>\n",
              "      <td>1.000000</td>\n",
              "    </tr>\n",
              "    <tr>\n",
              "      <th>Family</th>\n",
              "      <td>-0.299113</td>\n",
              "      <td>0.208268</td>\n",
              "      <td>1.000000</td>\n",
              "      <td>-0.242883</td>\n",
              "      <td>-0.244610</td>\n",
              "      <td>0.205942</td>\n",
              "      <td>0.205499</td>\n",
              "    </tr>\n",
              "    <tr>\n",
              "      <th>Age_median</th>\n",
              "      <td>1.000000</td>\n",
              "      <td>0.091757</td>\n",
              "      <td>-0.242883</td>\n",
              "      <td>1.000000</td>\n",
              "      <td>0.999454</td>\n",
              "      <td>0.086982</td>\n",
              "      <td>0.089673</td>\n",
              "    </tr>\n",
              "    <tr>\n",
              "      <th>Age_mean</th>\n",
              "      <td>1.000000</td>\n",
              "      <td>0.088069</td>\n",
              "      <td>-0.244610</td>\n",
              "      <td>0.999454</td>\n",
              "      <td>1.000000</td>\n",
              "      <td>0.083461</td>\n",
              "      <td>0.086078</td>\n",
              "    </tr>\n",
              "    <tr>\n",
              "      <th>Fare_median</th>\n",
              "      <td>0.087356</td>\n",
              "      <td>1.000000</td>\n",
              "      <td>0.205942</td>\n",
              "      <td>0.086982</td>\n",
              "      <td>0.083461</td>\n",
              "      <td>1.000000</td>\n",
              "      <td>0.996607</td>\n",
              "    </tr>\n",
              "    <tr>\n",
              "      <th>Fare_mean</th>\n",
              "      <td>0.090156</td>\n",
              "      <td>1.000000</td>\n",
              "      <td>0.205499</td>\n",
              "      <td>0.089673</td>\n",
              "      <td>0.086078</td>\n",
              "      <td>0.996607</td>\n",
              "      <td>1.000000</td>\n",
              "    </tr>\n",
              "  </tbody>\n",
              "</table>\n",
              "</div>\n",
              "      <button class=\"colab-df-convert\" onclick=\"convertToInteractive('df-7ecfb34a-a835-4c2d-8ab0-9bba2f432d11')\"\n",
              "              title=\"Convert this dataframe to an interactive table.\"\n",
              "              style=\"display:none;\">\n",
              "        \n",
              "  <svg xmlns=\"http://www.w3.org/2000/svg\" height=\"24px\"viewBox=\"0 0 24 24\"\n",
              "       width=\"24px\">\n",
              "    <path d=\"M0 0h24v24H0V0z\" fill=\"none\"/>\n",
              "    <path d=\"M18.56 5.44l.94 2.06.94-2.06 2.06-.94-2.06-.94-.94-2.06-.94 2.06-2.06.94zm-11 1L8.5 8.5l.94-2.06 2.06-.94-2.06-.94L8.5 2.5l-.94 2.06-2.06.94zm10 10l.94 2.06.94-2.06 2.06-.94-2.06-.94-.94-2.06-.94 2.06-2.06.94z\"/><path d=\"M17.41 7.96l-1.37-1.37c-.4-.4-.92-.59-1.43-.59-.52 0-1.04.2-1.43.59L10.3 9.45l-7.72 7.72c-.78.78-.78 2.05 0 2.83L4 21.41c.39.39.9.59 1.41.59.51 0 1.02-.2 1.41-.59l7.78-7.78 2.81-2.81c.8-.78.8-2.07 0-2.86zM5.41 20L4 18.59l7.72-7.72 1.47 1.35L5.41 20z\"/>\n",
              "  </svg>\n",
              "      </button>\n",
              "      \n",
              "  <style>\n",
              "    .colab-df-container {\n",
              "      display:flex;\n",
              "      flex-wrap:wrap;\n",
              "      gap: 12px;\n",
              "    }\n",
              "\n",
              "    .colab-df-convert {\n",
              "      background-color: #E8F0FE;\n",
              "      border: none;\n",
              "      border-radius: 50%;\n",
              "      cursor: pointer;\n",
              "      display: none;\n",
              "      fill: #1967D2;\n",
              "      height: 32px;\n",
              "      padding: 0 0 0 0;\n",
              "      width: 32px;\n",
              "    }\n",
              "\n",
              "    .colab-df-convert:hover {\n",
              "      background-color: #E2EBFA;\n",
              "      box-shadow: 0px 1px 2px rgba(60, 64, 67, 0.3), 0px 1px 3px 1px rgba(60, 64, 67, 0.15);\n",
              "      fill: #174EA6;\n",
              "    }\n",
              "\n",
              "    [theme=dark] .colab-df-convert {\n",
              "      background-color: #3B4455;\n",
              "      fill: #D2E3FC;\n",
              "    }\n",
              "\n",
              "    [theme=dark] .colab-df-convert:hover {\n",
              "      background-color: #434B5C;\n",
              "      box-shadow: 0px 1px 3px 1px rgba(0, 0, 0, 0.15);\n",
              "      filter: drop-shadow(0px 1px 2px rgba(0, 0, 0, 0.3));\n",
              "      fill: #FFFFFF;\n",
              "    }\n",
              "  </style>\n",
              "\n",
              "      <script>\n",
              "        const buttonEl =\n",
              "          document.querySelector('#df-7ecfb34a-a835-4c2d-8ab0-9bba2f432d11 button.colab-df-convert');\n",
              "        buttonEl.style.display =\n",
              "          google.colab.kernel.accessAllowed ? 'block' : 'none';\n",
              "\n",
              "        async function convertToInteractive(key) {\n",
              "          const element = document.querySelector('#df-7ecfb34a-a835-4c2d-8ab0-9bba2f432d11');\n",
              "          const dataTable =\n",
              "            await google.colab.kernel.invokeFunction('convertToInteractive',\n",
              "                                                     [key], {});\n",
              "          if (!dataTable) return;\n",
              "\n",
              "          const docLinkHtml = 'Like what you see? Visit the ' +\n",
              "            '<a target=\"_blank\" href=https://colab.research.google.com/notebooks/data_table.ipynb>data table notebook</a>'\n",
              "            + ' to learn more about interactive tables.';\n",
              "          element.innerHTML = '';\n",
              "          dataTable['output_type'] = 'display_data';\n",
              "          await google.colab.output.renderOutput(dataTable, element);\n",
              "          const docLink = document.createElement('div');\n",
              "          docLink.innerHTML = docLinkHtml;\n",
              "          element.appendChild(docLink);\n",
              "        }\n",
              "      </script>\n",
              "    </div>\n",
              "  </div>\n",
              "  "
            ]
          },
          "metadata": {},
          "execution_count": 40
        }
      ]
    },
    {
      "cell_type": "markdown",
      "source": [
        "##Check for outliers"
      ],
      "metadata": {
        "id": "QHAzafNzxI9V"
      }
    },
    {
      "cell_type": "code",
      "source": [
        "X_train[['Age', 'Age_median', 'Age_mean']].boxplot()"
      ],
      "metadata": {
        "colab": {
          "base_uri": "https://localhost:8080/",
          "height": 338
        },
        "id": "9-1M4eEJxFco",
        "outputId": "a81850c4-dd63-44ec-8a85-5fc13c9095e2"
      },
      "execution_count": null,
      "outputs": [
        {
          "output_type": "stream",
          "name": "stderr",
          "text": [
            "/usr/local/lib/python3.7/dist-packages/matplotlib/cbook/__init__.py:1376: VisibleDeprecationWarning: Creating an ndarray from ragged nested sequences (which is a list-or-tuple of lists-or-tuples-or ndarrays with different lengths or shapes) is deprecated. If you meant to do this, you must specify 'dtype=object' when creating the ndarray.\n",
            "  X = np.atleast_1d(X.T if isinstance(X, np.ndarray) else np.asarray(X))\n"
          ]
        },
        {
          "output_type": "execute_result",
          "data": {
            "text/plain": [
              "<matplotlib.axes._subplots.AxesSubplot at 0x7f0b75697710>"
            ]
          },
          "metadata": {},
          "execution_count": 41
        },
        {
          "output_type": "display_data",
          "data": {
            "text/plain": [
              "<Figure size 432x288 with 1 Axes>"
            ],
            "image/png": "[encoded data removed]"
          },
          "metadata": {
            "needs_background": "light"
          }
        }
      ]
    },
    {
      "cell_type": "code",
      "source": [
        "X_train[['Fare', 'Fare_median', 'Fare_mean']].boxplot()"
      ],
      "metadata": {
        "colab": {
          "base_uri": "https://localhost:8080/",
          "height": 338
        },
        "id": "K362jiuHxM5h",
        "outputId": "84f35690-e1b3-427c-81a1-d894c28be2cb"
      },
      "execution_count": null,
      "outputs": [
        {
          "output_type": "stream",
          "name": "stderr",
          "text": [
            "/usr/local/lib/python3.7/dist-packages/matplotlib/cbook/__init__.py:1376: VisibleDeprecationWarning: Creating an ndarray from ragged nested sequences (which is a list-or-tuple of lists-or-tuples-or ndarrays with different lengths or shapes) is deprecated. If you meant to do this, you must specify 'dtype=object' when creating the ndarray.\n",
            "  X = np.atleast_1d(X.T if isinstance(X, np.ndarray) else np.asarray(X))\n"
          ]
        },
        {
          "output_type": "execute_result",
          "data": {
            "text/plain": [
              "<matplotlib.axes._subplots.AxesSubplot at 0x7f0b755776d0>"
            ]
          },
          "metadata": {},
          "execution_count": 42
        },
        {
          "output_type": "display_data",
          "data": {
            "text/plain": [
              "<Figure size 432x288 with 1 Axes>"
            ],
            "image/png": "[encoded data removed]"
          },
          "metadata": {
            "needs_background": "light"
          }
        }
      ]
    },
    {
      "cell_type": "markdown",
      "source": [
        "## So you can observe we can apply mean/meadian on FARE Column because there is very less changes in covarience nad corelation but there is a big changes in AGE column so we can avoid mean/median on AGE column or we can go for another imputation technique."
      ],
      "metadata": {
        "id": "3tlobtJAxRaJ"
      }
    },
    {
      "cell_type": "markdown",
      "source": [
        "#Now try imputation using sklearn"
      ],
      "metadata": {
        "id": "_pp97YGexjO7"
      }
    },
    {
      "cell_type": "code",
      "source": [
        "X_train,X_test,y_train,y_test = train_test_split(X,y,test_size=0.2,random_state=2)"
      ],
      "metadata": {
        "id": "Fi-yxPKVxQIK"
      },
      "execution_count": null,
      "outputs": []
    },
    {
      "cell_type": "code",
      "source": [
        "imputer1 = SimpleImputer(strategy='median')\n",
        "imputer2 = SimpleImputer(strategy='mean')"
      ],
      "metadata": {
        "id": "XLVsx1Rrxn4k"
      },
      "execution_count": null,
      "outputs": []
    },
    {
      "cell_type": "code",
      "source": [
        "trf = ColumnTransformer([\n",
        "    ('imputer1',imputer1,['Age']),\n",
        "    ('imputer2',imputer2,['Fare'])\n",
        "],remainder='passthrough')"
      ],
      "metadata": {
        "id": "1T-wU7IzxqVe"
      },
      "execution_count": null,
      "outputs": []
    },
    {
      "cell_type": "code",
      "source": [
        "trf.fit(X_train)"
      ],
      "metadata": {
        "colab": {
          "base_uri": "https://localhost:8080/"
        },
        "id": "iUHQfSgpxs0Z",
        "outputId": "8ef10aed-5e78-4e47-fed1-bf92afcab8d6"
      },
      "execution_count": null,
      "outputs": [
        {
          "output_type": "execute_result",
          "data": {
            "text/plain": [
              "ColumnTransformer(remainder='passthrough',\n",
              "                  transformers=[('imputer1', SimpleImputer(strategy='median'),\n",
              "                                 ['Age']),\n",
              "                                ('imputer2', SimpleImputer(), ['Fare'])])"
            ]
          },
          "metadata": {},
          "execution_count": 46
        }
      ]
    },
    {
      "cell_type": "code",
      "source": [
        "trf.named_transformers_['imputer1'].statistics_"
      ],
      "metadata": {
        "colab": {
          "base_uri": "https://localhost:8080/"
        },
        "id": "xZAY3qgdxvwi",
        "outputId": "dbb14ca4-1dba-4598-caef-793ea4df7ddc"
      },
      "execution_count": null,
      "outputs": [
        {
          "output_type": "execute_result",
          "data": {
            "text/plain": [
              "array([28.75])"
            ]
          },
          "metadata": {},
          "execution_count": 47
        }
      ]
    },
    {
      "cell_type": "code",
      "source": [
        "trf.named_transformers_['imputer2'].statistics_"
      ],
      "metadata": {
        "colab": {
          "base_uri": "https://localhost:8080/"
        },
        "id": "XSXIK9cfxyaB",
        "outputId": "0244044e-1b3c-4122-9f57-500697f40324"
      },
      "execution_count": null,
      "outputs": [
        {
          "output_type": "execute_result",
          "data": {
            "text/plain": [
              "array([32.61759689])"
            ]
          },
          "metadata": {},
          "execution_count": 48
        }
      ]
    },
    {
      "cell_type": "code",
      "source": [
        "X_train = trf.transform(X_train)\n",
        "X_test = trf.transform(X_test)"
      ],
      "metadata": {
        "id": "Xp1EvbOdx1hX"
      },
      "execution_count": null,
      "outputs": []
    },
    {
      "cell_type": "code",
      "source": [
        "X_train"
      ],
      "metadata": {
        "colab": {
          "base_uri": "https://localhost:8080/"
        },
        "id": "mO2hXBBwx46t",
        "outputId": "e3f0bfc1-fa10-437a-ba8b-c2925324baf3"
      },
      "execution_count": null,
      "outputs": [
        {
          "output_type": "execute_result",
          "data": {
            "text/plain": [
              "array([[ 40.    ,  27.7208,   0.    ],\n",
              "       [  4.    ,  16.7   ,   2.    ],\n",
              "       [ 47.    ,   9.    ,   0.    ],\n",
              "       ...,\n",
              "       [ 71.    ,  49.5042,   0.    ],\n",
              "       [ 28.75  , 221.7792,   0.    ],\n",
              "       [ 28.75  ,  25.925 ,   0.    ]])"
            ]
          },
          "metadata": {},
          "execution_count": 50
        }
      ]
    },
    {
      "cell_type": "markdown",
      "source": [
        "# Arbitrary value imputation\n",
        "## in this tehnique you will fill missing value by any value which you want like99,999 ,-1etc. Basically this technique is used in categorical colun imputation you use 'Missing' to fill nan values. The whole idea is this your model check where the missing value in your dataset.this arbitrary value shows here is the missing value."
      ],
      "metadata": {
        "id": "5Q22vIHZx-33"
      }
    },
    {
      "cell_type": "markdown",
      "source": [
        "#when to use\n",
        "##when data missing is not at random\n"
      ],
      "metadata": {
        "id": "Jxj2KcGMyBHl"
      }
    },
    {
      "cell_type": "code",
      "source": [
        "import pandas as pd\n",
        "import numpy as np\n",
        "import matplotlib.pyplot as plt"
      ],
      "metadata": {
        "id": "9E0slZwRx6cX"
      },
      "execution_count": null,
      "outputs": []
    },
    {
      "cell_type": "code",
      "source": [
        "from sklearn.model_selection import train_test_split\n",
        "from sklearn.impute import SimpleImputer\n",
        "from sklearn.compose import ColumnTransformer"
      ],
      "metadata": {
        "id": "s5bgbg_byKFM"
      },
      "execution_count": null,
      "outputs": []
    },
    {
      "cell_type": "code",
      "source": [
        "df=pd.read_csv('/content/drive/MyDrive/Colab Notebooks/0machine learning/csv data/titanic_toy.csv')\n",
        "df.head()"
      ],
      "metadata": {
        "colab": {
          "base_uri": "https://localhost:8080/",
          "height": 206
        },
        "id": "bgxtzCaDyMX-",
        "outputId": "2d83db8b-a38c-467b-dd7d-36e1843e3d02"
      },
      "execution_count": null,
      "outputs": [
        {
          "output_type": "execute_result",
          "data": {
            "text/plain": [
              "    Age     Fare  Family  Survived\n",
              "0  22.0   7.2500       1         0\n",
              "1  38.0  71.2833       1         1\n",
              "2  26.0   7.9250       0         1\n",
              "3  35.0  53.1000       1         1\n",
              "4  35.0   8.0500       0         0"
            ],
            "text/html": [
              "\n",
              "  <div id=\"df-b32fb4c6-a46c-4705-9c29-7a18000afd82\">\n",
              "    <div class=\"colab-df-container\">\n",
              "      <div>\n",
              "<style scoped>\n",
              "    .dataframe tbody tr th:only-of-type {\n",
              "        vertical-align: middle;\n",
              "    }\n",
              "\n",
              "    .dataframe tbody tr th {\n",
              "        vertical-align: top;\n",
              "    }\n",
              "\n",
              "    .dataframe thead th {\n",
              "        text-align: right;\n",
              "    }\n",
              "</style>\n",
              "<table border=\"1\" class=\"dataframe\">\n",
              "  <thead>\n",
              "    <tr style=\"text-align: right;\">\n",
              "      <th></th>\n",
              "      <th>Age</th>\n",
              "      <th>Fare</th>\n",
              "      <th>Family</th>\n",
              "      <th>Survived</th>\n",
              "    </tr>\n",
              "  </thead>\n",
              "  <tbody>\n",
              "    <tr>\n",
              "      <th>0</th>\n",
              "      <td>22.0</td>\n",
              "      <td>7.2500</td>\n",
              "      <td>1</td>\n",
              "      <td>0</td>\n",
              "    </tr>\n",
              "    <tr>\n",
              "      <th>1</th>\n",
              "      <td>38.0</td>\n",
              "      <td>71.2833</td>\n",
              "      <td>1</td>\n",
              "      <td>1</td>\n",
              "    </tr>\n",
              "    <tr>\n",
              "      <th>2</th>\n",
              "      <td>26.0</td>\n",
              "      <td>7.9250</td>\n",
              "      <td>0</td>\n",
              "      <td>1</td>\n",
              "    </tr>\n",
              "    <tr>\n",
              "      <th>3</th>\n",
              "      <td>35.0</td>\n",
              "      <td>53.1000</td>\n",
              "      <td>1</td>\n",
              "      <td>1</td>\n",
              "    </tr>\n",
              "    <tr>\n",
              "      <th>4</th>\n",
              "      <td>35.0</td>\n",
              "      <td>8.0500</td>\n",
              "      <td>0</td>\n",
              "      <td>0</td>\n",
              "    </tr>\n",
              "  </tbody>\n",
              "</table>\n",
              "</div>\n",
              "      <button class=\"colab-df-convert\" onclick=\"convertToInteractive('df-b32fb4c6-a46c-4705-9c29-7a18000afd82')\"\n",
              "              title=\"Convert this dataframe to an interactive table.\"\n",
              "              style=\"display:none;\">\n",
              "        \n",
              "  <svg xmlns=\"http://www.w3.org/2000/svg\" height=\"24px\"viewBox=\"0 0 24 24\"\n",
              "       width=\"24px\">\n",
              "    <path d=\"M0 0h24v24H0V0z\" fill=\"none\"/>\n",
              "    <path d=\"M18.56 5.44l.94 2.06.94-2.06 2.06-.94-2.06-.94-.94-2.06-.94 2.06-2.06.94zm-11 1L8.5 8.5l.94-2.06 2.06-.94-2.06-.94L8.5 2.5l-.94 2.06-2.06.94zm10 10l.94 2.06.94-2.06 2.06-.94-2.06-.94-.94-2.06-.94 2.06-2.06.94z\"/><path d=\"M17.41 7.96l-1.37-1.37c-.4-.4-.92-.59-1.43-.59-.52 0-1.04.2-1.43.59L10.3 9.45l-7.72 7.72c-.78.78-.78 2.05 0 2.83L4 21.41c.39.39.9.59 1.41.59.51 0 1.02-.2 1.41-.59l7.78-7.78 2.81-2.81c.8-.78.8-2.07 0-2.86zM5.41 20L4 18.59l7.72-7.72 1.47 1.35L5.41 20z\"/>\n",
              "  </svg>\n",
              "      </button>\n",
              "      \n",
              "  <style>\n",
              "    .colab-df-container {\n",
              "      display:flex;\n",
              "      flex-wrap:wrap;\n",
              "      gap: 12px;\n",
              "    }\n",
              "\n",
              "    .colab-df-convert {\n",
              "      background-color: #E8F0FE;\n",
              "      border: none;\n",
              "      border-radius: 50%;\n",
              "      cursor: pointer;\n",
              "      display: none;\n",
              "      fill: #1967D2;\n",
              "      height: 32px;\n",
              "      padding: 0 0 0 0;\n",
              "      width: 32px;\n",
              "    }\n",
              "\n",
              "    .colab-df-convert:hover {\n",
              "      background-color: #E2EBFA;\n",
              "      box-shadow: 0px 1px 2px rgba(60, 64, 67, 0.3), 0px 1px 3px 1px rgba(60, 64, 67, 0.15);\n",
              "      fill: #174EA6;\n",
              "    }\n",
              "\n",
              "    [theme=dark] .colab-df-convert {\n",
              "      background-color: #3B4455;\n",
              "      fill: #D2E3FC;\n",
              "    }\n",
              "\n",
              "    [theme=dark] .colab-df-convert:hover {\n",
              "      background-color: #434B5C;\n",
              "      box-shadow: 0px 1px 3px 1px rgba(0, 0, 0, 0.15);\n",
              "      filter: drop-shadow(0px 1px 2px rgba(0, 0, 0, 0.3));\n",
              "      fill: #FFFFFF;\n",
              "    }\n",
              "  </style>\n",
              "\n",
              "      <script>\n",
              "        const buttonEl =\n",
              "          document.querySelector('#df-b32fb4c6-a46c-4705-9c29-7a18000afd82 button.colab-df-convert');\n",
              "        buttonEl.style.display =\n",
              "          google.colab.kernel.accessAllowed ? 'block' : 'none';\n",
              "\n",
              "        async function convertToInteractive(key) {\n",
              "          const element = document.querySelector('#df-b32fb4c6-a46c-4705-9c29-7a18000afd82');\n",
              "          const dataTable =\n",
              "            await google.colab.kernel.invokeFunction('convertToInteractive',\n",
              "                                                     [key], {});\n",
              "          if (!dataTable) return;\n",
              "\n",
              "          const docLinkHtml = 'Like what you see? Visit the ' +\n",
              "            '<a target=\"_blank\" href=https://colab.research.google.com/notebooks/data_table.ipynb>data table notebook</a>'\n",
              "            + ' to learn more about interactive tables.';\n",
              "          element.innerHTML = '';\n",
              "          dataTable['output_type'] = 'display_data';\n",
              "          await google.colab.output.renderOutput(dataTable, element);\n",
              "          const docLink = document.createElement('div');\n",
              "          docLink.innerHTML = docLinkHtml;\n",
              "          element.appendChild(docLink);\n",
              "        }\n",
              "      </script>\n",
              "    </div>\n",
              "  </div>\n",
              "  "
            ]
          },
          "metadata": {},
          "execution_count": 53
        }
      ]
    },
    {
      "cell_type": "code",
      "source": [
        "df.isnull().mean()"
      ],
      "metadata": {
        "colab": {
          "base_uri": "https://localhost:8080/"
        },
        "id": "RPKvAbGyyPJQ",
        "outputId": "0141e09f-7da3-4981-d686-349f17dee3b4"
      },
      "execution_count": null,
      "outputs": [
        {
          "output_type": "execute_result",
          "data": {
            "text/plain": [
              "Age         0.198653\n",
              "Fare        0.050505\n",
              "Family      0.000000\n",
              "Survived    0.000000\n",
              "dtype: float64"
            ]
          },
          "metadata": {},
          "execution_count": 54
        }
      ]
    },
    {
      "cell_type": "code",
      "source": [
        "X = df.drop(columns=['Survived'])\n",
        "y = df['Survived']"
      ],
      "metadata": {
        "id": "dwezaFD8yRpK"
      },
      "execution_count": null,
      "outputs": []
    },
    {
      "cell_type": "code",
      "source": [
        "X_train,X_test,y_train,y_test = train_test_split(X,y,test_size=0.2,random_state=2)"
      ],
      "metadata": {
        "id": "yqfnDWp6yUkh"
      },
      "execution_count": null,
      "outputs": []
    },
    {
      "cell_type": "code",
      "source": [
        "X_train['Age_99'] = X_train['Age'].fillna(99)\n",
        "X_train['Age_minus1'] = X_train['Age'].fillna(-1)"
      ],
      "metadata": {
        "id": "NKIDxAO4yW07"
      },
      "execution_count": null,
      "outputs": []
    },
    {
      "cell_type": "code",
      "source": [
        "X_train['Fare_999'] = X_train['Fare'].fillna(999)\n",
        "X_train['Fare_minus1'] = X_train['Fare'].fillna(-1)"
      ],
      "metadata": {
        "id": "B-kUfYqZyY75"
      },
      "execution_count": null,
      "outputs": []
    },
    {
      "cell_type": "code",
      "source": [
        "print('Original Age variable variance: ', X_train['Age'].var())\n",
        "print('Age Variance after 99 wala imputation: ', X_train['Age_99'].var())\n",
        "print('Age Variance after -1 wala imputation: ', X_train['Age_minus1'].var())\n",
        "\n",
        "print('Original Fare variable variance: ', X_train['Fare'].var())\n",
        "print('Fare Variance after 999 wala imputation: ', X_train['Fare_999'].var())\n",
        "print('Fare Variance after -1 wala imputation: ', X_train['Fare_minus1'].var())"
      ],
      "metadata": {
        "colab": {
          "base_uri": "https://localhost:8080/"
        },
        "id": "QYiR9lkrybUB",
        "outputId": "8c35c32f-a6ad-4d04-bc8e-584fb6e005ba"
      },
      "execution_count": null,
      "outputs": [
        {
          "output_type": "stream",
          "name": "stdout",
          "text": [
            "Original Age variable variance:  204.34951339046142\n",
            "Age Variance after 99 wala imputation:  951.7275570187188\n",
            "Age Variance after -1 wala imputation:  318.0896202624488\n",
            "Original Fare variable variance:  2448.1979137063163\n",
            "Fare Variance after 999 wala imputation:  47219.202652176304\n",
            "Fare Variance after -1 wala imputation:  2378.5676784883494\n"
          ]
        }
      ]
    },
    {
      "cell_type": "code",
      "source": [
        "fig = plt.figure()\n",
        "ax = fig.add_subplot(111)\n",
        "\n",
        "# original variable distribution\n",
        "X_train['Age'].plot(kind='kde', ax=ax)\n",
        "\n",
        "# variable imputed with the median\n",
        "X_train['Age_99'].plot(kind='kde', ax=ax, color='red')\n",
        "\n",
        "# variable imputed with the mean\n",
        "X_train['Age_minus1'].plot(kind='kde', ax=ax, color='green')\n",
        "\n",
        "# add legends\n",
        "lines, labels = ax.get_legend_handles_labels()\n",
        "ax.legend(lines, labels, loc='best')"
      ],
      "metadata": {
        "colab": {
          "base_uri": "https://localhost:8080/",
          "height": 282
        },
        "id": "Z4BXBaKNyedt",
        "outputId": "1d14d45f-e5e8-4c94-9819-6297bc6030f2"
      },
      "execution_count": null,
      "outputs": [
        {
          "output_type": "execute_result",
          "data": {
            "text/plain": [
              "<matplotlib.legend.Legend at 0x7f0b74a52f50>"
            ]
          },
          "metadata": {},
          "execution_count": 60
        },
        {
          "output_type": "display_data",
          "data": {
            "text/plain": [
              "<Figure size 432x288 with 1 Axes>"
            ],
            "image/png": "[encoded data removed]"
          },
          "metadata": {
            "needs_background": "light"
          }
        }
      ]
    },
    {
      "cell_type": "code",
      "source": [
        "fig = plt.figure()\n",
        "ax = fig.add_subplot(111)\n",
        "\n",
        "# original variable distribution\n",
        "X_train['Fare'].plot(kind='kde', ax=ax)\n",
        "\n",
        "# variable imputed with the median\n",
        "X_train['Fare_999'].plot(kind='kde', ax=ax, color='red')\n",
        "\n",
        "# variable imputed with the mean\n",
        "X_train['Fare_minus1'].plot(kind='kde', ax=ax, color='green')\n",
        "\n",
        "# add legends\n",
        "lines, labels = ax.get_legend_handles_labels()\n",
        "ax.legend(lines, labels, loc='best')"
      ],
      "metadata": {
        "colab": {
          "base_uri": "https://localhost:8080/",
          "height": 282
        },
        "id": "VVJHMITVyhhJ",
        "outputId": "2dd77b73-ed24-4c89-f69e-1d74b51cd218"
      },
      "execution_count": null,
      "outputs": [
        {
          "output_type": "execute_result",
          "data": {
            "text/plain": [
              "<matplotlib.legend.Legend at 0x7f0b74966390>"
            ]
          },
          "metadata": {},
          "execution_count": 61
        },
        {
          "output_type": "display_data",
          "data": {
            "text/plain": [
              "<Figure size 432x288 with 1 Axes>"
            ],
            "image/png": "[encoded data removed]"
          },
          "metadata": {
            "needs_background": "light"
          }
        }
      ]
    },
    {
      "cell_type": "code",
      "source": [
        "X_train.cov()"
      ],
      "metadata": {
        "colab": {
          "base_uri": "https://localhost:8080/",
          "height": 269
        },
        "id": "GADMxd5gykbY",
        "outputId": "edf471e7-6cdd-40b8-c11d-316031dcc71c"
      },
      "execution_count": null,
      "outputs": [
        {
          "output_type": "execute_result",
          "data": {
            "text/plain": [
              "                    Age         Fare     Family      Age_99  Age_minus1  \\\n",
              "Age          204.349513    70.719262  -6.498901  204.349513  204.349513   \n",
              "Fare          70.719262  2448.197914  17.258917 -101.671097  125.558364   \n",
              "Family        -6.498901    17.258917   2.735252   -7.387287   -4.149246   \n",
              "Age_99       204.349513  -101.671097  -7.387287  951.727557 -189.535540   \n",
              "Age_minus1   204.349513   125.558364  -4.149246 -189.535540  318.089620   \n",
              "Fare_999     162.793430  2448.197914  11.528625 -159.931663  257.379887   \n",
              "Fare_minus1   63.321188  2448.197914  16.553989  -94.317400  114.394141   \n",
              "\n",
              "                 Fare_999  Fare_minus1  \n",
              "Age            162.793430    63.321188  \n",
              "Fare          2448.197914  2448.197914  \n",
              "Family          11.528625    16.553989  \n",
              "Age_99        -159.931663   -94.317400  \n",
              "Age_minus1     257.379887   114.394141  \n",
              "Fare_999     47219.202652   762.474982  \n",
              "Fare_minus1    762.474982  2378.567678  "
            ],
            "text/html": [
              "\n",
              "  <div id=\"df-8bedd76a-4f41-40b4-957a-b1dc04277842\">\n",
              "    <div class=\"colab-df-container\">\n",
              "      <div>\n",
              "<style scoped>\n",
              "    .dataframe tbody tr th:only-of-type {\n",
              "        vertical-align: middle;\n",
              "    }\n",
              "\n",
              "    .dataframe tbody tr th {\n",
              "        vertical-align: top;\n",
              "    }\n",
              "\n",
              "    .dataframe thead th {\n",
              "        text-align: right;\n",
              "    }\n",
              "</style>\n",
              "<table border=\"1\" class=\"dataframe\">\n",
              "  <thead>\n",
              "    <tr style=\"text-align: right;\">\n",
              "      <th></th>\n",
              "      <th>Age</th>\n",
              "      <th>Fare</th>\n",
              "      <th>Family</th>\n",
              "      <th>Age_99</th>\n",
              "      <th>Age_minus1</th>\n",
              "      <th>Fare_999</th>\n",
              "      <th>Fare_minus1</th>\n",
              "    </tr>\n",
              "  </thead>\n",
              "  <tbody>\n",
              "    <tr>\n",
              "      <th>Age</th>\n",
              "      <td>204.349513</td>\n",
              "      <td>70.719262</td>\n",
              "      <td>-6.498901</td>\n",
              "      <td>204.349513</td>\n",
              "      <td>204.349513</td>\n",
              "      <td>162.793430</td>\n",
              "      <td>63.321188</td>\n",
              "    </tr>\n",
              "    <tr>\n",
              "      <th>Fare</th>\n",
              "      <td>70.719262</td>\n",
              "      <td>2448.197914</td>\n",
              "      <td>17.258917</td>\n",
              "      <td>-101.671097</td>\n",
              "      <td>125.558364</td>\n",
              "      <td>2448.197914</td>\n",
              "      <td>2448.197914</td>\n",
              "    </tr>\n",
              "    <tr>\n",
              "      <th>Family</th>\n",
              "      <td>-6.498901</td>\n",
              "      <td>17.258917</td>\n",
              "      <td>2.735252</td>\n",
              "      <td>-7.387287</td>\n",
              "      <td>-4.149246</td>\n",
              "      <td>11.528625</td>\n",
              "      <td>16.553989</td>\n",
              "    </tr>\n",
              "    <tr>\n",
              "      <th>Age_99</th>\n",
              "      <td>204.349513</td>\n",
              "      <td>-101.671097</td>\n",
              "      <td>-7.387287</td>\n",
              "      <td>951.727557</td>\n",
              "      <td>-189.535540</td>\n",
              "      <td>-159.931663</td>\n",
              "      <td>-94.317400</td>\n",
              "    </tr>\n",
              "    <tr>\n",
              "      <th>Age_minus1</th>\n",
              "      <td>204.349513</td>\n",
              "      <td>125.558364</td>\n",
              "      <td>-4.149246</td>\n",
              "      <td>-189.535540</td>\n",
              "      <td>318.089620</td>\n",
              "      <td>257.379887</td>\n",
              "      <td>114.394141</td>\n",
              "    </tr>\n",
              "    <tr>\n",
              "      <th>Fare_999</th>\n",
              "      <td>162.793430</td>\n",
              "      <td>2448.197914</td>\n",
              "      <td>11.528625</td>\n",
              "      <td>-159.931663</td>\n",
              "      <td>257.379887</td>\n",
              "      <td>47219.202652</td>\n",
              "      <td>762.474982</td>\n",
              "    </tr>\n",
              "    <tr>\n",
              "      <th>Fare_minus1</th>\n",
              "      <td>63.321188</td>\n",
              "      <td>2448.197914</td>\n",
              "      <td>16.553989</td>\n",
              "      <td>-94.317400</td>\n",
              "      <td>114.394141</td>\n",
              "      <td>762.474982</td>\n",
              "      <td>2378.567678</td>\n",
              "    </tr>\n",
              "  </tbody>\n",
              "</table>\n",
              "</div>\n",
              "      <button class=\"colab-df-convert\" onclick=\"convertToInteractive('df-8bedd76a-4f41-40b4-957a-b1dc04277842')\"\n",
              "              title=\"Convert this dataframe to an interactive table.\"\n",
              "              style=\"display:none;\">\n",
              "        \n",
              "  <svg xmlns=\"http://www.w3.org/2000/svg\" height=\"24px\"viewBox=\"0 0 24 24\"\n",
              "       width=\"24px\">\n",
              "    <path d=\"M0 0h24v24H0V0z\" fill=\"none\"/>\n",
              "    <path d=\"M18.56 5.44l.94 2.06.94-2.06 2.06-.94-2.06-.94-.94-2.06-.94 2.06-2.06.94zm-11 1L8.5 8.5l.94-2.06 2.06-.94-2.06-.94L8.5 2.5l-.94 2.06-2.06.94zm10 10l.94 2.06.94-2.06 2.06-.94-2.06-.94-.94-2.06-.94 2.06-2.06.94z\"/><path d=\"M17.41 7.96l-1.37-1.37c-.4-.4-.92-.59-1.43-.59-.52 0-1.04.2-1.43.59L10.3 9.45l-7.72 7.72c-.78.78-.78 2.05 0 2.83L4 21.41c.39.39.9.59 1.41.59.51 0 1.02-.2 1.41-.59l7.78-7.78 2.81-2.81c.8-.78.8-2.07 0-2.86zM5.41 20L4 18.59l7.72-7.72 1.47 1.35L5.41 20z\"/>\n",
              "  </svg>\n",
              "      </button>\n",
              "      \n",
              "  <style>\n",
              "    .colab-df-container {\n",
              "      display:flex;\n",
              "      flex-wrap:wrap;\n",
              "      gap: 12px;\n",
              "    }\n",
              "\n",
              "    .colab-df-convert {\n",
              "      background-color: #E8F0FE;\n",
              "      border: none;\n",
              "      border-radius: 50%;\n",
              "      cursor: pointer;\n",
              "      display: none;\n",
              "      fill: #1967D2;\n",
              "      height: 32px;\n",
              "      padding: 0 0 0 0;\n",
              "      width: 32px;\n",
              "    }\n",
              "\n",
              "    .colab-df-convert:hover {\n",
              "      background-color: #E2EBFA;\n",
              "      box-shadow: 0px 1px 2px rgba(60, 64, 67, 0.3), 0px 1px 3px 1px rgba(60, 64, 67, 0.15);\n",
              "      fill: #174EA6;\n",
              "    }\n",
              "\n",
              "    [theme=dark] .colab-df-convert {\n",
              "      background-color: #3B4455;\n",
              "      fill: #D2E3FC;\n",
              "    }\n",
              "\n",
              "    [theme=dark] .colab-df-convert:hover {\n",
              "      background-color: #434B5C;\n",
              "      box-shadow: 0px 1px 3px 1px rgba(0, 0, 0, 0.15);\n",
              "      filter: drop-shadow(0px 1px 2px rgba(0, 0, 0, 0.3));\n",
              "      fill: #FFFFFF;\n",
              "    }\n",
              "  </style>\n",
              "\n",
              "      <script>\n",
              "        const buttonEl =\n",
              "          document.querySelector('#df-8bedd76a-4f41-40b4-957a-b1dc04277842 button.colab-df-convert');\n",
              "        buttonEl.style.display =\n",
              "          google.colab.kernel.accessAllowed ? 'block' : 'none';\n",
              "\n",
              "        async function convertToInteractive(key) {\n",
              "          const element = document.querySelector('#df-8bedd76a-4f41-40b4-957a-b1dc04277842');\n",
              "          const dataTable =\n",
              "            await google.colab.kernel.invokeFunction('convertToInteractive',\n",
              "                                                     [key], {});\n",
              "          if (!dataTable) return;\n",
              "\n",
              "          const docLinkHtml = 'Like what you see? Visit the ' +\n",
              "            '<a target=\"_blank\" href=https://colab.research.google.com/notebooks/data_table.ipynb>data table notebook</a>'\n",
              "            + ' to learn more about interactive tables.';\n",
              "          element.innerHTML = '';\n",
              "          dataTable['output_type'] = 'display_data';\n",
              "          await google.colab.output.renderOutput(dataTable, element);\n",
              "          const docLink = document.createElement('div');\n",
              "          docLink.innerHTML = docLinkHtml;\n",
              "          element.appendChild(docLink);\n",
              "        }\n",
              "      </script>\n",
              "    </div>\n",
              "  </div>\n",
              "  "
            ]
          },
          "metadata": {},
          "execution_count": 62
        }
      ]
    },
    {
      "cell_type": "code",
      "source": [
        "X_train.corr()"
      ],
      "metadata": {
        "colab": {
          "base_uri": "https://localhost:8080/",
          "height": 269
        },
        "id": "5QxLO_95ynGb",
        "outputId": "974c5f2c-bf71-4e4f-f334-0d10e6db833c"
      },
      "execution_count": null,
      "outputs": [
        {
          "output_type": "execute_result",
          "data": {
            "text/plain": [
              "                  Age      Fare    Family    Age_99  Age_minus1  Fare_999  \\\n",
              "Age          1.000000  0.092644 -0.299113  1.000000    1.000000  0.051179   \n",
              "Fare         0.092644  1.000000  0.208268 -0.066273    0.142022  1.000000   \n",
              "Family      -0.299113  0.208268  1.000000 -0.144787   -0.140668  0.032079   \n",
              "Age_99       1.000000 -0.066273 -0.144787  1.000000   -0.344476 -0.023857   \n",
              "Age_minus1   1.000000  0.142022 -0.140668 -0.344476    1.000000  0.066411   \n",
              "Fare_999     0.051179  1.000000  0.032079 -0.023857    0.066411  1.000000   \n",
              "Fare_minus1  0.084585  1.000000  0.205233 -0.062687    0.131514  0.071946   \n",
              "\n",
              "             Fare_minus1  \n",
              "Age             0.084585  \n",
              "Fare            1.000000  \n",
              "Family          0.205233  \n",
              "Age_99         -0.062687  \n",
              "Age_minus1      0.131514  \n",
              "Fare_999        0.071946  \n",
              "Fare_minus1     1.000000  "
            ],
            "text/html": [
              "\n",
              "  <div id=\"df-b2620334-d309-467f-b6e2-6da1c16dcd5f\">\n",
              "    <div class=\"colab-df-container\">\n",
              "      <div>\n",
              "<style scoped>\n",
              "    .dataframe tbody tr th:only-of-type {\n",
              "        vertical-align: middle;\n",
              "    }\n",
              "\n",
              "    .dataframe tbody tr th {\n",
              "        vertical-align: top;\n",
              "    }\n",
              "\n",
              "    .dataframe thead th {\n",
              "        text-align: right;\n",
              "    }\n",
              "</style>\n",
              "<table border=\"1\" class=\"dataframe\">\n",
              "  <thead>\n",
              "    <tr style=\"text-align: right;\">\n",
              "      <th></th>\n",
              "      <th>Age</th>\n",
              "      <th>Fare</th>\n",
              "      <th>Family</th>\n",
              "      <th>Age_99</th>\n",
              "      <th>Age_minus1</th>\n",
              "      <th>Fare_999</th>\n",
              "      <th>Fare_minus1</th>\n",
              "    </tr>\n",
              "  </thead>\n",
              "  <tbody>\n",
              "    <tr>\n",
              "      <th>Age</th>\n",
              "      <td>1.000000</td>\n",
              "      <td>0.092644</td>\n",
              "      <td>-0.299113</td>\n",
              "      <td>1.000000</td>\n",
              "      <td>1.000000</td>\n",
              "      <td>0.051179</td>\n",
              "      <td>0.084585</td>\n",
              "    </tr>\n",
              "    <tr>\n",
              "      <th>Fare</th>\n",
              "      <td>0.092644</td>\n",
              "      <td>1.000000</td>\n",
              "      <td>0.208268</td>\n",
              "      <td>-0.066273</td>\n",
              "      <td>0.142022</td>\n",
              "      <td>1.000000</td>\n",
              "      <td>1.000000</td>\n",
              "    </tr>\n",
              "    <tr>\n",
              "      <th>Family</th>\n",
              "      <td>-0.299113</td>\n",
              "      <td>0.208268</td>\n",
              "      <td>1.000000</td>\n",
              "      <td>-0.144787</td>\n",
              "      <td>-0.140668</td>\n",
              "      <td>0.032079</td>\n",
              "      <td>0.205233</td>\n",
              "    </tr>\n",
              "    <tr>\n",
              "      <th>Age_99</th>\n",
              "      <td>1.000000</td>\n",
              "      <td>-0.066273</td>\n",
              "      <td>-0.144787</td>\n",
              "      <td>1.000000</td>\n",
              "      <td>-0.344476</td>\n",
              "      <td>-0.023857</td>\n",
              "      <td>-0.062687</td>\n",
              "    </tr>\n",
              "    <tr>\n",
              "      <th>Age_minus1</th>\n",
              "      <td>1.000000</td>\n",
              "      <td>0.142022</td>\n",
              "      <td>-0.140668</td>\n",
              "      <td>-0.344476</td>\n",
              "      <td>1.000000</td>\n",
              "      <td>0.066411</td>\n",
              "      <td>0.131514</td>\n",
              "    </tr>\n",
              "    <tr>\n",
              "      <th>Fare_999</th>\n",
              "      <td>0.051179</td>\n",
              "      <td>1.000000</td>\n",
              "      <td>0.032079</td>\n",
              "      <td>-0.023857</td>\n",
              "      <td>0.066411</td>\n",
              "      <td>1.000000</td>\n",
              "      <td>0.071946</td>\n",
              "    </tr>\n",
              "    <tr>\n",
              "      <th>Fare_minus1</th>\n",
              "      <td>0.084585</td>\n",
              "      <td>1.000000</td>\n",
              "      <td>0.205233</td>\n",
              "      <td>-0.062687</td>\n",
              "      <td>0.131514</td>\n",
              "      <td>0.071946</td>\n",
              "      <td>1.000000</td>\n",
              "    </tr>\n",
              "  </tbody>\n",
              "</table>\n",
              "</div>\n",
              "      <button class=\"colab-df-convert\" onclick=\"convertToInteractive('df-b2620334-d309-467f-b6e2-6da1c16dcd5f')\"\n",
              "              title=\"Convert this dataframe to an interactive table.\"\n",
              "              style=\"display:none;\">\n",
              "        \n",
              "  <svg xmlns=\"http://www.w3.org/2000/svg\" height=\"24px\"viewBox=\"0 0 24 24\"\n",
              "       width=\"24px\">\n",
              "    <path d=\"M0 0h24v24H0V0z\" fill=\"none\"/>\n",
              "    <path d=\"M18.56 5.44l.94 2.06.94-2.06 2.06-.94-2.06-.94-.94-2.06-.94 2.06-2.06.94zm-11 1L8.5 8.5l.94-2.06 2.06-.94-2.06-.94L8.5 2.5l-.94 2.06-2.06.94zm10 10l.94 2.06.94-2.06 2.06-.94-2.06-.94-.94-2.06-.94 2.06-2.06.94z\"/><path d=\"M17.41 7.96l-1.37-1.37c-.4-.4-.92-.59-1.43-.59-.52 0-1.04.2-1.43.59L10.3 9.45l-7.72 7.72c-.78.78-.78 2.05 0 2.83L4 21.41c.39.39.9.59 1.41.59.51 0 1.02-.2 1.41-.59l7.78-7.78 2.81-2.81c.8-.78.8-2.07 0-2.86zM5.41 20L4 18.59l7.72-7.72 1.47 1.35L5.41 20z\"/>\n",
              "  </svg>\n",
              "      </button>\n",
              "      \n",
              "  <style>\n",
              "    .colab-df-container {\n",
              "      display:flex;\n",
              "      flex-wrap:wrap;\n",
              "      gap: 12px;\n",
              "    }\n",
              "\n",
              "    .colab-df-convert {\n",
              "      background-color: #E8F0FE;\n",
              "      border: none;\n",
              "      border-radius: 50%;\n",
              "      cursor: pointer;\n",
              "      display: none;\n",
              "      fill: #1967D2;\n",
              "      height: 32px;\n",
              "      padding: 0 0 0 0;\n",
              "      width: 32px;\n",
              "    }\n",
              "\n",
              "    .colab-df-convert:hover {\n",
              "      background-color: #E2EBFA;\n",
              "      box-shadow: 0px 1px 2px rgba(60, 64, 67, 0.3), 0px 1px 3px 1px rgba(60, 64, 67, 0.15);\n",
              "      fill: #174EA6;\n",
              "    }\n",
              "\n",
              "    [theme=dark] .colab-df-convert {\n",
              "      background-color: #3B4455;\n",
              "      fill: #D2E3FC;\n",
              "    }\n",
              "\n",
              "    [theme=dark] .colab-df-convert:hover {\n",
              "      background-color: #434B5C;\n",
              "      box-shadow: 0px 1px 3px 1px rgba(0, 0, 0, 0.15);\n",
              "      filter: drop-shadow(0px 1px 2px rgba(0, 0, 0, 0.3));\n",
              "      fill: #FFFFFF;\n",
              "    }\n",
              "  </style>\n",
              "\n",
              "      <script>\n",
              "        const buttonEl =\n",
              "          document.querySelector('#df-b2620334-d309-467f-b6e2-6da1c16dcd5f button.colab-df-convert');\n",
              "        buttonEl.style.display =\n",
              "          google.colab.kernel.accessAllowed ? 'block' : 'none';\n",
              "\n",
              "        async function convertToInteractive(key) {\n",
              "          const element = document.querySelector('#df-b2620334-d309-467f-b6e2-6da1c16dcd5f');\n",
              "          const dataTable =\n",
              "            await google.colab.kernel.invokeFunction('convertToInteractive',\n",
              "                                                     [key], {});\n",
              "          if (!dataTable) return;\n",
              "\n",
              "          const docLinkHtml = 'Like what you see? Visit the ' +\n",
              "            '<a target=\"_blank\" href=https://colab.research.google.com/notebooks/data_table.ipynb>data table notebook</a>'\n",
              "            + ' to learn more about interactive tables.';\n",
              "          element.innerHTML = '';\n",
              "          dataTable['output_type'] = 'display_data';\n",
              "          await google.colab.output.renderOutput(dataTable, element);\n",
              "          const docLink = document.createElement('div');\n",
              "          docLink.innerHTML = docLinkHtml;\n",
              "          element.appendChild(docLink);\n",
              "        }\n",
              "      </script>\n",
              "    </div>\n",
              "  </div>\n",
              "  "
            ]
          },
          "metadata": {},
          "execution_count": 63
        }
      ]
    },
    {
      "cell_type": "markdown",
      "source": [
        "#Using Sklearn"
      ],
      "metadata": {
        "id": "o73NiDrKyuXD"
      }
    },
    {
      "cell_type": "code",
      "source": [
        "X_train,X_test,y_train,y_test = train_test_split(X,y,test_size=0.2,random_state=2)"
      ],
      "metadata": {
        "id": "NILX3igZype_"
      },
      "execution_count": null,
      "outputs": []
    },
    {
      "cell_type": "code",
      "source": [
        "imputer1 = SimpleImputer(strategy='constant',fill_value=99)\n",
        "imputer2 = SimpleImputer(strategy='constant',fill_value=999)"
      ],
      "metadata": {
        "id": "EBIu5061y14I"
      },
      "execution_count": null,
      "outputs": []
    },
    {
      "cell_type": "code",
      "source": [
        "trf = ColumnTransformer([\n",
        "    ('imputer1',imputer1,['Age']),\n",
        "    ('imputer2',imputer2,['Fare'])\n",
        "],remainder='passthrough')"
      ],
      "metadata": {
        "id": "zR_P02Asy4JL"
      },
      "execution_count": null,
      "outputs": []
    },
    {
      "cell_type": "code",
      "source": [
        "trf.fit(X_train)"
      ],
      "metadata": {
        "colab": {
          "base_uri": "https://localhost:8080/"
        },
        "id": "sMB_6929y7ab",
        "outputId": "68e864ea-efdf-42b8-aa23-43347328a183"
      },
      "execution_count": null,
      "outputs": [
        {
          "output_type": "execute_result",
          "data": {
            "text/plain": [
              "ColumnTransformer(remainder='passthrough',\n",
              "                  transformers=[('imputer1',\n",
              "                                 SimpleImputer(fill_value=99,\n",
              "                                               strategy='constant'),\n",
              "                                 ['Age']),\n",
              "                                ('imputer2',\n",
              "                                 SimpleImputer(fill_value=999,\n",
              "                                               strategy='constant'),\n",
              "                                 ['Fare'])])"
            ]
          },
          "metadata": {},
          "execution_count": 67
        }
      ]
    },
    {
      "cell_type": "code",
      "source": [
        "trf.named_transformers_['imputer1'].statistics_"
      ],
      "metadata": {
        "colab": {
          "base_uri": "https://localhost:8080/"
        },
        "id": "d474edgIy9k0",
        "outputId": "4f33d5d1-dff8-4a4e-9a0b-73e0e3b6b4df"
      },
      "execution_count": null,
      "outputs": [
        {
          "output_type": "execute_result",
          "data": {
            "text/plain": [
              "array([99.])"
            ]
          },
          "metadata": {},
          "execution_count": 68
        }
      ]
    },
    {
      "cell_type": "code",
      "source": [
        "trf.named_transformers_['imputer2'].statistics_"
      ],
      "metadata": {
        "colab": {
          "base_uri": "https://localhost:8080/"
        },
        "id": "I5xpicDsy_1J",
        "outputId": "8305ec99-54f6-486e-a454-8315b8b8d408"
      },
      "execution_count": null,
      "outputs": [
        {
          "output_type": "execute_result",
          "data": {
            "text/plain": [
              "array([999.])"
            ]
          },
          "metadata": {},
          "execution_count": 69
        }
      ]
    },
    {
      "cell_type": "code",
      "source": [
        "X_train = trf.transform(X_train)\n",
        "X_test = trf.transform(X_test)"
      ],
      "metadata": {
        "id": "UyZ1M2aizCOg"
      },
      "execution_count": null,
      "outputs": []
    },
    {
      "cell_type": "code",
      "source": [
        "X_train"
      ],
      "metadata": {
        "colab": {
          "base_uri": "https://localhost:8080/"
        },
        "id": "_bZFiEvxzFr8",
        "outputId": "2d6781bc-2799-42b1-8196-05f7d3f944af"
      },
      "execution_count": null,
      "outputs": [
        {
          "output_type": "execute_result",
          "data": {
            "text/plain": [
              "array([[ 40.    ,  27.7208,   0.    ],\n",
              "       [  4.    ,  16.7   ,   2.    ],\n",
              "       [ 47.    ,   9.    ,   0.    ],\n",
              "       ...,\n",
              "       [ 71.    ,  49.5042,   0.    ],\n",
              "       [ 99.    , 221.7792,   0.    ],\n",
              "       [ 99.    ,  25.925 ,   0.    ]])"
            ]
          },
          "metadata": {},
          "execution_count": 71
        }
      ]
    },
    {
      "cell_type": "markdown",
      "source": [
        "#End of Distribution Imputation\n",
        "##If there is suspicion that the missing value is not at random then capturing that information is important. In this scenario, one would want to replace missing data with values that are at the tails of the distribution of the variable.\n",
        "##In this method we replace missing values with far end values or extreme\n",
        "##Far end value means the values after 3rd stander deviation"
      ],
      "metadata": {
        "id": "EyT7EC7BzNiz"
      }
    },
    {
      "cell_type": "markdown",
      "source": [
        "# Handle Categorical Missing Values\n",
        "## there are two basic technique 1. is most frequent value and 2.is to create new category namly'Missing'\n",
        "## in numerical data we impute the value using mean /median and in categorical data we impute the value using Mode(most frequent value)\n",
        "## lets understand the mode if you have a columns namely 'grade' and grade have value good, fair,avg. and you found that fair is coming most of the time or you can say its frequency in the column is high so we will use it as mode(most frequent value) to impute the missing value.\n",
        "## When to use mode-- if your data is missing completly at random(MCAR) and your mode value is very high then other value means for example 'fair'is our mode value then it comes more and more times in your data then good and avg value. if the diffrence is less then your distribution will change after imputation.\n",
        "## Good part of this imputaion is this it is easy to use. and bad part of this is it change the distributaion of your data.\n",
        "## Next is 'Missing Category imputation'in this technique if you have more then 10% missing data so you can not choose mode technique because you can not get the better result by mode so you should go for 'Missing Category imputation'means you fill the missing value by the value'Missing' and create a new category namely 'Missing' so the algorithm understand that where is \"Missing' is coming there is a NAN value.\n",
        "## So now we have 4 categories good fair avg and missing.in this way basically we are not imputing the missing value we are just telling the algorithm that there are missing values."
      ],
      "metadata": {
        "id": "ERdwRWLr_QCY"
      }
    },
    {
      "cell_type": "markdown",
      "source": [
        "#frequent-value-imputation(Mode)"
      ],
      "metadata": {
        "id": "Yfrx3D_L_jBe"
      }
    },
    {
      "cell_type": "code",
      "source": [
        "import pandas as pd\n",
        "import matplotlib.pyplot as plt\n",
        "import os\n",
        "import numpy as np"
      ],
      "metadata": {
        "id": "OuvIufWGzJax"
      },
      "execution_count": null,
      "outputs": []
    },
    {
      "cell_type": "markdown",
      "source": [
        "## here we are taking 3 columns for the understanding purpose'GarageQual' and 'FireplaceQu'are categoricalcolumns and 'SalePrice' is a numerical column and this is our target column also. So this is a regression problem."
      ],
      "metadata": {
        "id": "PhMk4euhdOBR"
      }
    },
    {
      "cell_type": "code",
      "source": [
        "df=pd.read_csv(\"/content/drive/MyDrive/Colab Notebooks/0machine learning/csv data/house_price_train.csv\",\n",
        "usecols=['GarageQual','FireplaceQu','SalePrice'])"
      ],
      "metadata": {
        "id": "-KMM46htpTfH"
      },
      "execution_count": null,
      "outputs": []
    },
    {
      "cell_type": "code",
      "source": [
        "df.head()"
      ],
      "metadata": {
        "id": "lwzSpaDkMlOp"
      },
      "execution_count": null,
      "outputs": []
    },
    {
      "cell_type": "markdown",
      "source": [
        "## First we have to check how much data is missing. in GarageQual column has less missing values in compare to FireplaceQual"
      ],
      "metadata": {
        "id": "5JCk7Vkhdvsl"
      }
    },
    {
      "cell_type": "code",
      "source": [
        "df.isnull().mean()*100"
      ],
      "metadata": {
        "id": "n1PtWoi2im9P"
      },
      "execution_count": null,
      "outputs": []
    },
    {
      "cell_type": "markdown",
      "source": [
        "## lets understand GarageQual first"
      ],
      "metadata": {
        "id": "ZmtKxH5jeWvL"
      }
    },
    {
      "cell_type": "code",
      "source": [
        "df['GarageQual'].value_counts().plot(kind='bar')"
      ],
      "metadata": {
        "id": "OzEh9tTHKkBG"
      },
      "execution_count": null,
      "outputs": []
    },
    {
      "cell_type": "markdown",
      "source": [
        "## check the mode value for GarageQual. 'TA' is the most frequent value for this column.\n"
      ],
      "metadata": {
        "id": "GFOevfomfGKN"
      }
    },
    {
      "cell_type": "code",
      "source": [
        "df['GarageQual'].mode()"
      ],
      "metadata": {
        "id": "Cg4ng8Ahegbd"
      },
      "execution_count": null,
      "outputs": []
    },
    {
      "cell_type": "markdown",
      "source": [
        "## lets draw the plot between GarageQualvalue 'TA' vs salesprice and GarageQual value is NA vs salesprice and after that we will fill NA value with TA and check the graph."
      ],
      "metadata": {
        "id": "NuB-8cUYfv2T"
      }
    },
    {
      "cell_type": "code",
      "source": [
        "fig = plt.figure()\n",
        "ax = fig.add_subplot(111)\n",
        "\n",
        "df[df['GarageQual']=='TA']['SalePrice'].plot(kind='kde', ax=ax)\n",
        "\n",
        "df[df['GarageQual'].isnull()]['SalePrice'].plot(kind='kde', ax=ax, color='red')\n",
        "\n",
        "lines, labels = ax.get_legend_handles_labels()\n",
        "labels = ['Houses with TA', 'Houses with NA']\n",
        "ax.legend(lines, labels, loc='best')\n",
        "\n",
        "plt.title('GarageQual')"
      ],
      "metadata": {
        "id": "u-CuTHXsfPU9"
      },
      "execution_count": null,
      "outputs": []
    },
    {
      "cell_type": "code",
      "source": [
        "temp = df[df['GarageQual']=='TA']['SalePrice']"
      ],
      "metadata": {
        "id": "VIgs3nQkyn_G"
      },
      "execution_count": null,
      "outputs": []
    },
    {
      "cell_type": "code",
      "source": [
        "df['GarageQual'].fillna('TA', inplace=True)"
      ],
      "metadata": {
        "id": "gtPBSAnZys49"
      },
      "execution_count": null,
      "outputs": []
    },
    {
      "cell_type": "code",
      "source": [
        "df['GarageQual'].value_counts().plot(kind='bar')"
      ],
      "metadata": {
        "id": "Iw1ibp0pyxdA"
      },
      "execution_count": null,
      "outputs": []
    },
    {
      "cell_type": "markdown",
      "source": [
        "## if you observe the TA bar the value of TA is incresed bar lenght is increases because you have fill NA value with TA. now plot the kde graph"
      ],
      "metadata": {
        "id": "SGK7AizSzDod"
      }
    },
    {
      "cell_type": "code",
      "source": [
        "fig = plt.figure()\n",
        "ax = fig.add_subplot(111)\n",
        "\n",
        "\n",
        "temp.plot(kind='kde', ax=ax)\n",
        "\n",
        "# distribution of the variable after imputation\n",
        "df[df['GarageQual'] == 'TA']['SalePrice'].plot(kind='kde', ax=ax, color='red')\n",
        "\n",
        "lines, labels = ax.get_legend_handles_labels()\n",
        "labels = ['Original variable', 'Imputed variable']\n",
        "ax.legend(lines, labels, loc='best')\n",
        "\n",
        "# add title\n",
        "plt.title('GarageQual')"
      ],
      "metadata": {
        "id": "a9IOph6Xy1Zt"
      },
      "execution_count": null,
      "outputs": []
    },
    {
      "cell_type": "markdown",
      "source": [
        "## missing vaule is very less around 5% sothere is no changes in the distribution. now check for next column 'FireplaceQu'"
      ],
      "metadata": {
        "id": "wJvp4whszx8D"
      }
    },
    {
      "cell_type": "code",
      "source": [
        "df['FireplaceQu'].value_counts().plot(kind='bar')"
      ],
      "metadata": {
        "id": "saJg9eUFzgZ3"
      },
      "execution_count": null,
      "outputs": []
    },
    {
      "cell_type": "markdown",
      "source": [
        "## if you obsereve GD and TA both category is almost equal so here most frequent value(mode) will not work efficiently  but for the understanding purpose we will try this using mode value"
      ],
      "metadata": {
        "id": "LVb8UpYn1QXe"
      }
    },
    {
      "cell_type": "code",
      "source": [
        "df['FireplaceQu'].mode()"
      ],
      "metadata": {
        "id": "irA0ZRei0MRL"
      },
      "execution_count": null,
      "outputs": []
    },
    {
      "cell_type": "markdown",
      "source": [
        "## lets draw the plot between FireplaceQu value 'GD' vs salesprice and FireplaceQu value is NA vs salesprice and after that we will fill NA value with TA and check the graph."
      ],
      "metadata": {
        "id": "Q624dS8B2M4R"
      }
    },
    {
      "cell_type": "code",
      "source": [
        "fig = plt.figure()\n",
        "ax = fig.add_subplot(111)\n",
        "\n",
        "df[df['FireplaceQu']=='Gd']['SalePrice'].plot(kind='kde', ax=ax)\n",
        "\n",
        "df[df['FireplaceQu'].isnull()]['SalePrice'].plot(kind='kde', ax=ax, color='red')\n",
        "\n",
        "lines, labels = ax.get_legend_handles_labels()\n",
        "labels = ['Houses with Gd', 'Houses with NA']\n",
        "ax.legend(lines, labels, loc='best')\n",
        "\n",
        "plt.title('FireplaceQu')"
      ],
      "metadata": {
        "id": "phzK02gf0PLm"
      },
      "execution_count": null,
      "outputs": []
    },
    {
      "cell_type": "code",
      "source": [
        "temp = df[df['FireplaceQu']=='Gd']['SalePrice']"
      ],
      "metadata": {
        "id": "uTtnaQCV0Smi"
      },
      "execution_count": null,
      "outputs": []
    },
    {
      "cell_type": "code",
      "source": [
        "df['FireplaceQu'].fillna('Gd', inplace=True)"
      ],
      "metadata": {
        "id": "OxC_3jL-0WHM"
      },
      "execution_count": null,
      "outputs": []
    },
    {
      "cell_type": "code",
      "source": [
        "df['FireplaceQu'].value_counts().plot(kind='bar')"
      ],
      "metadata": {
        "id": "GBm9rXU50ZF-"
      },
      "execution_count": null,
      "outputs": []
    },
    {
      "cell_type": "markdown",
      "source": [
        "## if you see the bar plot then GD bar have more value because we have fill all NA values by GD"
      ],
      "metadata": {
        "id": "eIE-bCM41BSs"
      }
    },
    {
      "cell_type": "code",
      "source": [
        "fig = plt.figure()\n",
        "ax = fig.add_subplot(111)\n",
        "\n",
        "\n",
        "temp.plot(kind='kde', ax=ax)\n",
        "\n",
        "# distribution of the variable after imputation\n",
        "df[df['FireplaceQu'] == 'Gd']['SalePrice'].plot(kind='kde', ax=ax, color='red')\n",
        "\n",
        "lines, labels = ax.get_legend_handles_labels()\n",
        "labels = ['Original variable', 'Imputed variable']\n",
        "ax.legend(lines, labels, loc='best')\n",
        "\n",
        "# add title\n",
        "plt.title('FireplaceQu')"
      ],
      "metadata": {
        "id": "xZWfsqcL0bv_"
      },
      "execution_count": null,
      "outputs": []
    },
    {
      "cell_type": "markdown",
      "source": [
        "## we have around 50% mssing values that's why distribution has been changed this is not good if any one ask you to impute missing value on this column by mode approach then you will say ' don't impute this column using mode."
      ],
      "metadata": {
        "id": "ymhFmXZl2y2Y"
      }
    },
    {
      "cell_type": "markdown",
      "source": [
        "# imputation using sklearn"
      ],
      "metadata": {
        "id": "f9kCc78O0kDu"
      }
    },
    {
      "cell_type": "code",
      "source": [
        "from sklearn.model_selection import train_test_split\n",
        "X_train,X_test,y_train,y_test = train_test_split(df.drop(columns=['SalePrice']),df['SalePrice'],test_size=0.2)"
      ],
      "metadata": {
        "id": "x_2EUaKf0fa0"
      },
      "execution_count": null,
      "outputs": []
    },
    {
      "cell_type": "code",
      "source": [
        "from sklearn.impute import SimpleImputer"
      ],
      "metadata": {
        "id": "R2b7nRlM0rt7"
      },
      "execution_count": null,
      "outputs": []
    },
    {
      "cell_type": "code",
      "source": [
        "imputer = SimpleImputer(strategy='most_frequent')"
      ],
      "metadata": {
        "id": "uv8Uu-lR0uVk"
      },
      "execution_count": null,
      "outputs": []
    },
    {
      "cell_type": "code",
      "source": [
        "X_train = imputer.fit_transform(X_train)\n",
        "X_test = imputer.transform(X_test)"
      ],
      "metadata": {
        "id": "8YUSC16R0xJ3"
      },
      "execution_count": null,
      "outputs": []
    },
    {
      "cell_type": "code",
      "source": [
        "imputer.statistics_"
      ],
      "metadata": {
        "id": "hWpj2Y5005ot"
      },
      "execution_count": null,
      "outputs": []
    },
    {
      "cell_type": "markdown",
      "source": [
        "#missing-category-imputation"
      ],
      "metadata": {
        "id": "VDtjl8eW4Dw9"
      }
    },
    {
      "cell_type": "code",
      "source": [
        "import pandas as pd\n",
        "import numpy as np\n",
        "import matplotlib.pyplot as plt"
      ],
      "metadata": {
        "id": "zlJDZWxk3dex"
      },
      "execution_count": null,
      "outputs": []
    },
    {
      "cell_type": "code",
      "source": [
        "df=pd.read_csv(\"/content/drive/MyDrive/Colab Notebooks/0machine learning/csv data/house_price_train.csv\",\n",
        "usecols=['GarageQual','FireplaceQu','SalePrice'])"
      ],
      "metadata": {
        "id": "ioaggEj14Im3"
      },
      "execution_count": null,
      "outputs": []
    },
    {
      "cell_type": "code",
      "source": [
        "df.head()"
      ],
      "metadata": {
        "id": "PfBpvPvU4Pwq"
      },
      "execution_count": null,
      "outputs": []
    },
    {
      "cell_type": "code",
      "source": [
        "df.isnull().mean()*100"
      ],
      "metadata": {
        "id": "BGveY3a54Sc-"
      },
      "execution_count": null,
      "outputs": []
    },
    {
      "cell_type": "code",
      "source": [
        "df['GarageQual'].value_counts().sort_values(ascending=False).plot.bar()\n",
        "plt.xlabel('GarageQual')\n",
        "plt.ylabel('Number of houses')"
      ],
      "metadata": {
        "id": "Gt-rV3EY4VTa"
      },
      "execution_count": null,
      "outputs": []
    },
    {
      "cell_type": "markdown",
      "source": [
        "## Now we are filing missing value by the word'MISSING'.it will create new category missing."
      ],
      "metadata": {
        "id": "An9igij44dUe"
      }
    },
    {
      "cell_type": "code",
      "source": [
        "df['GarageQual'].fillna('Missing', inplace=True)"
      ],
      "metadata": {
        "id": "_vRw9tAV4Yh7"
      },
      "execution_count": null,
      "outputs": []
    },
    {
      "cell_type": "code",
      "source": [
        "df['GarageQual'].value_counts().sort_values(ascending=False).plot.bar()\n",
        "plt.xlabel('GarageQual')\n",
        "plt.ylabel('Number of houses')"
      ],
      "metadata": {
        "id": "FeW4FgQv4cl1"
      },
      "execution_count": null,
      "outputs": []
    },
    {
      "cell_type": "markdown",
      "source": [
        "# missing using sklearn"
      ],
      "metadata": {
        "id": "sVi5RyNb4xJn"
      }
    },
    {
      "cell_type": "code",
      "source": [
        "from sklearn.model_selection import train_test_split\n",
        "X_train,X_test,y_train,y_test = train_test_split(df.drop(columns=['SalePrice']),df['SalePrice'],test_size=0.2)"
      ],
      "metadata": {
        "id": "tcnsm6444s0g"
      },
      "execution_count": null,
      "outputs": []
    },
    {
      "cell_type": "code",
      "source": [
        "from sklearn.impute import SimpleImputer"
      ],
      "metadata": {
        "id": "XzP_jYbK40es"
      },
      "execution_count": null,
      "outputs": []
    },
    {
      "cell_type": "code",
      "source": [
        "imputer = SimpleImputer(strategy='constant',fill_value='Missing')"
      ],
      "metadata": {
        "id": "CicY6LFL427j"
      },
      "execution_count": null,
      "outputs": []
    },
    {
      "cell_type": "code",
      "source": [
        "X_train = imputer.fit_transform(X_train)\n",
        "X_test = imputer.transform(X_test)"
      ],
      "metadata": {
        "id": "NwDN5C7A45ck"
      },
      "execution_count": null,
      "outputs": []
    },
    {
      "cell_type": "code",
      "source": [
        "imputer.statistics_"
      ],
      "metadata": {
        "id": "4zrNAtA948PL"
      },
      "execution_count": null,
      "outputs": []
    },
    {
      "cell_type": "markdown",
      "source": [
        "# Unvariate Data imputation----\n",
        "# 1.Random Number Imputaion\n",
        "# 2.Missing Indicator\n",
        "# 3.Automatically selection of value for imputation"
      ],
      "metadata": {
        "id": "l3TH_tASYaEf"
      }
    },
    {
      "cell_type": "markdown",
      "source": [
        "## Random Number Imputation:\n",
        "## if you have a column lets say age in this age column you have some value and some NA value there.[26.47.34.55,NA , 60 ,70 , NA ,56....]and now you want to fill these missing value by the help of random number imputation . first time it is very confusing but it is not a normal random number . The random number is selected from the value of other value that are present in your column age.like below--\n",
        "##[26.47.34.55, 60 ,70  ,56....]\n",
        "## Means you will select random number from your data and fill these missing value.\n",
        "## it can be applied both numerical as well as categorical column.\n",
        "## it easy to apply but you can not do this by sklearn but you can do this by Pandas.\n",
        "## **The distribution of your data or variance not disturb** when you dealing with linear algorithm like linear regression or logistic regression although it is not work good with tree based algorithm. but when we apply mean/meadian or other technique to impute distribution distrubed.\n",
        "## Covarience or corelation is disturb.because you introduced randmness in your data.\n",
        "## when you deploye this model on server and new data comes on server and age value is missing then which number will replace NA value, you will replace that value which comes from training time data(X_train) means you have to pick X_train data on the serverso that age missing value encounter then you generate a random number from X_train and replace it on missing value at the time of deployement.But if your **X-train is very heavy then it will take more memory**.\n",
        "## Now lets work on numerical data and categorical data using random no. imputation----"
      ],
      "metadata": {
        "id": "uE5GfQbqecVr"
      }
    },
    {
      "cell_type": "code",
      "source": [
        "import pandas as pd\n",
        "import numpy as np\n",
        "import os"
      ],
      "metadata": {
        "id": "2-MaXSBB5BEg"
      },
      "execution_count": null,
      "outputs": []
    },
    {
      "cell_type": "markdown",
      "source": [
        "## Numerical data imputaion"
      ],
      "metadata": {
        "id": "Pj9FF68-qV3P"
      }
    },
    {
      "cell_type": "code",
      "source": [
        "os.environ['KAGGLE_CONFIG_DIR']='/content/drive/MyDrive/Colab Notebooks/Kaggle json'"
      ],
      "metadata": {
        "id": "dHK2n1Bdn3SD"
      },
      "execution_count": null,
      "outputs": []
    },
    {
      "cell_type": "code",
      "source": [
        "!kaggle datasets download -d hesh97/titanicdataset-traincsv"
      ],
      "metadata": {
        "id": "nVudvdicowrO"
      },
      "execution_count": null,
      "outputs": []
    },
    {
      "cell_type": "code",
      "source": [
        "!unzip /content/titanicdataset-traincsv.zip"
      ],
      "metadata": {
        "id": "kIWdxP3ro922"
      },
      "execution_count": null,
      "outputs": []
    },
    {
      "cell_type": "code",
      "source": [
        "df=pd.read_csv('/content/train.csv',usecols=['Age','Fare','Survived'])\n",
        "df.head()"
      ],
      "metadata": {
        "id": "eXCTgCCBpFZP"
      },
      "execution_count": null,
      "outputs": []
    },
    {
      "cell_type": "code",
      "source": [
        "df.isnull().mean() * 100"
      ],
      "metadata": {
        "id": "vcUzThjspkD4"
      },
      "execution_count": null,
      "outputs": []
    },
    {
      "cell_type": "code",
      "source": [
        "X = df.drop(columns=['Survived'])\n",
        "y = df['Survived']"
      ],
      "metadata": {
        "id": "JCu-LU6epo7P"
      },
      "execution_count": null,
      "outputs": []
    },
    {
      "cell_type": "code",
      "source": [
        "from sklearn.model_selection import train_test_split\n",
        "import matplotlib.pyplot as plt\n",
        "import seaborn as sns"
      ],
      "metadata": {
        "id": "YxTjbT9mpy-A"
      },
      "execution_count": null,
      "outputs": []
    },
    {
      "cell_type": "code",
      "source": [
        "X_train,X_test,y_train,y_test = train_test_split(X,y,test_size=0.2,random_state=2)"
      ],
      "metadata": {
        "id": "OdB0uQFmptNa"
      },
      "execution_count": null,
      "outputs": []
    },
    {
      "cell_type": "code",
      "source": [
        "X_train"
      ],
      "metadata": {
        "id": "TalWjwEkpvte"
      },
      "execution_count": null,
      "outputs": []
    },
    {
      "cell_type": "markdown",
      "source": [
        "## we have to observe the result before imputation and after imputaion so will create new column namely age_imputed "
      ],
      "metadata": {
        "id": "Y-CG20n7qkf4"
      }
    },
    {
      "cell_type": "code",
      "source": [
        "X_train['Age_imputed'] = X_train['Age']\n",
        "X_test['Age_imputed'] = X_test['Age']"
      ],
      "metadata": {
        "id": "RPf37oNSqJtF"
      },
      "execution_count": null,
      "outputs": []
    },
    {
      "cell_type": "code",
      "source": [
        "X_train.head()"
      ],
      "metadata": {
        "id": "Pp_K8dEiq8q8"
      },
      "execution_count": null,
      "outputs": []
    },
    {
      "cell_type": "code",
      "source": [
        "X_test.tail()"
      ],
      "metadata": {
        "id": "OR0NnIw0rJ5t"
      },
      "execution_count": null,
      "outputs": []
    },
    {
      "cell_type": "code",
      "source": [
        "X_train['Age_imputed']"
      ],
      "metadata": {
        "id": "kA826h3IsBRz"
      },
      "execution_count": null,
      "outputs": []
    },
    {
      "cell_type": "markdown",
      "source": [
        "## Now we will pick those values are null in age_imputed there are 148 values are NAN."
      ],
      "metadata": {
        "id": "TOh-3MUEsGCt"
      }
    },
    {
      "cell_type": "code",
      "source": [
        "X_train['Age_imputed'][X_train['Age_imputed'].isnull()]"
      ],
      "metadata": {
        "id": "j8k3ZzrBsCK9"
      },
      "execution_count": null,
      "outputs": []
    },
    {
      "cell_type": "markdown",
      "source": [
        "## Now replace these NAN value\n",
        "##X_train['Age'].dropna().it will remove all the missing values from the age column.\n",
        "## So now we have only non NAN values\n",
        "## we apply sample() what sample will do it will provide all 148 values.sample(X_train['Age'].isnull().sum()).values"
      ],
      "metadata": {
        "id": "KJcbKBMUsaEn"
      }
    },
    {
      "cell_type": "code",
      "source": [
        "X_train['Age'].isnull().sum()"
      ],
      "metadata": {
        "id": "5tuKYR5nuOeu"
      },
      "execution_count": null,
      "outputs": []
    },
    {
      "cell_type": "markdown",
      "source": [
        "## the below code will provide a series so convert it into nparray we use'values'at the end"
      ],
      "metadata": {
        "id": "8xry6gOeua48"
      }
    },
    {
      "cell_type": "code",
      "source": [
        "X_train['Age'].dropna().sample(X_train['Age'].isnull().sum()).values"
      ],
      "metadata": {
        "id": "2dDnjw2DuCvk"
      },
      "execution_count": null,
      "outputs": []
    },
    {
      "cell_type": "markdown",
      "source": [
        "## What we have done below we have imputed random value in age_imputed taking random value from the age column"
      ],
      "metadata": {
        "id": "F76IA-2Mrhxm"
      }
    },
    {
      "cell_type": "code",
      "source": [
        "X_train['Age_imputed'][X_train['Age_imputed'].isnull()] = X_train['Age'].dropna().sample(X_train['Age'].isnull().sum()).values\n",
        "X_test['Age_imputed'][X_test['Age_imputed'].isnull()] = X_train['Age'].dropna().sample(X_test['Age'].isnull().sum()).values"
      ],
      "metadata": {
        "id": "G2IienCmrOYX"
      },
      "execution_count": null,
      "outputs": []
    },
    {
      "cell_type": "markdown",
      "source": [
        "## Now check the X_train your NAN values has been imputed by random number from the age column"
      ],
      "metadata": {
        "id": "uAcHugYlu06R"
      }
    },
    {
      "cell_type": "code",
      "source": [
        "X_train"
      ],
      "metadata": {
        "id": "21yYvQmbuRlq"
      },
      "execution_count": null,
      "outputs": []
    },
    {
      "cell_type": "code",
      "source": [
        "sns.distplot(X_train['Age'],label='Original',hist=False)\n",
        "sns.distplot(X_train['Age_imputed'],label = 'Imputed',hist=False)\n",
        "\n",
        "plt.legend()\n",
        "plt.show()"
      ],
      "metadata": {
        "id": "Xfkw1manu5_1"
      },
      "execution_count": null,
      "outputs": []
    },
    {
      "cell_type": "markdown",
      "source": [
        "## blue is original and orange is imputed both distribution are same.now talk about varience"
      ],
      "metadata": {
        "id": "zQXJHG0BvRNV"
      }
    },
    {
      "cell_type": "code",
      "source": [
        "print('Original variable variance: ', X_train['Age'].var())\n",
        "print('Variance after random imputation: ', X_train['Age_imputed'].var())"
      ],
      "metadata": {
        "id": "HriJYQGTvO0K"
      },
      "execution_count": null,
      "outputs": []
    },
    {
      "cell_type": "markdown",
      "source": [
        "## Variance is almost same but if you observe the co variance then there is a difference ltes take a look"
      ],
      "metadata": {
        "id": "BYTzc8_bvo9j"
      }
    },
    {
      "cell_type": "code",
      "source": [
        "X_train[['Fare', 'Age', 'Age_imputed']].cov()"
      ],
      "metadata": {
        "id": "D9jNajVRvmqP"
      },
      "execution_count": null,
      "outputs": []
    },
    {
      "cell_type": "markdown",
      "source": [
        "## if you talk about the outliers then there is no impact on outliers when you do random number imputation"
      ],
      "metadata": {
        "id": "07QDUecjv_jC"
      }
    },
    {
      "cell_type": "code",
      "source": [
        "X_train[['Age', 'Age_imputed']].boxplot()"
      ],
      "metadata": {
        "id": "mpFZaZ0zv9lM"
      },
      "execution_count": null,
      "outputs": []
    },
    {
      "cell_type": "markdown",
      "source": [
        "#Keep in mind when you apply random number mputation in production\n",
        "## when you are working on a website in production then it may be there is chance that a column has missing value in our case that column is AGE. For the same input you predict different value means if our FARE is 50 and random number is 40 for AGE and if we again give FARE value 50 and your AGE random number is 60 comes then it is not good because for the same value of FARE as input we should have same value of AGE random number.\n",
        "## if we have same value of input and random number is different then result will be affeted.\n",
        "## what you can do? you can use random_state parameter and in random_state you take current observation of FARE ,if FARE value is same then it will take same sampling of random number like below code in production."
      ],
      "metadata": {
        "id": "u8cz2k9XlT_E"
      }
    },
    {
      "cell_type": "code",
      "source": [
        "sampled_value = X_train['Age'].dropna().sample(1, random_state=int(observation['Fare']))"
      ],
      "metadata": {
        "id": "cHD-r9GTwQPK"
      },
      "execution_count": null,
      "outputs": []
    },
    {
      "cell_type": "markdown",
      "source": [
        "# Now work on categorical data using random number imputation\n",
        "## we are using house prediction data set and taing 3 columns ['GarageQual','FireplaceQu', 'SalePrice']"
      ],
      "metadata": {
        "id": "kncNVEDHoQlE"
      }
    },
    {
      "cell_type": "code",
      "source": [
        "data=pd.read_csv('/content/drive/MyDrive/Colab Notebooks/0machine learning/csv data/house_price_train.csv',\n",
        "                 usecols=['GarageQual','FireplaceQu', 'SalePrice'])"
      ],
      "metadata": {
        "id": "DXD4HlC3n98j"
      },
      "execution_count": null,
      "outputs": []
    },
    {
      "cell_type": "code",
      "source": [
        "data.head()"
      ],
      "metadata": {
        "id": "9oMFnTsDoA83"
      },
      "execution_count": null,
      "outputs": []
    },
    {
      "cell_type": "code",
      "source": [
        "data.isnull().mean() * 100"
      ],
      "metadata": {
        "id": "8yf8xHGuqpAJ"
      },
      "execution_count": null,
      "outputs": []
    },
    {
      "cell_type": "markdown",
      "source": [
        "## I have whole data in X because we have to plot target column so it is easy for us for that purpose otherwise you can take independant columns in X"
      ],
      "metadata": {
        "id": "Kbk3nCL7rP_x"
      }
    },
    {
      "cell_type": "code",
      "source": [
        "X = data\n",
        "y = data['SalePrice']"
      ],
      "metadata": {
        "id": "iXEnrUY9qtWk"
      },
      "execution_count": null,
      "outputs": []
    },
    {
      "cell_type": "code",
      "source": [
        "X_train,X_test,y_train,y_test = train_test_split(X,y,test_size=0.2,random_state=2)"
      ],
      "metadata": {
        "id": "aSIJuPKtrhiE"
      },
      "execution_count": null,
      "outputs": []
    },
    {
      "cell_type": "markdown",
      "source": [
        "## now we are going to create two new column GarageQual_imputed and FireplaceQu_imputed and store the oiginal value of GarageQual and FireplaceQu n these columns.because we will show here before iputation data and after imputation data."
      ],
      "metadata": {
        "id": "_YNGJbd6ruGj"
      }
    },
    {
      "cell_type": "code",
      "source": [
        "X_train['GarageQual_imputed'] = X_train['GarageQual']\n",
        "X_test['GarageQual_imputed'] = X_test['GarageQual']\n",
        "\n",
        "X_train['FireplaceQu_imputed'] = X_train['FireplaceQu']\n",
        "X_test['FireplaceQu_imputed'] = X_test['FireplaceQu']"
      ],
      "metadata": {
        "id": "HDKqTg2Xro7r"
      },
      "execution_count": null,
      "outputs": []
    },
    {
      "cell_type": "code",
      "source": [
        "  X_train.head()"
      ],
      "metadata": {
        "id": "jpjhRY3DsVUB"
      },
      "execution_count": null,
      "outputs": []
    },
    {
      "cell_type": "markdown",
      "source": [
        "## here we have use same code as we did in numerical data imputation"
      ],
      "metadata": {
        "id": "diNhhL56smk8"
      }
    },
    {
      "cell_type": "code",
      "source": [
        "X_train['GarageQual_imputed'][X_train['GarageQual_imputed'].isnull()] = X_train['GarageQual'].dropna().sample(X_train['GarageQual'].isnull().sum()).values\n",
        "X_test['GarageQual_imputed'][X_test['GarageQual_imputed'].isnull()] = X_train['GarageQual'].dropna().sample(X_test['GarageQual'].isnull().sum()).values\n",
        "\n",
        "X_train['FireplaceQu_imputed'][X_train['FireplaceQu_imputed'].isnull()] = X_train['FireplaceQu'].dropna().sample(X_train['FireplaceQu'].isnull().sum()).values\n",
        "X_test['FireplaceQu_imputed'][X_test['FireplaceQu_imputed'].isnull()] = X_train['FireplaceQu'].dropna().sample(X_test['FireplaceQu'].isnull().sum()).values"
      ],
      "metadata": {
        "id": "U0B0AD3Fsa9N"
      },
      "execution_count": null,
      "outputs": []
    },
    {
      "cell_type": "markdown",
      "source": [
        "## here we are observing frequencies of all the categories in each categorical column before the imputation and after the imputation.if frequency is changing then it is not good. let's see each column one by one"
      ],
      "metadata": {
        "id": "irGzxt0etDUz"
      }
    },
    {
      "cell_type": "code",
      "source": [
        "temp = pd.concat(\n",
        "        [\n",
        "            X_train['GarageQual'].value_counts() / len(X_train['GarageQual'].dropna()),\n",
        "            X_train['GarageQual_imputed'].value_counts() / len(X_train)\n",
        "        ],\n",
        "        axis=1)\n",
        "\n",
        "temp.columns = ['original', 'imputed']"
      ],
      "metadata": {
        "id": "JpZ8_tnasvwA"
      },
      "execution_count": null,
      "outputs": []
    },
    {
      "cell_type": "code",
      "source": [
        "temp"
      ],
      "metadata": {
        "id": "mtzFoyeytxUx"
      },
      "execution_count": null,
      "outputs": []
    },
    {
      "cell_type": "code",
      "source": [
        "temp = pd.concat(\n",
        "        [\n",
        "            X_train['FireplaceQu'].value_counts() / len(X_train['FireplaceQu'].dropna()),\n",
        "            X_train['FireplaceQu_imputed'].value_counts() / len(X_train)\n",
        "        ],\n",
        "        axis=1)\n",
        "\n",
        "temp.columns = ['original', 'imputed']\n",
        "\n",
        "temp"
      ],
      "metadata": {
        "id": "mjFIzEIOtz57"
      },
      "execution_count": null,
      "outputs": []
    },
    {
      "cell_type": "markdown",
      "source": [
        "## Let's draw the plot before and after impuation on FireplaceQu vs SalesPrice"
      ],
      "metadata": {
        "id": "W9g9FZ1SvPEf"
      }
    },
    {
      "cell_type": "code",
      "source": [
        "for category in X_train['FireplaceQu'].dropna().unique():\n",
        "    sns.distplot(X_train[X_train['FireplaceQu'] == category]['SalePrice'],hist=False,label=category)\n",
        "plt.show()"
      ],
      "metadata": {
        "id": "awu5YzJjt3yS"
      },
      "execution_count": null,
      "outputs": []
    },
    {
      "cell_type": "code",
      "source": [
        "for category in X_train['FireplaceQu_imputed'].dropna().unique():\n",
        "    sns.distplot(X_train[X_train['FireplaceQu_imputed'] == category]['SalePrice'],hist=False,label=category)\n",
        "plt.show()"
      ],
      "metadata": {
        "id": "_JWQuKMxvcYA"
      },
      "execution_count": null,
      "outputs": []
    },
    {
      "cell_type": "markdown",
      "source": [
        "# Missing Indicator\n",
        "## in this technique you will create a cmpletely new column for every column which have a missing data.which have only 2 values True and false. true means there is a missing value and False means there is no missing values.what happen in this tecnique , your model will understand the difference b/w missing rows and non missing rows and for this it may be its performance is increased.But this technique not always do good job but sometime ts work well.\n",
        "## If your accuracy and r2 score is not increased then you should try for this technique."
      ],
      "metadata": {
        "id": "fStviFemvzF4"
      }
    },
    {
      "cell_type": "code",
      "source": [
        "import pandas as pd\n",
        "import numpy as np\n",
        "import matplotlib.pyplot as plt\n",
        "import seaborn as sns\n",
        "import os\n",
        "from sklearn.model_selection import train_test_split\n",
        "\n"
      ],
      "metadata": {
        "id": "mpIK3wRXvhW8"
      },
      "execution_count": null,
      "outputs": []
    },
    {
      "cell_type": "code",
      "source": [
        "os.environ['KAGGLE_CONFIG_DIR']='/content/drive/MyDrive/Colab Notebooks/Kaggle json'"
      ],
      "metadata": {
        "id": "ASrOGUM90i6H"
      },
      "execution_count": null,
      "outputs": []
    },
    {
      "cell_type": "code",
      "source": [
        "!kaggle datasets download -d hesh97/titanicdataset-traincsv"
      ],
      "metadata": {
        "id": "rs6Q-C9i0tK5"
      },
      "execution_count": null,
      "outputs": []
    },
    {
      "cell_type": "code",
      "source": [
        "!unzip /content/titanicdataset-traincsv.zip"
      ],
      "metadata": {
        "id": "A4YCKlsN03VA"
      },
      "execution_count": null,
      "outputs": []
    },
    {
      "cell_type": "code",
      "source": [
        "df=pd.read_csv('/content/train.csv',usecols=['Age','Fare','Survived'])"
      ],
      "metadata": {
        "id": "zv4Ex_Xx1MjO"
      },
      "execution_count": null,
      "outputs": []
    },
    {
      "cell_type": "code",
      "source": [
        "df.head()"
      ],
      "metadata": {
        "id": "FOJwg52y1jTt"
      },
      "execution_count": null,
      "outputs": []
    },
    {
      "cell_type": "code",
      "source": [
        "df.isnull().mean() * 100"
      ],
      "metadata": {
        "id": "jX1QFpCy1mv4"
      },
      "execution_count": null,
      "outputs": []
    },
    {
      "cell_type": "code",
      "source": [
        "X = df.drop(columns=['Survived'])\n",
        "y = df['Survived']"
      ],
      "metadata": {
        "id": "yzICZlcK1qcR"
      },
      "execution_count": null,
      "outputs": []
    },
    {
      "cell_type": "code",
      "source": [
        "X_train,X_test,y_train,y_test = train_test_split(X,y,test_size=0.2,random_state=2)"
      ],
      "metadata": {
        "id": "XAWEcyye1tab"
      },
      "execution_count": null,
      "outputs": []
    },
    {
      "cell_type": "code",
      "source": [
        "X_train.head()"
      ],
      "metadata": {
        "id": "OV-obMrc1v5U"
      },
      "execution_count": null,
      "outputs": []
    },
    {
      "cell_type": "markdown",
      "source": [
        "## Before apply missing indicator"
      ],
      "metadata": {
        "id": "qupNpWJe2HU9"
      }
    },
    {
      "cell_type": "code",
      "source": [
        "from sklearn.impute import MissingIndicator,SimpleImputer"
      ],
      "metadata": {
        "id": "oHmzcL1I2Pz5"
      },
      "execution_count": null,
      "outputs": []
    },
    {
      "cell_type": "code",
      "source": [
        "si = SimpleImputer()\n",
        "X_train_trf = si.fit_transform(X_train)\n",
        "X_test_trf = si.transform(X_test)"
      ],
      "metadata": {
        "id": "gDEq_-oe1yAY"
      },
      "execution_count": null,
      "outputs": []
    },
    {
      "cell_type": "markdown",
      "source": [
        "## It will give np array"
      ],
      "metadata": {
        "id": "zUcwfpdR2ZUK"
      }
    },
    {
      "cell_type": "code",
      "source": [
        "X_train_trf"
      ],
      "metadata": {
        "id": "EC5xBeDr2Lm3"
      },
      "execution_count": null,
      "outputs": []
    },
    {
      "cell_type": "markdown",
      "source": [
        "## Now apply the logistic regression and check the accuracy"
      ],
      "metadata": {
        "id": "YkQc5nC42gwz"
      }
    },
    {
      "cell_type": "code",
      "source": [
        "from sklearn.linear_model import LogisticRegression\n",
        "\n",
        "clf = LogisticRegression()\n",
        "\n",
        "clf.fit(X_train_trf,y_train)\n",
        "\n",
        "y_pred = clf.predict(X_test_trf)\n",
        "\n",
        "from sklearn.metrics import accuracy_score\n",
        "accuracy_score(y_test,y_pred)"
      ],
      "metadata": {
        "id": "cexPsuh32cDv"
      },
      "execution_count": null,
      "outputs": []
    },
    {
      "cell_type": "markdown",
      "source": [
        "## Now apply missing indicator and observe the result"
      ],
      "metadata": {
        "id": "xDUq68bl2pzm"
      }
    },
    {
      "cell_type": "code",
      "source": [
        "mi = MissingIndicator()\n",
        "\n",
        "mi.fit(X_train)"
      ],
      "metadata": {
        "id": "ivvkHCbr2ln6"
      },
      "execution_count": null,
      "outputs": []
    },
    {
      "cell_type": "code",
      "source": [
        "mi.features_"
      ],
      "metadata": {
        "id": "tAfWneA920DF"
      },
      "execution_count": null,
      "outputs": []
    },
    {
      "cell_type": "code",
      "source": [
        "X_train_missing = mi.transform(X_train)"
      ],
      "metadata": {
        "id": "C4H58dPj23DM"
      },
      "execution_count": null,
      "outputs": []
    },
    {
      "cell_type": "code",
      "source": [
        "X_train_missing"
      ],
      "metadata": {
        "id": "9Y7Ex2A926X0"
      },
      "execution_count": null,
      "outputs": []
    },
    {
      "cell_type": "code",
      "source": [
        "\n",
        "X_test_missing = mi.transform(X_test)"
      ],
      "metadata": {
        "id": "N4efVs1B29XN"
      },
      "execution_count": null,
      "outputs": []
    },
    {
      "cell_type": "code",
      "source": [
        "X_test_missing"
      ],
      "metadata": {
        "id": "ZfnKLHBx3Fix"
      },
      "execution_count": null,
      "outputs": []
    },
    {
      "cell_type": "markdown",
      "source": [
        "## Now create the new column namely AGE_NA"
      ],
      "metadata": {
        "id": "q0fCw6wO3SRM"
      }
    },
    {
      "cell_type": "code",
      "source": [
        "X_train['Age_NA'] = X_train_missing"
      ],
      "metadata": {
        "id": "KL1i1Z1E3IYv"
      },
      "execution_count": null,
      "outputs": []
    },
    {
      "cell_type": "code",
      "source": [
        "X_train"
      ],
      "metadata": {
        "id": "ziXTz_f73Xvu"
      },
      "execution_count": null,
      "outputs": []
    },
    {
      "cell_type": "code",
      "source": [
        "X_test['Age_NA'] = X_test_missing"
      ],
      "metadata": {
        "id": "7zZjNNDm3cVb"
      },
      "execution_count": null,
      "outputs": []
    },
    {
      "cell_type": "markdown",
      "source": [
        "## Now create an object of sipleimputer and apply the logistic regression algorithm"
      ],
      "metadata": {
        "id": "kMd84L7L3lFp"
      }
    },
    {
      "cell_type": "code",
      "source": [
        "si = SimpleImputer()\n",
        "\n",
        "X_train_trf2 = si.fit_transform(X_train)\n",
        "X_test_trf2 = si.transform(X_test)"
      ],
      "metadata": {
        "id": "KV-f7xS_3h9i"
      },
      "execution_count": null,
      "outputs": []
    },
    {
      "cell_type": "code",
      "source": [
        "from sklearn.linear_model import LogisticRegression\n",
        "\n",
        "clf = LogisticRegression()\n",
        "\n",
        "clf.fit(X_train_trf2,y_train)\n",
        "\n",
        "y_pred = clf.predict(X_test_trf2)\n",
        "\n",
        "from sklearn.metrics import accuracy_score\n",
        "accuracy_score(y_test,y_pred)"
      ],
      "metadata": {
        "id": "eQXK-Wdd3ytI"
      },
      "execution_count": null,
      "outputs": []
    },
    {
      "cell_type": "markdown",
      "source": [
        "## Accuracy is increased "
      ],
      "metadata": {
        "id": "pOdAIp5b34oy"
      }
    },
    {
      "cell_type": "markdown",
      "source": [
        "## If you don't want to use missing indicator class then it can dome by simple indicator class also by using the parameter SimpleImputer(add_indicator=True).\n",
        "## Let's try it"
      ],
      "metadata": {
        "id": "xy_geUcL3_F5"
      }
    },
    {
      "cell_type": "code",
      "source": [
        "X_train,X_test,y_train,y_test = train_test_split(X,y,test_size=0.2,random_state=2)"
      ],
      "metadata": {
        "id": "LHfv7XYq32Dc"
      },
      "execution_count": null,
      "outputs": []
    },
    {
      "cell_type": "code",
      "source": [
        "si = SimpleImputer(add_indicator=True)"
      ],
      "metadata": {
        "id": "VeDDtliu4Z0w"
      },
      "execution_count": null,
      "outputs": []
    },
    {
      "cell_type": "code",
      "source": [
        "X_train = si.fit_transform(X_train)\n",
        "X_test = si.transform(X_test)"
      ],
      "metadata": {
        "id": "x62jVS-Q4cwq"
      },
      "execution_count": null,
      "outputs": []
    },
    {
      "cell_type": "markdown",
      "source": [
        "## Now apply the algorithm and check the accuary.\n",
        "## the accuarcy will be same as when we are using missing indicator.\n",
        "## so what is the benefit of this , by using parameter  SimpleImputer(add_indicator=True) we are not doing the call of missing indicator and create a new column and after that merging that column. so this task is done by the  SimpleImputer(add_indicator=True)."
      ],
      "metadata": {
        "id": "tua3G73w4lOf"
      }
    },
    {
      "cell_type": "code",
      "source": [
        "from sklearn.linear_model import LogisticRegression\n",
        "\n",
        "clf = LogisticRegression()\n",
        "\n",
        "clf.fit(X_train_trf2,y_train)\n",
        "\n",
        "y_pred = clf.predict(X_test_trf2)\n",
        "\n",
        "from sklearn.metrics import accuracy_score\n",
        "accuracy_score(y_test,y_pred)"
      ],
      "metadata": {
        "id": "F7DXh_Rd4h69"
      },
      "execution_count": null,
      "outputs": []
    },
    {
      "cell_type": "markdown",
      "source": [
        "#automatically-select-imputer-parameters----GridSearchCV"
      ],
      "metadata": {
        "id": "lWSmilfB69Hm"
      }
    },
    {
      "cell_type": "code",
      "source": [
        "import numpy as np\n",
        "import pandas as pd\n",
        "import os\n",
        "from sklearn.model_selection import train_test_split, GridSearchCV\n",
        "\n",
        "from sklearn.compose import ColumnTransformer\n",
        "from sklearn.pipeline import Pipeline\n",
        "from sklearn.impute import SimpleImputer\n",
        "from sklearn.preprocessing import StandardScaler, OneHotEncoder\n",
        "from sklearn.linear_model import LogisticRegression"
      ],
      "metadata": {
        "id": "sslcS05R5QP-"
      },
      "execution_count": null,
      "outputs": []
    },
    {
      "cell_type": "code",
      "source": [
        "os.environ['KAGGLE_CONFIG_DIR']='/content/drive/MyDrive/Colab Notebooks/Kaggle json'"
      ],
      "metadata": {
        "id": "fkLIzzgx7MKB"
      },
      "execution_count": null,
      "outputs": []
    },
    {
      "cell_type": "code",
      "source": [
        "!kaggle datasets download -d hesh97/titanicdataset-traincsv"
      ],
      "metadata": {
        "id": "dhUXfiKI7WnG"
      },
      "execution_count": null,
      "outputs": []
    },
    {
      "cell_type": "code",
      "source": [
        "!unzip /content/titanicdataset-traincsv.zip"
      ],
      "metadata": {
        "id": "QYWeweRH7WW7"
      },
      "execution_count": null,
      "outputs": []
    },
    {
      "cell_type": "code",
      "source": [
        "df=pd.read_csv('/content/train.csv')\n",
        "df.head()"
      ],
      "metadata": {
        "id": "Juu2QojM7WKq"
      },
      "execution_count": null,
      "outputs": []
    },
    {
      "cell_type": "code",
      "source": [
        "df.drop(columns=['PassengerId','Name','Ticket','Cabin'],inplace=True)"
      ],
      "metadata": {
        "id": "6wRGLp6u7sYU"
      },
      "execution_count": null,
      "outputs": []
    },
    {
      "cell_type": "code",
      "source": [
        "df.head()"
      ],
      "metadata": {
        "id": "24kmvnIK7wVy"
      },
      "execution_count": null,
      "outputs": []
    },
    {
      "cell_type": "code",
      "source": [
        "X = df.drop(columns=['Survived'])\n",
        "y = df['Survived']"
      ],
      "metadata": {
        "id": "_0U4VLzf7yPU"
      },
      "execution_count": null,
      "outputs": []
    },
    {
      "cell_type": "code",
      "source": [
        "X_train,X_test,y_train,y_test = train_test_split(X,y,test_size=0.2,random_state=2)"
      ],
      "metadata": {
        "id": "ytUCuL5Z71yE"
      },
      "execution_count": null,
      "outputs": []
    },
    {
      "cell_type": "code",
      "source": [
        "X_train.head()"
      ],
      "metadata": {
        "id": "GJN1z9BB74QP"
      },
      "execution_count": null,
      "outputs": []
    },
    {
      "cell_type": "code",
      "source": [
        "numerical_features = ['Age', 'Fare']\n",
        "numerical_transformer = Pipeline(steps=[\n",
        "    ('imputer', SimpleImputer(strategy='median')),\n",
        "    ('scaler', StandardScaler())\n",
        "])\n",
        "\n",
        "categorical_features = ['Embarked', 'Sex']\n",
        "categorical_transformer = Pipeline(steps=[\n",
        "    ('imputer', SimpleImputer(strategy='most_frequent')),\n",
        "    ('ohe',OneHotEncoder(handle_unknown='ignore'))\n",
        "])"
      ],
      "metadata": {
        "id": "1srGaZOJ76uH"
      },
      "execution_count": null,
      "outputs": []
    },
    {
      "cell_type": "code",
      "source": [
        "preprocessor = ColumnTransformer(\n",
        "    transformers=[\n",
        "        ('num', numerical_transformer, numerical_features),\n",
        "        ('cat', categorical_transformer, categorical_features)\n",
        "    ]\n",
        ")"
      ],
      "metadata": {
        "id": "NFWnfiUo79wR"
      },
      "execution_count": null,
      "outputs": []
    },
    {
      "cell_type": "code",
      "source": [
        "clf = Pipeline(steps=[\n",
        "    ('preprocessor', preprocessor),\n",
        "    ('classifier', LogisticRegression())\n",
        "])"
      ],
      "metadata": {
        "id": "l30ZYG3h7_8e"
      },
      "execution_count": null,
      "outputs": []
    },
    {
      "cell_type": "code",
      "source": [
        "from sklearn import set_config\n",
        "\n",
        "set_config(display='diagram')\n",
        "clf"
      ],
      "metadata": {
        "id": "2HMG6zke8CbB"
      },
      "execution_count": null,
      "outputs": []
    },
    {
      "cell_type": "code",
      "source": [
        "param_grid = {\n",
        "    'preprocessor__num__imputer__strategy': ['mean', 'median'],\n",
        "    'preprocessor__cat__imputer__strategy': ['most_frequent', 'constant'],\n",
        "    'classifier__C': [0.1, 1.0, 10, 100]\n",
        "}\n",
        "\n",
        "grid_search = GridSearchCV(clf, param_grid, cv=10)"
      ],
      "metadata": {
        "id": "KGOiI4vg8ErB"
      },
      "execution_count": null,
      "outputs": []
    },
    {
      "cell_type": "code",
      "source": [
        "grid_search.fit(X_train, y_train)\n",
        "\n",
        "print(f\"Best params:\")\n",
        "print(grid_search.best_params_)"
      ],
      "metadata": {
        "id": "7rSW_iM68Ocm"
      },
      "execution_count": null,
      "outputs": []
    },
    {
      "cell_type": "code",
      "source": [
        "print(f\"Internal CV score: {grid_search.best_score_:.3f}\")"
      ],
      "metadata": {
        "id": "wDUJeCOY8RNl"
      },
      "execution_count": null,
      "outputs": []
    },
    {
      "cell_type": "code",
      "source": [
        "import pandas as pd\n",
        "\n",
        "cv_results = pd.DataFrame(grid_search.cv_results_)\n",
        "cv_results = cv_results.sort_values(\"mean_test_score\", ascending=False)\n",
        "cv_results[['param_classifier__C','param_preprocessor__cat__imputer__strategy','param_preprocessor__num__imputer__strategy','mean_test_score']]"
      ],
      "metadata": {
        "id": "vaQHEavN8U1n"
      },
      "execution_count": null,
      "outputs": []
    },
    {
      "cell_type": "markdown",
      "source": [
        "# KNN Imputer"
      ],
      "metadata": {
        "id": "Yec5zeFvt6Wt"
      }
    },
    {
      "cell_type": "markdown",
      "source": [
        "##What are Missing Values?\n",
        "##A missing value can be defined as the data value that is not captured nor stored for a variable in the observation of interest. There are 3 types of missing values -\n",
        "\n",
        "##Missing Completely at Random (MCAR)\n",
        "\n",
        "##MCAR occurs when the missing on the variable is completely unsystematic. When our dataset is missing values completely at random, the probability of missing data is unrelated to any other variable and unrelated to the variable with missing values itself. For example, MCAR would occur when data is missing because the responses to a research survey about depression are lost in the mail.\n",
        "\n",
        "##Missing at Random (MAR)\n",
        "\n",
        "##MAR occurs when the probability of the missing data on a variable is related to some other measured variable but unrelated to the variable with missing values itself. For example, the data values are missing because males are less likely to respond to a depression survey. In this case, the missing data is related to the gender of the respondents. However, the missing data is not related to the level of depression itself.\n",
        "\n",
        "##Missing Not at Random (MNAR)\n",
        "\n",
        "##MNAR occurs when the missing values on a variable are related to the variable with the missing values itself. In this case, the data values are missing because the respondents failed to fill in the survey due to their level of depression."
      ],
      "metadata": {
        "id": "hyQ4-9W6wxru"
      }
    },
    {
      "cell_type": "markdown",
      "source": [
        "##Introduction to k-Nearest Neighbor\n",
        "##The idea in kNN methods is to identify ‘k’ samples in the dataset that are similar or close in the space. Then we use these ‘k’ samples to estimate the value of the missing data points. Each sample’s missing values are imputed using the mean value of the ‘k’-neighbors found in the dataset."
      ],
      "metadata": {
        "id": "3GGBOm9xw9Dq"
      }
    },
    {
      "cell_type": "markdown",
      "source": [
        "##Distance calculation in the presence of missing values\n",
        "##Let’s look at an example to understand this. Consider a pair of observations in a two-dimensional space (2,0), (2,2), (3,3). The  graphical representation of these points are shown below:\n",
        "![image.png](data:image/png;base64,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)"
      ],
      "metadata": {
        "id": "DzOtTBKMxTZE"
      }
    },
    {
      "cell_type": "markdown",
      "source": [
        "##The points with the shortest distance based on Euclidean distances are considered to be the nearest neighbors. For example, 1-nearest neighbor to Point A is point B. For point B, the 1-nearest neighbor is point C.\n",
        "\n",
        " \n",
        "\n",
        "##In the presence of missing coordinates, the Euclidean distance is calculated by ignoring the missing values and scaling up the weight of the non-missing coordinates."
      ],
      "metadata": {
        "id": "iZ8dQp-Zxfr7"
      }
    },
    {
      "cell_type": "markdown",
      "source": [
        "![image.png](data:image/png;base64,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)"
      ],
      "metadata": {
        "id": "0d3VqL33xn3J"
      }
    },
    {
      "cell_type": "markdown",
      "source": [
        "##where\n",
        "![image.png](data:image/png;base64,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)"
      ],
      "metadata": {
        "id": "tiTDTwBExug5"
      }
    },
    {
      "cell_type": "markdown",
      "source": [
        "##For example, the Euclidean distances between two points (3, NA, 5) and (1, 0, 0) is:\n",
        "![image.png](data:image/png;base64,iVBORw0KGgoAAAANSUhEUgAAAYwAAABPCAIAAAB3UGWzAAAQhElEQVR4nO2df1RTV57Av1nFxxw3nE5t6JzGOLRhpNZFJ9ZSNZzu5IwDxdPpgMvgVGWtg84pbHFi1ziLdldnW+pYPC06jsxsWK0rbhmPZZzBGqXdpHAECvgDaBklAiKSHTElU8J6Yl70vP3jBcyP915ekvsAw/fzHzeX7735vnu/797v/d5vZAzDAIIgyFTlbya7AwiCIEKgkUIQZEqDRgpBkCkNGikEQaY0Ehmpod/nyLxstUjTBIIg04KZ0oj9v1E7aI095zepZTKZrFyaRhBEEDy5jg0kMlIAAM+p1YADBUGQ6JBouzfQ1SiNYARBphnSOc4Vj8yWTDaCINMGaYyU884wzFfOkUQ2giDTCmmMlP1WnyRyEQSZdki33WP95giCIFEhjZFCvzmCIISQbCWVgi4pBEEIIImRct4ZhsfwcA9BEAJIYqTQb44gCCkk2+6h3xxBEBJIYqTQb44gCCmkWkmh3xxBECJIYaSC/eae0WufVe5Y/XxyYrxMJpPFJy5Z/c7Z63claBtBkBhDCiMV6DfvP5KZMF/3773/UHnZdpdhXLbPtj9yZmfWglVHeiVoHUGQmEKq7Z6v3/z+fRqogt8Z16XK4wAg/oll28rfTgG3Ze8fOiVqHkGQWEGKfFKBfnP1pvPMJv8qsx95DKC7//bXEjSPIEgsIdFKKpTffNhmBaDW674rTfMIgsQMEhipkPHmHmvlv+yxyzMrtq9MIN88giAxhQRGij/e/O5f+zvOHVi3YOmvZu9t6KndOD+OfOsIgsQWEuU454g3761MT97cCABAKTSL7nxl/6snMRGtFIIgwkiwkrJZL3AVqzedZxiGcTmunH3zOxd2rv67pes/whAEBEFCIIGRuu9xC/jN47/59Pe2VJ0uS4WbJ9btMTnJt48gSCxB3kiJydMSt+jlojQA9/mufuLtIwgSU5A3UuLytMyYGQeASacQBAmFNHFS/n5zy1aZbNG+To9PkaPz00YA1aolmM8FQRBByBspbr/5F4aXCv9wbdQDAHf/9/PKwp//nlIbjr62hHjzCILEFuSNVLDffLmhvaZ8w4Lzxc8mzJLJZN94Otfoec105ct3dY8Sbx1BkBiDuJHi8JvHP7E45+cfnLs66GQYhmEY52BLzY4Xn4wPIclz+8LxHaufn5sgk6VXxmCwgmf02tn9r2bOTZDJZLKEuZk7PrnpCf1f0xRBZVm2ymTxicmZr+7H/D8xCUOYHqMWtMaeaMXQ3UYdBZTGUNNuc/FUGWqrKs5QvnrSHm1jUnHxXY0mp9TUx/0FzHoASlfR5WIYV9+JfAWQ0BsfIpTlatiu0Jul6kBIolMW7RxoNuapAFR68/DEdJgAdP+RLCIPfeoJIokkRir6oX7rZB4FkFU1yPM5PVRnUFOqPGPbED1W5rK115RvyEhRygEAQK7MKK7y+VhS6KE241q1LujpuvpMJcvk8sz9l4JnjlkPqfu7fP4CAorj7lyQsnqMWq43FmWol6IDPj1pM76qUVAAQCk0OaV1A76PJ2pl0U07FeBbb2KgnVaLsTgjRSkHVelF3mpmPecqQXf4ul81V5+pNCeNHcSUQp1REmS3RQry6WBHWSqXwkQJmsxp5YW4kao3UNHPNbquSEjrw2a9KvCVWW+gACjNbovNxTAM7bTWFKgAQGWoH4myM6EYvmRcq6YA+FZCdLdRR1E6Y7fQgx2uWSNklKPpHoeyWCMlV6YE8MqHfOOcWE8oXUWnk2ZcNpNeBUBlV/t/5SiVZdbzPgZpoAdqC9WUfFmx0XLltlNw6pr1AJRCHajztxt96rAq0hhMVifNMPRQW5mOgkB1iBHk20XWRPEYqRCCJm9a+UDcSJn1kFLWEaUQ9kXPY+sGq7MpSC3r8B8RZn3gO3SkNh8AIL9WOnW6+kwlyxTql4pe0VBCs2O4rkgBqt0tfIN42KxXhZqZXq2E+QLgVlZEoqJkxKxX+JmWkTMFFABVcCbg+USjLMGBQxxXV4WOApW+TtTCwqwPZT8Hq7OpwDqDVVkQYJFDC/KBbtmtolJTU/iMVAhBkzKtAiHtOPfcowmEaCq+9RQAdPRzxKN7miuKT0HB3p8t8r+crHufYTq3PONTkjB7DgDAoN0RZW94+fMR/bGnDl3tqf3NW0VLhSo++oM33tHe3P3GUS7/v+Pyvtwf1f7EdHIT8awQfMqaBJwNR8rtoPuxVjlWkrByTQGAu+qjRv+7UdEoy2a9AJCWouT4iDiOT/75e4VNK4yfvvsDMhflh85Xn3JD2voXfIMHlSs3ZAOYKkwRHR15Wt/J3fPs0d9teSzCPk3GtAqCtJEauNFBQErCvEUpAF8O3A76xHmuotSu2FYgIhPV0O1+AEjNfj6JQI84eabwj8c3aUTFUaizCrOgcUdVa0C54/K+3OUHFv+xVYp4jDCUJTntDScAYHGSz8OIe0qjBXD/qfVqQN2IlTX0l2tugJS53yLZc26clrfWHbKnvl2+gdir5cbVRgCImznDr/TxxCQAaOwaCF+gs2Fn7p5njx5ck0ikfyzST6sgpIg4J/C7oAsWfx/A3n59KKDc2XDiGMCLyxaGHBgOy68Mpyi1Yf/6Z0JVnRCUz72cBvYPG3yzunuslbnLDyw2tb8vScSYeGVJT6+1yQ2gXTjPt3DetxcDgP32SGDoRaTKunG1ESBtxXzpjbKttqzcDlm/eIXgGnWOcj7/h5zbCkGcDW+vP5BcsW8NyXXlpEwr0kaKJ09LuMTNnMVZ3t5wIsQo9Izar7b8947lST/6PPujS1MoYHR+ygqA7jMXx8eas2Hnytfh4KfeLnpufLCKbDxYKGW1VW3J9P7IWMLczC3HL0u4gL/z9VfBhd6n3HEjaJUQjbIClyKB9Famy8Sw1cIvY+j8SRNA2suL6M8qt3ijt+ITl2ysDKHDrz7ex0b+eX/XzS80bp76OQqg8dNOPxmOr/8CAEDfvy9aEACAw7Jr/YHkCuPGEAuGkIJYJndaEfZxkfCb087OCh1FqUuCThCuH9YBQFEdr5/ywaGqXJlRbLTwRN0Qh3XYCjshe4xa30P+rv2pQQ9D4JsxYXu7hZQ10nHoZc1aY7PNxTCMy3HFe2YjXYwR+2ACFcRdyjARK6vnWKYcVHoTX2wdKeoNFADI5QvzjM0DTpphaGdnVZ4KgOOQYozBM4Wavy/xnts5B5rLdBT4n9yxwYGgyqvqHKtkzFsolwP4PffQgryHC4fH9MpzniBCEMtkTSsvhI0UXVcUMObCNpSsQjSlF53B4kUe3tDOgfYag4YCoDSlLbynEDxhIoGIOUgRbaTCMDLRdi+s9uhLe1JAKMYoyt6ws5rbSHGFmkR8TOe6Xr32myKfWsTcqs4GAFhT42fTh2vWANdxJR9c9YcvjQWSgVyZllNq6us+rAMQfvMHCho261WgrXhga8a1SQ+ZigQidoW/gchpRR7CRopIvDn/SiqsoTtcm08JzjuCiDdSP/14NKpGxM/bMOc5a0b4IwKjg+1MWkW3XylrpLi6GKGyJmgl5Y2FDew4Wyx+J8GudUNE0LKRSnqz0BrbXxD7Fy+K3S3R9Ggip5UXCRznUfvN4+Spr/1robt3z/umQMd5ODyamV8AAF9c6JtK6T8TvvG3k90FbpTzl0KQ64MYbFBJa7fNt7C/vwMEIwbCVVZr1RvnRrX/9vqLTwhcDCXgk1Krn+MqZg8CxP+aZFLSYgBwe4RU3mr5wA2KbXnpQg56f0FJGwOtvt/76vautGh6NAnTirCRIuQ3B889mqt4xoxZADB8R5x6vH7ZObOnwAk8ANy/N7H3h8NTlvfRKeTS2NCEBS9oAaCp2+pTOHClCUCxagnHoVYUyvLcE7az3mT7IXlfYD2iTEkDgP7b/i9RNv5mxYJ5nP8TDGukFQJhhY7TB/fYKd3ejcsFDxFDCyLWo8mYVoSNlHB+c/Fc6fgfAMV3n3zcvzhJvZQC6B68FfQPvZXpsvh/PO17LuK53GICoPLSp0YMgufGF60AukVPTlSD/MoCy1aZbNVx31WN53LTn9xAZf8k/fHg6iRQZxVmAbQeOvvn8Sab6z5wQ+qbP+Z4sUeorG8/rQVobbJK/o6f/8K6VADTx22+A872eU0jgHbtC0kA4wu2sfVYb2W6LPHNZr/Mj5fPWQBU/5Sl4W7Ec/P09qJjoDv42/U+e5MIBHEjRtAUmVZEN4/BfvPIYEPvs6tvcX/AEZLPLmgpXVnz2CUjk0FDgTzzcIi7JiSgh2ryKQCg8mv4L0h0lKUI+wNCEu5dFl5lsb4gX2XVFKhAamXRLaVqCihdWdsQzdBDDTtTgdKUc5+FRaqsegMV7PmShJH6EvbbeE9Ibc0B1+wC/Fbsn6qCGquT9qmvNnAdqNLOgfaakmVySr22OvCRhCXIK86sp4LnkxhBkzqtxiFrpHqMWiKuV36f763qbE43Iu20WowlOWlq9mQEKIV6Am5rX//wlZSx6+FeKIWa86Juj1EbpY0K/8Idn7KYwcvHyzdkpDxQlianZCKutg9fqirOYPUlV3Lc7x8jYmVN6N09V5+pNMd7FBc83gKM1Ij1E2NJTtr4aJErMzaUcyrgYqmKUqgzNpTXfMn1RMQLYrl1butCb1VKU1J/KyxBkzOtAiFvpLhGSMB3Zb8qR0KO8fr8WRBGzHpFGMe8U4Wu/akTez2fYZhpqKwJz4KATABkjRR3nhbvueaDlbFlt4YCobg3wXxSPBf7pzLDtfmU0MV+6ZhWymLzSQnldEIeRsgaKe548x6jFqj8Wp+FEzuahBb045k5TVccQStZzhRJUxZRKZKkY3oo6+HMzImIgqiREu839yalEXQe0ENtVSVsjsIgoWyuMf/MnFMRV5/JoKG4k01OGDGvLG/yNmHfDPLQQtRIifebs17F6PzID3uO8wkFlYU8tMgYcdfrRNFbmZ7c9ZZgFByL7fiquetNqfu7/PNpIQiCBEI0mHPYZg1dCcDxyTtbTZTOeLIQLRSCICGYSVLYna/tIePNPdbK3B8eitfXVZNLaYggSOxC0kiJyG/usGxfublphbGTVF5oBEFiHJLbvYEbHTBrBn9aRI+1MjerIrmsWYKfHEAQJEYhut2DgEz7fjgs21du7ik0t28T99MFCIIgQNZICfnNe4/kZlUkGzunTs5xBEEeCiLZ7nlGr53dsfzFoDz4/H7z3iObC5uyjh7z3eZ5rEdy11aH+xMYCIJMM8JcSd29fva9LdsOtQzY7KPUL0+v/q+XHiyMeP3mTtOeQot7lnLX95/eNV54z9Hfa19q3BtpxxEEmR6EZ6Qclg8blrzXfH1OfcETPzx2rOjXr2fuShtbHA3c6IBZS4P95kOm//hPN4Db1t0d+JGQmx1BEAQAIo04761MT97cCFpjz/lN6gdFouLNEQRBRBNpCIJ6w3u7VQCNr/9yPLeoyHhzBEGQMIg4TiourfhQPgXuY0W/bmXTJIuJN0cQBAmPKII5H31p10EtwM3dbxwdO+cLEW+OIAgSLlFFnPvt+Xp729ARjiAIaaK7FuO757sPQvHmCIIgERHt3b0He75ffIx+cwRBiBP9BeOxPd+pU+g3RxCEOASyIHj3fIB+cwRByEMkVYt3z4d+cwRBiEMonxS750O/OYIgpCH6QwwIgiCk+X/fGN/jdsOMbgAAAABJRU5ErkJggg==)"
      ],
      "metadata": {
        "id": "uIyfT7hwx1dN"
      }
    },
    {
      "cell_type": "code",
      "source": [
        "import numpy as np\n",
        "import pandas as pd\n",
        "import os\n",
        "from sklearn.model_selection import train_test_split\n",
        "\n",
        "from sklearn.impute import KNNImputer,SimpleImputer\n",
        "from sklearn.linear_model import LogisticRegression\n",
        "\n",
        "from sklearn.metrics import accuracy_score"
      ],
      "metadata": {
        "id": "K9vUyh3vuAqv"
      },
      "execution_count": null,
      "outputs": []
    },
    {
      "cell_type": "code",
      "source": [
        "os.environ['KAGGLE_CONFIG_DIR']='/content/drive/MyDrive/Colab Notebooks/Kaggle json'"
      ],
      "metadata": {
        "id": "e49QnJK3yLVZ"
      },
      "execution_count": null,
      "outputs": []
    },
    {
      "cell_type": "code",
      "source": [
        "!kaggle datasets download -d hesh97/titanicdataset-traincsv"
      ],
      "metadata": {
        "id": "PUVyEF7tyX-N"
      },
      "execution_count": null,
      "outputs": []
    },
    {
      "cell_type": "code",
      "source": [
        "!unzip /content/titanicdataset-traincsv.zip"
      ],
      "metadata": {
        "id": "HwQi2b_Aye47"
      },
      "execution_count": null,
      "outputs": []
    },
    {
      "cell_type": "code",
      "source": [
        "df=pd.read_csv('/content/train.csv')[['Age','Pclass','Fare','Survived']]\n",
        "df.head()"
      ],
      "metadata": {
        "id": "Iecgm_ETykwP"
      },
      "execution_count": null,
      "outputs": []
    },
    {
      "cell_type": "code",
      "source": [
        "df.isnull().mean() * 100"
      ],
      "metadata": {
        "id": "TLg_vm9Ey4dK"
      },
      "execution_count": null,
      "outputs": []
    },
    {
      "cell_type": "code",
      "source": [
        "X = df.drop(columns=['Survived'])\n",
        "y = df['Survived']"
      ],
      "metadata": {
        "id": "9NribgG1y-JL"
      },
      "execution_count": null,
      "outputs": []
    },
    {
      "cell_type": "code",
      "source": [
        "X_train,X_test,y_train,y_test = train_test_split(X,y,test_size=0.2,random_state=2)\n"
      ],
      "metadata": {
        "id": "7RvXhLkOzA1V"
      },
      "execution_count": null,
      "outputs": []
    },
    {
      "cell_type": "code",
      "source": [
        "X_train.head()\n"
      ],
      "metadata": {
        "id": "q0J1Z4A5zDMa"
      },
      "execution_count": null,
      "outputs": []
    },
    {
      "cell_type": "markdown",
      "source": [
        "## you can change the paramter n_neighbors,weights. and chec the accuarcy of the model. like n_neighbors=3,weights='distance'.weight can be uniform or distance.default is uniform."
      ],
      "metadata": {
        "id": "5iOwGC1pzOgl"
      }
    },
    {
      "cell_type": "code",
      "source": [
        "knn = KNNImputer()\n",
        "X_train_trf = knn.fit_transform(X_train)\n",
        "X_test_trf = knn.transform(X_test)"
      ],
      "metadata": {
        "id": "ZwuLd-9QzF2o"
      },
      "execution_count": null,
      "outputs": []
    },
    {
      "cell_type": "code",
      "source": [
        "lr = LogisticRegression()\n",
        "\n",
        "lr.fit(X_train_trf,y_train)\n",
        "\n",
        "y_pred = lr.predict(X_test_trf)\n",
        "\n",
        "accuracy_score(y_test,y_pred)"
      ],
      "metadata": {
        "id": "smw7gOSfzvqP"
      },
      "execution_count": null,
      "outputs": []
    },
    {
      "cell_type": "markdown",
      "source": [
        "## if we change the parameter value then accuarcy ma be changed let's try it"
      ],
      "metadata": {
        "id": "caFL5lWH0NRB"
      }
    },
    {
      "cell_type": "code",
      "source": [
        "knn = KNNImputer(n_neighbors=3,weights='distance')\n",
        "\n",
        "X_train_trf = knn.fit_transform(X_train)\n",
        "X_test_trf = knn.transform(X_test)"
      ],
      "metadata": {
        "id": "J77EajgL0LjL"
      },
      "execution_count": null,
      "outputs": []
    },
    {
      "cell_type": "code",
      "source": [
        "lr = LogisticRegression()\n",
        "\n",
        "lr.fit(X_train_trf,y_train)\n",
        "\n",
        "y_pred = lr.predict(X_test_trf)\n",
        "\n",
        "accuracy_score(y_test,y_pred)"
      ],
      "metadata": {
        "id": "Hpb59q0p0LTP"
      },
      "execution_count": null,
      "outputs": []
    },
    {
      "cell_type": "markdown",
      "source": [
        "## You can see that accuracy is improved when we changing the parameter so you can do this by your self and check the accuracy.\n",
        "## Now check if we do not use knn imputer and use simple imputer what happen to accuracy"
      ],
      "metadata": {
        "id": "QWtzpcpy0z7r"
      }
    },
    {
      "cell_type": "markdown",
      "source": [
        "# Comparision with Simple Imputer --> mean"
      ],
      "metadata": {
        "id": "_nMfw1Ffz7vh"
      }
    },
    {
      "cell_type": "code",
      "source": [
        "si = SimpleImputer()\n",
        "\n",
        "X_train_trf2 = si.fit_transform(X_train)\n",
        "X_test_trf2 = si.transform(X_test)"
      ],
      "metadata": {
        "id": "WsmO5pHlzzpX"
      },
      "execution_count": null,
      "outputs": []
    },
    {
      "cell_type": "code",
      "source": [
        "lr = LogisticRegression()\n",
        "\n",
        "lr.fit(X_train_trf2,y_train)\n",
        "\n",
        "y_pred2 = lr.predict(X_test_trf2)\n",
        "\n",
        "accuracy_score(y_test,y_pred2)"
      ],
      "metadata": {
        "id": "kSpdV2afz9jN"
      },
      "execution_count": null,
      "outputs": []
    },
    {
      "cell_type": "markdown",
      "source": [
        "# Itrative Imputer--Multivariate\n",
        "##The Process Behind the Iterations\n",
        "###Now that you know how to be the “Chosen One”, let’s understand the process behind the iterations.\n",
        "\n",
        "###Iterative Imputer initially initializes the missing values with the value passed for initial_strategy, where the initial strategy is the “mean” for each feature. The imputer then uses an estimator (where the default estimator used is Bayesian Ridge) at each step of the round-robin imputation. At each step, a feature column is chosen as the target variable y and the other feature columns are treated as predictor variables X. The missing values are then predicted for each feature. This process is repeated for at most “max_iter” number of times, where the default is 10 times (rounds). The reason why I say “at most” and not “exactly” is because early stopping is enabled due to the default parameterization of sample_posterior=False.\n",
        "###This essentially means that for a single missing value, there are at most max_iter number of predictions and the iterations stop once the difference between the previous iteration prediction and current iteration prediction for a value is smaller than the given tol value (default = 1e-3).\n",
        "\n",
        "###You can mess around with several other parameters, so be sure to try them out on your own dataset! Now enough of this nerdy stuff, let’s see some action."
      ],
      "metadata": {
        "id": "QaGMPCa92N3o"
      }
    },
    {
      "cell_type": "code",
      "source": [
        "import pandas as pd\n",
        "import numpy as np\n",
        "\n",
        "from sklearn.linear_model import LinearRegression"
      ],
      "metadata": {
        "id": "nB7Twuc36J5O"
      },
      "execution_count": null,
      "outputs": []
    },
    {
      "cell_type": "code",
      "source": [
        "df=np.round(pd.read_csv('/content/drive/MyDrive/Colab Notebooks/0machine learning/csv data/50_Startups.csv')[['R&D Spend','Administration','Marketing Spend','Profit']]/10000)\n",
        "np.random.seed(9)\n",
        "df = df.sample(5)\n",
        "df"
      ],
      "metadata": {
        "id": "9ocTugQd0AvX"
      },
      "execution_count": null,
      "outputs": []
    },
    {
      "cell_type": "code",
      "source": [
        "df = df.iloc[:,0:-1]\n",
        "df"
      ],
      "metadata": {
        "id": "iVo2aDqH6Hz7"
      },
      "execution_count": null,
      "outputs": []
    },
    {
      "cell_type": "code",
      "source": [
        "df.iloc[1,0] = np.NaN\n",
        "df.iloc[3,1] = np.NaN\n",
        "df.iloc[-1,-1] = np.NaN"
      ],
      "metadata": {
        "id": "0BO-pMyw6XTi"
      },
      "execution_count": null,
      "outputs": []
    },
    {
      "cell_type": "code",
      "source": [
        "df.head()"
      ],
      "metadata": {
        "id": "K7eR3I2V6dOF"
      },
      "execution_count": null,
      "outputs": []
    },
    {
      "cell_type": "markdown",
      "source": [
        "# Step 1 - Impute all missing values with mean of respective col"
      ],
      "metadata": {
        "id": "qhK_LPeC6oOT"
      }
    },
    {
      "cell_type": "code",
      "source": [
        "df0 = pd.DataFrame()\n",
        "\n",
        "df0['R&D Spend'] = df['R&D Spend'].fillna(df['R&D Spend'].mean())\n",
        "df0['Administration'] = df['Administration'].fillna(df['Administration'].mean())\n",
        "df0['Marketing Spend'] = df['Marketing Spend'].fillna(df['Marketing Spend'].mean())"
      ],
      "metadata": {
        "id": "kWjnBaH96gBq"
      },
      "execution_count": null,
      "outputs": []
    },
    {
      "cell_type": "markdown",
      "source": [
        "# 0th Iteration"
      ],
      "metadata": {
        "id": "EgH4zvyC6wIE"
      }
    },
    {
      "cell_type": "code",
      "source": [
        "df0"
      ],
      "metadata": {
        "id": "R_9vYW0H6qBP"
      },
      "execution_count": null,
      "outputs": []
    },
    {
      "cell_type": "markdown",
      "source": [
        "# Remove the col1 imputed value"
      ],
      "metadata": {
        "id": "XlTdCpkZ627X"
      }
    },
    {
      "cell_type": "code",
      "source": [
        "df1 = df0.copy()\n",
        "\n",
        "df1.iloc[1,0] = np.NaN\n",
        "\n",
        "df1"
      ],
      "metadata": {
        "id": "Q06CqQur6w1D"
      },
      "execution_count": null,
      "outputs": []
    },
    {
      "cell_type": "markdown",
      "source": [
        "# Use first 3 rows to build a model and use the last for prediction\n"
      ],
      "metadata": {
        "id": "iApioy586_Zf"
      }
    },
    {
      "cell_type": "code",
      "source": [
        "X = df1.iloc[[0,2,3,4],1:3]\n",
        "X"
      ],
      "metadata": {
        "id": "a-wFSsx163uh"
      },
      "execution_count": null,
      "outputs": []
    },
    {
      "cell_type": "code",
      "source": [
        "y = df1.iloc[[0,2,3,4],0]\n",
        "y"
      ],
      "metadata": {
        "id": "4qWKV_DR7ADh"
      },
      "execution_count": null,
      "outputs": []
    },
    {
      "cell_type": "code",
      "source": [
        "lr = LinearRegression()\n",
        "lr.fit(X,y)\n",
        "lr.predict(df1.iloc[1,1:].values.reshape(1,2))"
      ],
      "metadata": {
        "id": "a8j0b2G_7EST"
      },
      "execution_count": null,
      "outputs": []
    },
    {
      "cell_type": "code",
      "source": [
        "df1.iloc[1,0] = 23.14"
      ],
      "metadata": {
        "id": "jaTQxjcR7Hml"
      },
      "execution_count": null,
      "outputs": []
    },
    {
      "cell_type": "code",
      "source": [
        "df1"
      ],
      "metadata": {
        "id": "jBOh7dUp7KV2"
      },
      "execution_count": null,
      "outputs": []
    },
    {
      "cell_type": "markdown",
      "source": [
        "# Remove the col2 imputed value"
      ],
      "metadata": {
        "id": "vmiUCqw77Sb-"
      }
    },
    {
      "cell_type": "code",
      "source": [
        "df1.iloc[3,1] = np.NaN\n",
        "\n",
        "df1"
      ],
      "metadata": {
        "id": "TJ83FWT27M20"
      },
      "execution_count": null,
      "outputs": []
    },
    {
      "cell_type": "markdown",
      "source": [
        "# Use last 3 rows to build a model and use the first for prediction"
      ],
      "metadata": {
        "id": "5i5icCrR7ZN1"
      }
    },
    {
      "cell_type": "code",
      "source": [
        "X = df1.iloc[[0,1,2,4],[0,2]]\n",
        "X"
      ],
      "metadata": {
        "id": "OrQZ6v6j7TOG"
      },
      "execution_count": null,
      "outputs": []
    },
    {
      "cell_type": "code",
      "source": [
        "y = df1.iloc[[0,1,2,4],1]\n",
        "y"
      ],
      "metadata": {
        "id": "rMCk0mQ97af8"
      },
      "execution_count": null,
      "outputs": []
    },
    {
      "cell_type": "code",
      "source": [
        "lr = LinearRegression()\n",
        "lr.fit(X,y)\n",
        "lr.predict(df1.iloc[3,[0,2]].values.reshape(1,2))"
      ],
      "metadata": {
        "id": "mmXUYisy7dx-"
      },
      "execution_count": null,
      "outputs": []
    },
    {
      "cell_type": "code",
      "source": [
        "df1.iloc[3,1] = 11.06"
      ],
      "metadata": {
        "id": "1bZFFM6l7hYx"
      },
      "execution_count": null,
      "outputs": []
    },
    {
      "cell_type": "code",
      "source": [
        "df1"
      ],
      "metadata": {
        "id": "NLIYLJP47lh_"
      },
      "execution_count": null,
      "outputs": []
    },
    {
      "cell_type": "markdown",
      "source": [
        "# Remove the col3 imputed value"
      ],
      "metadata": {
        "id": "nhBa1FoJ7tlV"
      }
    },
    {
      "cell_type": "code",
      "source": [
        "df1.iloc[4,-1] = np.NaN\n",
        "\n",
        "df1"
      ],
      "metadata": {
        "id": "EzwdsWgr7oBW"
      },
      "execution_count": null,
      "outputs": []
    },
    {
      "cell_type": "markdown",
      "source": [
        "# Use last 3 rows to build a model and use the first for prediction"
      ],
      "metadata": {
        "id": "RTRsmP6S70tK"
      }
    },
    {
      "cell_type": "code",
      "source": [
        "X = df1.iloc[0:4,0:2]\n",
        "X"
      ],
      "metadata": {
        "id": "wqL9OFJF7uaH"
      },
      "execution_count": null,
      "outputs": []
    },
    {
      "cell_type": "code",
      "source": [
        "y = df1.iloc[0:4,-1]\n",
        "y"
      ],
      "metadata": {
        "id": "aOahZFos71gY"
      },
      "execution_count": null,
      "outputs": []
    },
    {
      "cell_type": "code",
      "source": [
        "lr = LinearRegression()\n",
        "lr.fit(X,y)\n",
        "lr.predict(df1.iloc[4,0:2].values.reshape(1,2))"
      ],
      "metadata": {
        "id": "BWO-_2lY75HI"
      },
      "execution_count": null,
      "outputs": []
    },
    {
      "cell_type": "code",
      "source": [
        "df1.iloc[4,-1] = 31.56"
      ],
      "metadata": {
        "id": "CJQ1SPa078TH"
      },
      "execution_count": null,
      "outputs": []
    },
    {
      "cell_type": "markdown",
      "source": [
        "# After 1st Iteration"
      ],
      "metadata": {
        "id": "fFw2RNy48Ecu"
      }
    },
    {
      "cell_type": "code",
      "source": [
        "df1"
      ],
      "metadata": {
        "id": "VEp5i2s07-6r"
      },
      "execution_count": null,
      "outputs": []
    },
    {
      "cell_type": "markdown",
      "source": [
        "# Subtract 0th iteration from 1st iteration"
      ],
      "metadata": {
        "id": "yIA2H0D58Lxo"
      }
    },
    {
      "cell_type": "code",
      "source": [
        "df1 - df0"
      ],
      "metadata": {
        "id": "d2QBeQ8-8FWM"
      },
      "execution_count": null,
      "outputs": []
    },
    {
      "cell_type": "code",
      "source": [
        "df2 = df1.copy()\n",
        "\n",
        "df2.iloc[1,0] = np.NaN\n",
        "\n",
        "df2"
      ],
      "metadata": {
        "id": "cnSIDM268Mgq"
      },
      "execution_count": null,
      "outputs": []
    },
    {
      "cell_type": "code",
      "source": [
        "X = df2.iloc[[0,2,3,4],1:3]\n",
        "y = df2.iloc[[0,2,3,4],0]\n",
        "\n",
        "lr = LinearRegression()\n",
        "lr.fit(X,y)\n",
        "lr.predict(df2.iloc[1,1:].values.reshape(1,2))"
      ],
      "metadata": {
        "id": "uxKZumkE8PtP"
      },
      "execution_count": null,
      "outputs": []
    },
    {
      "cell_type": "code",
      "source": [
        "df2.iloc[1,0] = 23.78"
      ],
      "metadata": {
        "id": "O3QDFqO68TUx"
      },
      "execution_count": null,
      "outputs": []
    },
    {
      "cell_type": "code",
      "source": [
        "df2.iloc[3,1] = np.NaN\n",
        "X = df2.iloc[[0,1,2,4],[0,2]]\n",
        "y = df2.iloc[[0,1,2,4],1]\n",
        "\n",
        "lr = LinearRegression()\n",
        "lr.fit(X,y)\n",
        "lr.predict(df2.iloc[3,[0,2]].values.reshape(1,2))"
      ],
      "metadata": {
        "id": "WHydn29C8WJB"
      },
      "execution_count": null,
      "outputs": []
    },
    {
      "cell_type": "code",
      "source": [
        "df2.iloc[3,1] = 11.22"
      ],
      "metadata": {
        "id": "Hn6ZbBfg8Z7l"
      },
      "execution_count": null,
      "outputs": []
    },
    {
      "cell_type": "code",
      "source": [
        "df2.iloc[4,-1] = np.NaN\n",
        "\n",
        "X = df2.iloc[0:4,0:2]\n",
        "y = df2.iloc[0:4,-1]\n",
        "\n",
        "lr = LinearRegression()\n",
        "lr.fit(X,y)\n",
        "lr.predict(df2.iloc[4,0:2].values.reshape(1,2))"
      ],
      "metadata": {
        "id": "6N8GAVw48c3c"
      },
      "execution_count": null,
      "outputs": []
    },
    {
      "cell_type": "code",
      "source": [
        "df2.iloc[4,-1] = 31.56"
      ],
      "metadata": {
        "id": "YzdkF_5t8f8W"
      },
      "execution_count": null,
      "outputs": []
    },
    {
      "cell_type": "code",
      "source": [
        "df2"
      ],
      "metadata": {
        "id": "CO28VT658jA6"
      },
      "execution_count": null,
      "outputs": []
    },
    {
      "cell_type": "code",
      "source": [
        "df2 - df1"
      ],
      "metadata": {
        "id": "OLzAMTy78kNk"
      },
      "execution_count": null,
      "outputs": []
    },
    {
      "cell_type": "code",
      "source": [
        "df3 = df2.copy()\n",
        "\n",
        "df3.iloc[1,0] = np.NaN\n",
        "\n",
        "df3"
      ],
      "metadata": {
        "id": "hONmg6Sv8nVE"
      },
      "execution_count": null,
      "outputs": []
    },
    {
      "cell_type": "code",
      "source": [
        "X = df3.iloc[[0,2,3,4],1:3]\n",
        "y = df3.iloc[[0,2,3,4],0]\n",
        "\n",
        "lr = LinearRegression()\n",
        "lr.fit(X,y)\n",
        "lr.predict(df3.iloc[1,1:].values.reshape(1,2))"
      ],
      "metadata": {
        "id": "inLDdOpK8qPH"
      },
      "execution_count": null,
      "outputs": []
    },
    {
      "cell_type": "code",
      "source": [
        "df3.iloc[1,0] = 24.57"
      ],
      "metadata": {
        "id": "xBhlgz0N8tTz"
      },
      "execution_count": null,
      "outputs": []
    },
    {
      "cell_type": "code",
      "source": [
        "df3.iloc[3,1] = np.NaN\n",
        "X = df3.iloc[[0,1,2,4],[0,2]]\n",
        "y = df3.iloc[[0,1,2,4],1]\n",
        "\n",
        "lr = LinearRegression()\n",
        "lr.fit(X,y)\n",
        "lr.predict(df3.iloc[3,[0,2]].values.reshape(1,2))"
      ],
      "metadata": {
        "id": "QDEpROAo8vu1"
      },
      "execution_count": null,
      "outputs": []
    },
    {
      "cell_type": "code",
      "source": [
        "df3.iloc[3,1] = 11.37"
      ],
      "metadata": {
        "id": "9QEpI4aB8zEv"
      },
      "execution_count": null,
      "outputs": []
    },
    {
      "cell_type": "code",
      "source": [
        "df3.iloc[4,-1] = np.NaN\n",
        "\n",
        "X = df3.iloc[0:4,0:2]\n",
        "y = df3.iloc[0:4,-1]\n",
        "\n",
        "lr = LinearRegression()\n",
        "lr.fit(X,y)\n",
        "lr.predict(df3.iloc[4,0:2].values.reshape(1,2))"
      ],
      "metadata": {
        "id": "1DJmmhBz81fj"
      },
      "execution_count": null,
      "outputs": []
    },
    {
      "cell_type": "code",
      "source": [
        "df3.iloc[4,-1] = 45.53"
      ],
      "metadata": {
        "id": "aY5f17Bb84rO"
      },
      "execution_count": null,
      "outputs": []
    },
    {
      "cell_type": "code",
      "source": [
        "df2.iloc[3,1] = 11.22"
      ],
      "metadata": {
        "id": "hDTI2ybm88a_"
      },
      "execution_count": null,
      "outputs": []
    },
    {
      "cell_type": "code",
      "source": [
        "df3"
      ],
      "metadata": {
        "id": "-KHhbzq08_Io"
      },
      "execution_count": null,
      "outputs": []
    },
    {
      "cell_type": "code",
      "source": [
        "df3 - df2"
      ],
      "metadata": {
        "id": "GRkbtWrZ9AQv"
      },
      "execution_count": null,
      "outputs": []
    },
    {
      "cell_type": "markdown",
      "source": [
        "## After this you should try itrative imputation by yourself till we don not have difference is 0 or near to 0."
      ],
      "metadata": {
        "id": "TNJP4RBy9G9O"
      }
    },
    {
      "cell_type": "code",
      "source": [],
      "metadata": {
        "id": "aMfpxVyv9EEp"
      },
      "execution_count": null,
      "outputs": []
    }
  ]
}