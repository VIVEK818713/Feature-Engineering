{
  "nbformat": 4,
  "nbformat_minor": 0,
  "metadata": {
    "colab": {
      "provenance": [],
      "mount_file_id": "1GOQ8zEmnCPPVXEG3QSGyDGiBV5KAL9sc",
      "authorship_tag": "ABX9TyPV30x5ZlbhWY33+vVzkVH4",
      "include_colab_link": true
    },
    "kernelspec": {
      "name": "python3",
      "display_name": "Python 3"
    },
    "language_info": {
      "name": "python"
    }
  },
  "cells": [
    {
      "cell_type": "markdown",
      "metadata": {
        "id": "view-in-github",
        "colab_type": "text"
      },
      "source": [
        "<a href=\"https://colab.research.google.com/github/VIVEK818713/Feature-Engineering/blob/main/6_Handling_Mixed_Data.ipynb\" target=\"_parent\"><img src=\"https://colab.research.google.com/assets/colab-badge.svg\" alt=\"Open In Colab\"/></a>"
      ]
    },
    {
      "cell_type": "markdown",
      "source": [
        "# Handle mixed data \n",
        "## when you are working on machine learning then it may be your dataset having mixed data then you have to deal with. Mixed data means you have numerical and categorical data in the ciolumns.\n",
        "## it may be your data in the column have data like C34, A2,D5 .. here we have both kind of values.if you know the railway ticket it has value like S5,S6 ... means S is sleeper class and 5 is compartment number.\n",
        "## So we have to create 2 different columns . first column is for categorical value and second for numerical value.\n",
        "## Now your categorical column will have value C,A,D...and numerical column will have value 34,2,5..\n",
        "## Number-----Category\n",
        "## 34 ---------------C\n",
        "## 2  ---------------- A\n",
        "## 5  ---------------- D\n",
        "\n",
        "## there is an another case where your column has mixed value like[1,22,44,A,4,D,..].\\\n",
        "\n",
        "## then you have to split your column into 2 column first is categorical and second is numerical .like this\n",
        "## Number-----Category\n",
        "## 1 ---------------- NA\n",
        "## 22 ----------------NA\n",
        "## 44 ----------------NA\n",
        "## 4 ---------------- NA\n",
        "## NA ----------------A\n",
        "## NA ----------------D"
      ],
      "metadata": {
        "id": "Qh5y_2w1EigB"
      }
    },
    {
      "cell_type": "code",
      "execution_count": null,
      "metadata": {
        "id": "wtu4-LqmEcZM"
      },
      "outputs": [],
      "source": [
        "import pandas as pd\n",
        "import numpy as np\n",
        "import os"
      ]
    },
    {
      "cell_type": "code",
      "source": [
        "os.environ['KAGGLE_CONFIG_DIR']='/content/drive/MyDrive/Colab Notebooks/Kaggle json'"
      ],
      "metadata": {
        "id": "tDtWg-OaEtbb"
      },
      "execution_count": null,
      "outputs": []
    },
    {
      "cell_type": "code",
      "source": [
        "!kaggle datasets download -d hesh97/titanicdataset-traincsv"
      ],
      "metadata": {
        "id": "591W5WHLE6Xj"
      },
      "execution_count": null,
      "outputs": []
    },
    {
      "cell_type": "code",
      "source": [
        "!unzip /content/titanicdataset-traincsv.zip"
      ],
      "metadata": {
        "id": "WzJhQ3eLE-UU"
      },
      "execution_count": null,
      "outputs": []
    },
    {
      "cell_type": "code",
      "source": [
        "df=pd.read_csv('/content/train.csv')\n",
        "df.head()"
      ],
      "metadata": {
        "id": "WocNezgkE-GL"
      },
      "execution_count": null,
      "outputs": []
    },
    {
      "cell_type": "markdown",
      "source": [
        "##To understand Mixed value both type we are adding sibsp and parch value and make a new column namely 'number'."
      ],
      "metadata": {
        "id": "tmjGLFipFSmk"
      }
    },
    {
      "cell_type": "code",
      "source": [
        "df['number']=df['SibSp']+df['Parch']"
      ],
      "metadata": {
        "id": "PRBGuvvZFDeY"
      },
      "execution_count": null,
      "outputs": []
    },
    {
      "cell_type": "code",
      "source": [
        "df.head()"
      ],
      "metadata": {
        "id": "q1UJbKTHFXFX"
      },
      "execution_count": null,
      "outputs": []
    },
    {
      "cell_type": "code",
      "source": [
        "df.number=df.number.replace(0,'A')"
      ],
      "metadata": {
        "id": "dCvSOOBKFZ_A"
      },
      "execution_count": null,
      "outputs": []
    },
    {
      "cell_type": "code",
      "source": [
        "df.head()"
      ],
      "metadata": {
        "id": "Uzq6F3UsFf26"
      },
      "execution_count": null,
      "outputs": []
    },
    {
      "cell_type": "markdown",
      "source": [
        "##or discuss mixed values we consider only 4 column which are Cabin Ticket number Survived."
      ],
      "metadata": {
        "id": "AyM0WwCyFqEF"
      }
    },
    {
      "cell_type": "code",
      "source": [
        "df=df.drop(columns=['PassengerId','Pclass','Name','Sex','Age','SibSp','Parch','Fare','Embarked'],axis=1)"
      ],
      "metadata": {
        "id": "Uu8iTUcIFk8V"
      },
      "execution_count": null,
      "outputs": []
    },
    {
      "cell_type": "code",
      "source": [
        "df.head()"
      ],
      "metadata": {
        "id": "tzESBAzbFwpb"
      },
      "execution_count": null,
      "outputs": []
    },
    {
      "cell_type": "markdown",
      "source": [
        "##if you observe df then we have both situation in which mixed value can be present in the columns."
      ],
      "metadata": {
        "id": "KaHf4p3AF6eH"
      }
    },
    {
      "cell_type": "code",
      "source": [
        "df['number'].unique()"
      ],
      "metadata": {
        "id": "20px9pLJFyMk"
      },
      "execution_count": null,
      "outputs": []
    },
    {
      "cell_type": "markdown",
      "source": [
        "##firstly we are working on number column and split it into 2 columns number_umerical and number_categorical.as shown below."
      ],
      "metadata": {
        "id": "9cK_1OJBGCkt"
      }
    },
    {
      "cell_type": "code",
      "source": [
        "# extract numerical part\n",
        "df['number_numerical'] = pd.to_numeric(df[\"number\"],errors='coerce',downcast='integer')"
      ],
      "metadata": {
        "id": "-asNRQmQF317"
      },
      "execution_count": null,
      "outputs": []
    },
    {
      "cell_type": "code",
      "source": [
        "# extract categorical part\n",
        "df['number_categorical'] = np.where(df['number_numerical'].isnull(),df['number'],np.nan)\n",
        "\n",
        "df.head()"
      ],
      "metadata": {
        "id": "XMyGz9goGGQ4"
      },
      "execution_count": null,
      "outputs": []
    },
    {
      "cell_type": "markdown",
      "source": [
        "##Now work on cabin and ticket column in these column values are mixed, so let's split it\n"
      ],
      "metadata": {
        "id": "YR7GIof3Hr2w"
      }
    },
    {
      "cell_type": "code",
      "source": [
        "df['Cabin'].unique()"
      ],
      "metadata": {
        "id": "CnvRRe1LGJUr"
      },
      "execution_count": null,
      "outputs": []
    },
    {
      "cell_type": "code",
      "source": [
        "df['Ticket'].unique()"
      ],
      "metadata": {
        "id": "jeDbxdpiHvw2"
      },
      "execution_count": null,
      "outputs": []
    },
    {
      "cell_type": "code",
      "source": [
        "df['cabin_num'] = df['Cabin'].str.extract('(\\d+)') # captures numerical part\n",
        "df['cabin_cat'] = df['Cabin'].str[0] # captures the first letter"
      ],
      "metadata": {
        "id": "q995ZoKjHx7a"
      },
      "execution_count": null,
      "outputs": []
    },
    {
      "cell_type": "code",
      "source": [
        "df['cabin_cat'].value_counts().plot(kind='bar')"
      ],
      "metadata": {
        "id": "F0ZWYEjJH0yt"
      },
      "execution_count": null,
      "outputs": []
    },
    {
      "cell_type": "code",
      "source": [
        "df.head()"
      ],
      "metadata": {
        "id": "7yINaP6KH6Oo"
      },
      "execution_count": null,
      "outputs": []
    },
    {
      "cell_type": "code",
      "source": [
        "# extract the last bit of ticket as number\n",
        "df['ticket_num'] = df['Ticket'].apply(lambda s: s.split()[-1])\n",
        "df['ticket_num'] = pd.to_numeric(df['ticket_num'],\n",
        "                                   errors='coerce',\n",
        "                                   downcast='integer')\n",
        "\n",
        "# extract the first part of ticket as category\n",
        "df['ticket_cat'] = df['Ticket'].apply(lambda s: s.split()[0])\n",
        "df['ticket_cat'] = np.where(df['ticket_cat'].str.isdigit(), np.nan,\n",
        "                              df['ticket_cat'])"
      ],
      "metadata": {
        "id": "Dl84IfnnH9tg"
      },
      "execution_count": null,
      "outputs": []
    },
    {
      "cell_type": "code",
      "source": [
        "df.head()"
      ],
      "metadata": {
        "id": "9OjRqvn1IFFK"
      },
      "execution_count": null,
      "outputs": []
    },
    {
      "cell_type": "code",
      "source": [],
      "metadata": {
        "id": "9uHSiZOCIQ_d"
      },
      "execution_count": null,
      "outputs": []
    },
    {
      "cell_type": "markdown",
      "source": [
        "# Working with date and Time\n",
        "## if your dataset have a column which have date and time value then you sholud know how this values have information with in.\n",
        "## if you have date data like 22-oct-2022 then what is the--\n",
        "##day\n",
        "## month\n",
        "## year\n",
        "## day of week\n",
        "## quater\n",
        "## semester\n",
        "## weekend ....\n",
        "##if your data have time then what is hour,minute,second etc information reside in and how can we extraxt it.\n",
        "## So now we will discuss it . for this we will take 2 dataset order.csv for date and messages.csv for time"
      ],
      "metadata": {
        "id": "x6SbR3tEIRuy"
      }
    },
    {
      "cell_type": "code",
      "source": [
        "import pandas as pd\n",
        "import numpy as np"
      ],
      "metadata": {
        "id": "xenCUOSUIKBf"
      },
      "execution_count": null,
      "outputs": []
    },
    {
      "cell_type": "code",
      "source": [
        "date=pd.read_csv('/content/drive/MyDrive/Colab Notebooks/0machine learning/csv data/order.csv')"
      ],
      "metadata": {
        "id": "wnfOOHhRIZoH"
      },
      "execution_count": null,
      "outputs": []
    },
    {
      "cell_type": "code",
      "source": [
        "date.head()"
      ],
      "metadata": {
        "id": "1BeB6-u_Ich1"
      },
      "execution_count": null,
      "outputs": []
    },
    {
      "cell_type": "code",
      "source": [
        "date.info()"
      ],
      "metadata": {
        "id": "csbZLTPsIvs5"
      },
      "execution_count": null,
      "outputs": []
    },
    {
      "cell_type": "markdown",
      "source": [
        "#Working with Dates"
      ],
      "metadata": {
        "id": "muTLCue4I7QH"
      }
    },
    {
      "cell_type": "code",
      "source": [
        "# Converting to datetime datatype\n",
        "date['date'] = pd.to_datetime(date['date'])"
      ],
      "metadata": {
        "id": "NxXvnwkOI0so"
      },
      "execution_count": null,
      "outputs": []
    },
    {
      "cell_type": "code",
      "source": [
        "date.info()"
      ],
      "metadata": {
        "id": "UJ6WCHN6I-pw"
      },
      "execution_count": null,
      "outputs": []
    },
    {
      "cell_type": "markdown",
      "source": [
        "#1. Extract year"
      ],
      "metadata": {
        "id": "RHcNmrC-JFh-"
      }
    },
    {
      "cell_type": "code",
      "source": [
        "date['date_year'] = date['date'].dt.year\n",
        "\n",
        "date.sample(5)"
      ],
      "metadata": {
        "id": "t9wOpaXJJBHN"
      },
      "execution_count": null,
      "outputs": []
    },
    {
      "cell_type": "markdown",
      "source": [
        "#2. Extract Month"
      ],
      "metadata": {
        "id": "L_-Qw3_ZJNO8"
      }
    },
    {
      "cell_type": "code",
      "source": [
        "date['date_month_no'] = date['date'].dt.month\n",
        "\n",
        "date.head()"
      ],
      "metadata": {
        "id": "maxXcwVAJJN2"
      },
      "execution_count": null,
      "outputs": []
    },
    {
      "cell_type": "markdown",
      "source": [
        "#3 Extract Month name"
      ],
      "metadata": {
        "id": "Vk-u_Gh4Jap9"
      }
    },
    {
      "cell_type": "code",
      "source": [
        "date['date_month_name'] = date['date'].dt.month_name()\n",
        "\n",
        "date.head()"
      ],
      "metadata": {
        "id": "GaD4UMRAJQRQ"
      },
      "execution_count": null,
      "outputs": []
    },
    {
      "cell_type": "markdown",
      "source": [
        "#4.Extract Days"
      ],
      "metadata": {
        "id": "dPN_arjZJh3R"
      }
    },
    {
      "cell_type": "code",
      "source": [
        "date['date_day'] = date['date'].dt.day\n",
        "\n",
        "date.head()"
      ],
      "metadata": {
        "id": "xcChz_ifJd9T"
      },
      "execution_count": null,
      "outputs": []
    },
    {
      "cell_type": "markdown",
      "source": [
        "#5.day of week"
      ],
      "metadata": {
        "id": "p5hBf4dPJq8c"
      }
    },
    {
      "cell_type": "code",
      "source": [
        "date['date_dow'] = date['date'].dt.dayofweek\n",
        "\n",
        "date.head()"
      ],
      "metadata": {
        "id": "vbHt3QboJl6J"
      },
      "execution_count": null,
      "outputs": []
    },
    {
      "cell_type": "markdown",
      "source": [
        "#6.day of week - name"
      ],
      "metadata": {
        "id": "tCqyg8QoJ2zY"
      }
    },
    {
      "cell_type": "code",
      "source": [
        "date['date_dow_name'] = date['date'].dt.day_name()\n",
        "\n",
        "date.drop(columns=['product_id','city_id','orders']).head()"
      ],
      "metadata": {
        "id": "QJxe1ZOaJzof"
      },
      "execution_count": null,
      "outputs": []
    },
    {
      "cell_type": "markdown",
      "source": [
        "#7.is weekend?"
      ],
      "metadata": {
        "id": "GR_e2V0XKFJc"
      }
    },
    {
      "cell_type": "code",
      "source": [
        "date['date_is_weekend'] = np.where(date['date_dow_name'].isin(['Sunday', 'Saturday']), 1,0)\n",
        "\n",
        "date.drop(columns=['product_id','city_id','orders']).head()"
      ],
      "metadata": {
        "id": "-TW26_0sJ-Il"
      },
      "execution_count": null,
      "outputs": []
    },
    {
      "cell_type": "markdown",
      "source": [
        "#8.Extract week of the year"
      ],
      "metadata": {
        "id": "ZccVV697KObr"
      }
    },
    {
      "cell_type": "code",
      "source": [
        "date['date_week'] = date['date'].dt.week\n",
        "\n",
        "date.drop(columns=['product_id','city_id','orders']).head()"
      ],
      "metadata": {
        "id": "NPuzSs94KIv-"
      },
      "execution_count": null,
      "outputs": []
    },
    {
      "cell_type": "markdown",
      "source": [
        "#9.Extract Quarter"
      ],
      "metadata": {
        "id": "rYBZlB_bKdBF"
      }
    },
    {
      "cell_type": "code",
      "source": [
        "date['quarter'] = date['date'].dt.quarter\n",
        "\n",
        "date.drop(columns=['product_id','city_id','orders']).head()"
      ],
      "metadata": {
        "id": "hQNSiU-6KTAn"
      },
      "execution_count": null,
      "outputs": []
    },
    {
      "cell_type": "markdown",
      "source": [
        "#10.Extract Semester"
      ],
      "metadata": {
        "id": "mWi1wEaVKpx8"
      }
    },
    {
      "cell_type": "code",
      "source": [
        "date['semester'] = np.where(date['quarter'].isin([1,2]), 1, 2)\n",
        "\n",
        "date.drop(columns=['product_id','city_id','orders']).head()"
      ],
      "metadata": {
        "id": "AG1asdLuKlIX"
      },
      "execution_count": null,
      "outputs": []
    },
    {
      "cell_type": "markdown",
      "source": [
        "#11.Extract Time elapsed between dates"
      ],
      "metadata": {
        "id": "LVj_6ACxK8Am"
      }
    },
    {
      "cell_type": "code",
      "source": [
        "import datetime\n",
        "\n",
        "today = datetime.datetime.today()\n",
        "\n",
        "today"
      ],
      "metadata": {
        "id": "vS18bHxnKt8j"
      },
      "execution_count": null,
      "outputs": []
    },
    {
      "cell_type": "code",
      "source": [
        "today - date['date']"
      ],
      "metadata": {
        "id": "n_qqwBPdK_wv"
      },
      "execution_count": null,
      "outputs": []
    },
    {
      "cell_type": "code",
      "source": [
        "(today - date['date']).dt.days"
      ],
      "metadata": {
        "id": "QhR2NSFQLCu6"
      },
      "execution_count": null,
      "outputs": []
    },
    {
      "cell_type": "code",
      "source": [
        "# Months passed\n",
        "\n",
        "np.round((today -date['date']) / np.timedelta64(1, 'M'),0)"
      ],
      "metadata": {
        "id": "mzvLYVOyLF0I"
      },
      "execution_count": null,
      "outputs": []
    },
    {
      "cell_type": "markdown",
      "source": [
        "# Now work on time"
      ],
      "metadata": {
        "id": "iL2HoKUmLO4e"
      }
    },
    {
      "cell_type": "code",
      "source": [
        "time_df=pd.read_csv('/content/drive/MyDrive/Colab Notebooks/0machine learning/csv data/messages.csv')"
      ],
      "metadata": {
        "id": "56Eak4aaLKM_"
      },
      "execution_count": null,
      "outputs": []
    },
    {
      "cell_type": "code",
      "source": [
        "time_df.head()"
      ],
      "metadata": {
        "id": "QLO6q9ajLcNG"
      },
      "execution_count": null,
      "outputs": []
    },
    {
      "cell_type": "code",
      "source": [
        "time_df.info()"
      ],
      "metadata": {
        "id": "He_82a6CL7pr"
      },
      "execution_count": null,
      "outputs": []
    },
    {
      "cell_type": "code",
      "source": [
        "# Converting to datetime datatype\n",
        "time_df['date'] = pd.to_datetime(time_df['date'])"
      ],
      "metadata": {
        "id": "IHiep6vQL_eu"
      },
      "execution_count": null,
      "outputs": []
    },
    {
      "cell_type": "code",
      "source": [
        "time_df.info()"
      ],
      "metadata": {
        "id": "WQ3ZFtpAMJvG"
      },
      "execution_count": null,
      "outputs": []
    },
    {
      "cell_type": "code",
      "source": [
        "time_df['hour'] = time_df['date'].dt.hour\n",
        "time_df['min'] = time_df['date'].dt.minute\n",
        "time_df['sec'] = time_df['date'].dt.second\n",
        "\n",
        "time_df.head()"
      ],
      "metadata": {
        "id": "5kcmhnbzMMty"
      },
      "execution_count": null,
      "outputs": []
    },
    {
      "cell_type": "markdown",
      "source": [
        "#Extract Time part"
      ],
      "metadata": {
        "id": "7TOvB3_TMUwV"
      }
    },
    {
      "cell_type": "code",
      "source": [
        "time_df['time'] = time_df['date'].dt.time\n",
        "\n",
        "time_df.head()"
      ],
      "metadata": {
        "id": "RmobUfbaMPUp"
      },
      "execution_count": null,
      "outputs": []
    },
    {
      "cell_type": "markdown",
      "source": [
        "#Time difference"
      ],
      "metadata": {
        "id": "ggKUaYqeMcdQ"
      }
    },
    {
      "cell_type": "code",
      "source": [
        "today - time_df['date']"
      ],
      "metadata": {
        "id": "wTMkNud0MYS4"
      },
      "execution_count": null,
      "outputs": []
    },
    {
      "cell_type": "code",
      "source": [
        "# in seconds\n",
        "\n",
        "(today - time_df['date'])/np.timedelta64(1,'s')"
      ],
      "metadata": {
        "id": "W3SaGwP1MgBb"
      },
      "execution_count": null,
      "outputs": []
    },
    {
      "cell_type": "code",
      "source": [
        "# in minutes\n",
        "\n",
        "(today - time_df['date'])/np.timedelta64(1,'m')"
      ],
      "metadata": {
        "id": "7-jVHc9dMkmI"
      },
      "execution_count": null,
      "outputs": []
    },
    {
      "cell_type": "code",
      "source": [
        "# in hours\n",
        "\n",
        "(today - time_df['date'])/np.timedelta64(1,'h')"
      ],
      "metadata": {
        "id": "FQAaFtI3MnaT"
      },
      "execution_count": null,
      "outputs": []
    },
    {
      "cell_type": "code",
      "source": [],
      "metadata": {
        "id": "cliNsY04MriV"
      },
      "execution_count": null,
      "outputs": []
    }
  ]
}