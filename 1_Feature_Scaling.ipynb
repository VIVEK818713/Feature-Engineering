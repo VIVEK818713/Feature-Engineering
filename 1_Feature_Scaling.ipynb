{
  "nbformat": 4,
  "nbformat_minor": 0,
  "metadata": {
    "colab": {
      "provenance": [],
      "mount_file_id": "1AoztJjyB2l7zdhpExwZbeplmfuA5x3Yu",
      "authorship_tag": "ABX9TyPAiv/DEhTRYsw+9DJ9VWi5",
      "include_colab_link": true
    },
    "kernelspec": {
      "name": "python3",
      "display_name": "Python 3"
    },
    "language_info": {
      "name": "python"
    }
  },
  "cells": [
    {
      "cell_type": "markdown",
      "metadata": {
        "id": "view-in-github",
        "colab_type": "text"
      },
      "source": [
        "<a href=\"https://colab.research.google.com/github/VIVEK818713/Feature-Engineering/blob/main/1_Feature_Scaling.ipynb\" target=\"_parent\"><img src=\"https://colab.research.google.com/assets/colab-badge.svg\" alt=\"Open In Colab\"/></a>"
      ]
    },
    {
      "cell_type": "markdown",
      "source": [
        "# Feature Engineering\n",
        "##Feature engineering is the process of using domain knowledge to extract features  from raw data.\n",
        "## we can divide feature engineering into 4 parts\n",
        "##1. Feature Transformation\n",
        "###--------- Missing Value imputation\n",
        "###--------- Handling Categorical feature\n",
        "###--------- Outlier detection\n",
        "###--------- Feature Scaling\n",
        "##2.Feature construction\n",
        "##3.feature selection\n",
        "##4.feature extraction"
      ],
      "metadata": {
        "id": "W8i6r9YJ9qBC"
      }
    },
    {
      "cell_type": "markdown",
      "source": [
        "## Feature scaling\n",
        "## basically it is last thing in the pipeline of feature engineering means after removing missing values,handling categorical feature , handling outlier and before giving the data to the machine learning algorithm you do feature scaling.\n",
        "## Feature Scaling is a technique to standardize the independent features present in the data in a fixed range.it is very needed for certain machine learning algorithm like KNN.\n",
        "## first we discuss standardization.\n",
        "# type of feature scaling\n",
        "## 1. Standradization\n",
        "## 2. Normalization"
      ],
      "metadata": {
        "id": "-2BEbA_09uTa"
      }
    },
    {
      "cell_type": "markdown",
      "source": [
        "#Zscore Normalization/Standardization\n",
        "##Z-score normalization is a process that normalizes every value in a dataset such that the mean of all of the values is 0 and the standard deviation is 1.\n",
        "\n",
        "![image.png](data:image/png;base64,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)\n"
      ],
      "metadata": {
        "id": "idUgA-Vk9zC8"
      }
    },
    {
      "cell_type": "markdown",
      "source": [
        "## go to kaggle and type social network ads or\n",
        "## click on this link \n",
        "##https://www.kaggle.com/datasets/d4rklucif3r/social-network-ads\n"
      ],
      "metadata": {
        "id": "Wl6mj0wR99mx"
      }
    },
    {
      "cell_type": "code",
      "execution_count": null,
      "metadata": {
        "id": "0ITi-SLL9gAy"
      },
      "outputs": [],
      "source": [
        "import os\n",
        "import pandas as pd\n",
        "import numpy as np\n",
        "import matplotlib.pyplot as plt"
      ]
    },
    {
      "cell_type": "code",
      "source": [
        "os.environ['KAGGLE_CONFIG_DIR']='/content/drive/MyDrive/Colab Notebooks/Kaggle json'"
      ],
      "metadata": {
        "id": "5GC--9-S-F0b"
      },
      "execution_count": null,
      "outputs": []
    },
    {
      "cell_type": "code",
      "source": [
        "!kaggle datasets download -d d4rklucif3r/social-network-ads"
      ],
      "metadata": {
        "id": "hzWUmpO7-INL"
      },
      "execution_count": null,
      "outputs": []
    },
    {
      "cell_type": "code",
      "source": [
        "!unzip /content/social-network-ads.zip"
      ],
      "metadata": {
        "id": "CJoEN7dw-IJ_",
        "colab": {
          "base_uri": "https://localhost:8080/"
        },
        "outputId": "690c7dd6-81f0-4ecf-b2d5-a5f4ce9a638d"
      },
      "execution_count": null,
      "outputs": [
        {
          "output_type": "stream",
          "name": "stdout",
          "text": [
            "Archive:  /content/social-network-ads.zip\n",
            "  inflating: Social_Network_Ads.csv  \n"
          ]
        }
      ]
    },
    {
      "cell_type": "code",
      "source": [
        "df=pd.read_csv('/content/Social_Network_Ads.csv')\n",
        "df.head()"
      ],
      "metadata": {
        "id": "3n4a2XOE-IHw",
        "colab": {
          "base_uri": "https://localhost:8080/",
          "height": 206
        },
        "outputId": "f5e31c57-79ec-49f2-b1d3-2b74c1609993"
      },
      "execution_count": null,
      "outputs": [
        {
          "output_type": "execute_result",
          "data": {
            "text/plain": [
              "   Age  EstimatedSalary  Purchased\n",
              "0   19            19000          0\n",
              "1   35            20000          0\n",
              "2   26            43000          0\n",
              "3   27            57000          0\n",
              "4   19            76000          0"
            ],
            "text/html": [
              "\n",
              "  <div id=\"df-0c033ccf-e900-4e1c-acf1-30668e67211c\">\n",
              "    <div class=\"colab-df-container\">\n",
              "      <div>\n",
              "<style scoped>\n",
              "    .dataframe tbody tr th:only-of-type {\n",
              "        vertical-align: middle;\n",
              "    }\n",
              "\n",
              "    .dataframe tbody tr th {\n",
              "        vertical-align: top;\n",
              "    }\n",
              "\n",
              "    .dataframe thead th {\n",
              "        text-align: right;\n",
              "    }\n",
              "</style>\n",
              "<table border=\"1\" class=\"dataframe\">\n",
              "  <thead>\n",
              "    <tr style=\"text-align: right;\">\n",
              "      <th></th>\n",
              "      <th>Age</th>\n",
              "      <th>EstimatedSalary</th>\n",
              "      <th>Purchased</th>\n",
              "    </tr>\n",
              "  </thead>\n",
              "  <tbody>\n",
              "    <tr>\n",
              "      <th>0</th>\n",
              "      <td>19</td>\n",
              "      <td>19000</td>\n",
              "      <td>0</td>\n",
              "    </tr>\n",
              "    <tr>\n",
              "      <th>1</th>\n",
              "      <td>35</td>\n",
              "      <td>20000</td>\n",
              "      <td>0</td>\n",
              "    </tr>\n",
              "    <tr>\n",
              "      <th>2</th>\n",
              "      <td>26</td>\n",
              "      <td>43000</td>\n",
              "      <td>0</td>\n",
              "    </tr>\n",
              "    <tr>\n",
              "      <th>3</th>\n",
              "      <td>27</td>\n",
              "      <td>57000</td>\n",
              "      <td>0</td>\n",
              "    </tr>\n",
              "    <tr>\n",
              "      <th>4</th>\n",
              "      <td>19</td>\n",
              "      <td>76000</td>\n",
              "      <td>0</td>\n",
              "    </tr>\n",
              "  </tbody>\n",
              "</table>\n",
              "</div>\n",
              "      <button class=\"colab-df-convert\" onclick=\"convertToInteractive('df-0c033ccf-e900-4e1c-acf1-30668e67211c')\"\n",
              "              title=\"Convert this dataframe to an interactive table.\"\n",
              "              style=\"display:none;\">\n",
              "        \n",
              "  <svg xmlns=\"http://www.w3.org/2000/svg\" height=\"24px\"viewBox=\"0 0 24 24\"\n",
              "       width=\"24px\">\n",
              "    <path d=\"M0 0h24v24H0V0z\" fill=\"none\"/>\n",
              "    <path d=\"M18.56 5.44l.94 2.06.94-2.06 2.06-.94-2.06-.94-.94-2.06-.94 2.06-2.06.94zm-11 1L8.5 8.5l.94-2.06 2.06-.94-2.06-.94L8.5 2.5l-.94 2.06-2.06.94zm10 10l.94 2.06.94-2.06 2.06-.94-2.06-.94-.94-2.06-.94 2.06-2.06.94z\"/><path d=\"M17.41 7.96l-1.37-1.37c-.4-.4-.92-.59-1.43-.59-.52 0-1.04.2-1.43.59L10.3 9.45l-7.72 7.72c-.78.78-.78 2.05 0 2.83L4 21.41c.39.39.9.59 1.41.59.51 0 1.02-.2 1.41-.59l7.78-7.78 2.81-2.81c.8-.78.8-2.07 0-2.86zM5.41 20L4 18.59l7.72-7.72 1.47 1.35L5.41 20z\"/>\n",
              "  </svg>\n",
              "      </button>\n",
              "      \n",
              "  <style>\n",
              "    .colab-df-container {\n",
              "      display:flex;\n",
              "      flex-wrap:wrap;\n",
              "      gap: 12px;\n",
              "    }\n",
              "\n",
              "    .colab-df-convert {\n",
              "      background-color: #E8F0FE;\n",
              "      border: none;\n",
              "      border-radius: 50%;\n",
              "      cursor: pointer;\n",
              "      display: none;\n",
              "      fill: #1967D2;\n",
              "      height: 32px;\n",
              "      padding: 0 0 0 0;\n",
              "      width: 32px;\n",
              "    }\n",
              "\n",
              "    .colab-df-convert:hover {\n",
              "      background-color: #E2EBFA;\n",
              "      box-shadow: 0px 1px 2px rgba(60, 64, 67, 0.3), 0px 1px 3px 1px rgba(60, 64, 67, 0.15);\n",
              "      fill: #174EA6;\n",
              "    }\n",
              "\n",
              "    [theme=dark] .colab-df-convert {\n",
              "      background-color: #3B4455;\n",
              "      fill: #D2E3FC;\n",
              "    }\n",
              "\n",
              "    [theme=dark] .colab-df-convert:hover {\n",
              "      background-color: #434B5C;\n",
              "      box-shadow: 0px 1px 3px 1px rgba(0, 0, 0, 0.15);\n",
              "      filter: drop-shadow(0px 1px 2px rgba(0, 0, 0, 0.3));\n",
              "      fill: #FFFFFF;\n",
              "    }\n",
              "  </style>\n",
              "\n",
              "      <script>\n",
              "        const buttonEl =\n",
              "          document.querySelector('#df-0c033ccf-e900-4e1c-acf1-30668e67211c button.colab-df-convert');\n",
              "        buttonEl.style.display =\n",
              "          google.colab.kernel.accessAllowed ? 'block' : 'none';\n",
              "\n",
              "        async function convertToInteractive(key) {\n",
              "          const element = document.querySelector('#df-0c033ccf-e900-4e1c-acf1-30668e67211c');\n",
              "          const dataTable =\n",
              "            await google.colab.kernel.invokeFunction('convertToInteractive',\n",
              "                                                     [key], {});\n",
              "          if (!dataTable) return;\n",
              "\n",
              "          const docLinkHtml = 'Like what you see? Visit the ' +\n",
              "            '<a target=\"_blank\" href=https://colab.research.google.com/notebooks/data_table.ipynb>data table notebook</a>'\n",
              "            + ' to learn more about interactive tables.';\n",
              "          element.innerHTML = '';\n",
              "          dataTable['output_type'] = 'display_data';\n",
              "          await google.colab.output.renderOutput(dataTable, element);\n",
              "          const docLink = document.createElement('div');\n",
              "          docLink.innerHTML = docLinkHtml;\n",
              "          element.appendChild(docLink);\n",
              "        }\n",
              "      </script>\n",
              "    </div>\n",
              "  </div>\n",
              "  "
            ]
          },
          "metadata": {},
          "execution_count": 5
        }
      ]
    },
    {
      "cell_type": "markdown",
      "source": [
        "##Train test split"
      ],
      "metadata": {
        "id": "RKLPKV0v-XhC"
      }
    },
    {
      "cell_type": "code",
      "source": [
        "X=df.drop('Purchased',1)\n",
        "y=df['Purchased']  "
      ],
      "metadata": {
        "id": "nfI7hyhg-IEz",
        "colab": {
          "base_uri": "https://localhost:8080/"
        },
        "outputId": "f9050ab8-6105-4c3b-ed5a-9f3f2f7f3854"
      },
      "execution_count": null,
      "outputs": [
        {
          "output_type": "stream",
          "name": "stderr",
          "text": [
            "/usr/local/lib/python3.7/dist-packages/ipykernel_launcher.py:1: FutureWarning: In a future version of pandas all arguments of DataFrame.drop except for the argument 'labels' will be keyword-only\n",
            "  \"\"\"Entry point for launching an IPython kernel.\n"
          ]
        }
      ]
    },
    {
      "cell_type": "code",
      "source": [
        "from sklearn.model_selection import train_test_split\n",
        "X_train, X_test, y_train, y_test = train_test_split(X,y,\n",
        "                                                    test_size=0.3,\n",
        "                                                    random_state=0)\n",
        "\n",
        "X_train.shape, X_test.shape"
      ],
      "metadata": {
        "id": "y3KeIjX2-IBp",
        "colab": {
          "base_uri": "https://localhost:8080/"
        },
        "outputId": "e452f9c9-580c-423c-e644-91c43b82f7ba"
      },
      "execution_count": null,
      "outputs": [
        {
          "output_type": "execute_result",
          "data": {
            "text/plain": [
              "((280, 2), (120, 2))"
            ]
          },
          "metadata": {},
          "execution_count": 7
        }
      ]
    },
    {
      "cell_type": "markdown",
      "source": [
        "##StandardScaler"
      ],
      "metadata": {
        "id": "wSJVSGZF-g4Y"
      }
    },
    {
      "cell_type": "code",
      "source": [
        "from sklearn.preprocessing import StandardScaler\n",
        "\n",
        "scaler = StandardScaler()\n",
        "\n",
        "# fit the scaler to the train set, \n",
        "#it will learn the parameters(like mean and std dev etc...)\n",
        "scaler.fit(X_train)\n",
        "\n",
        "# transform train and test sets\n",
        "X_train_scaled = scaler.transform(X_train)\n",
        "X_test_scaled = scaler.transform(X_test)"
      ],
      "metadata": {
        "id": "a1Wj9Mo6-H7t"
      },
      "execution_count": null,
      "outputs": []
    },
    {
      "cell_type": "code",
      "source": [
        "scaler.mean_"
      ],
      "metadata": {
        "id": "6vGW7_pV-H02",
        "colab": {
          "base_uri": "https://localhost:8080/"
        },
        "outputId": "9ce82b82-8652-4769-efe9-106b7a3524be"
      },
      "execution_count": null,
      "outputs": [
        {
          "output_type": "execute_result",
          "data": {
            "text/plain": [
              "array([3.78642857e+01, 6.98071429e+04])"
            ]
          },
          "metadata": {},
          "execution_count": 9
        }
      ]
    },
    {
      "cell_type": "code",
      "source": [
        "X_train"
      ],
      "metadata": {
        "id": "3nwVmdRj-prK",
        "colab": {
          "base_uri": "https://localhost:8080/",
          "height": 424
        },
        "outputId": "f7ce5524-f621-4cfe-a643-c9b985736004"
      },
      "execution_count": null,
      "outputs": [
        {
          "output_type": "execute_result",
          "data": {
            "text/plain": [
              "     Age  EstimatedSalary\n",
              "92    26            15000\n",
              "223   60           102000\n",
              "234   38           112000\n",
              "232   40           107000\n",
              "377   42            53000\n",
              "..   ...              ...\n",
              "323   48            30000\n",
              "192   29            43000\n",
              "117   36            52000\n",
              "47    27            54000\n",
              "172   26           118000\n",
              "\n",
              "[280 rows x 2 columns]"
            ],
            "text/html": [
              "\n",
              "  <div id=\"df-f23ece11-22bc-4eb6-85f1-1b2ca6a3f4f0\">\n",
              "    <div class=\"colab-df-container\">\n",
              "      <div>\n",
              "<style scoped>\n",
              "    .dataframe tbody tr th:only-of-type {\n",
              "        vertical-align: middle;\n",
              "    }\n",
              "\n",
              "    .dataframe tbody tr th {\n",
              "        vertical-align: top;\n",
              "    }\n",
              "\n",
              "    .dataframe thead th {\n",
              "        text-align: right;\n",
              "    }\n",
              "</style>\n",
              "<table border=\"1\" class=\"dataframe\">\n",
              "  <thead>\n",
              "    <tr style=\"text-align: right;\">\n",
              "      <th></th>\n",
              "      <th>Age</th>\n",
              "      <th>EstimatedSalary</th>\n",
              "    </tr>\n",
              "  </thead>\n",
              "  <tbody>\n",
              "    <tr>\n",
              "      <th>92</th>\n",
              "      <td>26</td>\n",
              "      <td>15000</td>\n",
              "    </tr>\n",
              "    <tr>\n",
              "      <th>223</th>\n",
              "      <td>60</td>\n",
              "      <td>102000</td>\n",
              "    </tr>\n",
              "    <tr>\n",
              "      <th>234</th>\n",
              "      <td>38</td>\n",
              "      <td>112000</td>\n",
              "    </tr>\n",
              "    <tr>\n",
              "      <th>232</th>\n",
              "      <td>40</td>\n",
              "      <td>107000</td>\n",
              "    </tr>\n",
              "    <tr>\n",
              "      <th>377</th>\n",
              "      <td>42</td>\n",
              "      <td>53000</td>\n",
              "    </tr>\n",
              "    <tr>\n",
              "      <th>...</th>\n",
              "      <td>...</td>\n",
              "      <td>...</td>\n",
              "    </tr>\n",
              "    <tr>\n",
              "      <th>323</th>\n",
              "      <td>48</td>\n",
              "      <td>30000</td>\n",
              "    </tr>\n",
              "    <tr>\n",
              "      <th>192</th>\n",
              "      <td>29</td>\n",
              "      <td>43000</td>\n",
              "    </tr>\n",
              "    <tr>\n",
              "      <th>117</th>\n",
              "      <td>36</td>\n",
              "      <td>52000</td>\n",
              "    </tr>\n",
              "    <tr>\n",
              "      <th>47</th>\n",
              "      <td>27</td>\n",
              "      <td>54000</td>\n",
              "    </tr>\n",
              "    <tr>\n",
              "      <th>172</th>\n",
              "      <td>26</td>\n",
              "      <td>118000</td>\n",
              "    </tr>\n",
              "  </tbody>\n",
              "</table>\n",
              "<p>280 rows × 2 columns</p>\n",
              "</div>\n",
              "      <button class=\"colab-df-convert\" onclick=\"convertToInteractive('df-f23ece11-22bc-4eb6-85f1-1b2ca6a3f4f0')\"\n",
              "              title=\"Convert this dataframe to an interactive table.\"\n",
              "              style=\"display:none;\">\n",
              "        \n",
              "  <svg xmlns=\"http://www.w3.org/2000/svg\" height=\"24px\"viewBox=\"0 0 24 24\"\n",
              "       width=\"24px\">\n",
              "    <path d=\"M0 0h24v24H0V0z\" fill=\"none\"/>\n",
              "    <path d=\"M18.56 5.44l.94 2.06.94-2.06 2.06-.94-2.06-.94-.94-2.06-.94 2.06-2.06.94zm-11 1L8.5 8.5l.94-2.06 2.06-.94-2.06-.94L8.5 2.5l-.94 2.06-2.06.94zm10 10l.94 2.06.94-2.06 2.06-.94-2.06-.94-.94-2.06-.94 2.06-2.06.94z\"/><path d=\"M17.41 7.96l-1.37-1.37c-.4-.4-.92-.59-1.43-.59-.52 0-1.04.2-1.43.59L10.3 9.45l-7.72 7.72c-.78.78-.78 2.05 0 2.83L4 21.41c.39.39.9.59 1.41.59.51 0 1.02-.2 1.41-.59l7.78-7.78 2.81-2.81c.8-.78.8-2.07 0-2.86zM5.41 20L4 18.59l7.72-7.72 1.47 1.35L5.41 20z\"/>\n",
              "  </svg>\n",
              "      </button>\n",
              "      \n",
              "  <style>\n",
              "    .colab-df-container {\n",
              "      display:flex;\n",
              "      flex-wrap:wrap;\n",
              "      gap: 12px;\n",
              "    }\n",
              "\n",
              "    .colab-df-convert {\n",
              "      background-color: #E8F0FE;\n",
              "      border: none;\n",
              "      border-radius: 50%;\n",
              "      cursor: pointer;\n",
              "      display: none;\n",
              "      fill: #1967D2;\n",
              "      height: 32px;\n",
              "      padding: 0 0 0 0;\n",
              "      width: 32px;\n",
              "    }\n",
              "\n",
              "    .colab-df-convert:hover {\n",
              "      background-color: #E2EBFA;\n",
              "      box-shadow: 0px 1px 2px rgba(60, 64, 67, 0.3), 0px 1px 3px 1px rgba(60, 64, 67, 0.15);\n",
              "      fill: #174EA6;\n",
              "    }\n",
              "\n",
              "    [theme=dark] .colab-df-convert {\n",
              "      background-color: #3B4455;\n",
              "      fill: #D2E3FC;\n",
              "    }\n",
              "\n",
              "    [theme=dark] .colab-df-convert:hover {\n",
              "      background-color: #434B5C;\n",
              "      box-shadow: 0px 1px 3px 1px rgba(0, 0, 0, 0.15);\n",
              "      filter: drop-shadow(0px 1px 2px rgba(0, 0, 0, 0.3));\n",
              "      fill: #FFFFFF;\n",
              "    }\n",
              "  </style>\n",
              "\n",
              "      <script>\n",
              "        const buttonEl =\n",
              "          document.querySelector('#df-f23ece11-22bc-4eb6-85f1-1b2ca6a3f4f0 button.colab-df-convert');\n",
              "        buttonEl.style.display =\n",
              "          google.colab.kernel.accessAllowed ? 'block' : 'none';\n",
              "\n",
              "        async function convertToInteractive(key) {\n",
              "          const element = document.querySelector('#df-f23ece11-22bc-4eb6-85f1-1b2ca6a3f4f0');\n",
              "          const dataTable =\n",
              "            await google.colab.kernel.invokeFunction('convertToInteractive',\n",
              "                                                     [key], {});\n",
              "          if (!dataTable) return;\n",
              "\n",
              "          const docLinkHtml = 'Like what you see? Visit the ' +\n",
              "            '<a target=\"_blank\" href=https://colab.research.google.com/notebooks/data_table.ipynb>data table notebook</a>'\n",
              "            + ' to learn more about interactive tables.';\n",
              "          element.innerHTML = '';\n",
              "          dataTable['output_type'] = 'display_data';\n",
              "          await google.colab.output.renderOutput(dataTable, element);\n",
              "          const docLink = document.createElement('div');\n",
              "          docLink.innerHTML = docLinkHtml;\n",
              "          element.appendChild(docLink);\n",
              "        }\n",
              "      </script>\n",
              "    </div>\n",
              "  </div>\n",
              "  "
            ]
          },
          "metadata": {},
          "execution_count": 10
        }
      ]
    },
    {
      "cell_type": "code",
      "source": [
        "X_train_scaled"
      ],
      "metadata": {
        "id": "vPZzbMIo-po-",
        "colab": {
          "base_uri": "https://localhost:8080/"
        },
        "outputId": "447c7318-e0b1-4907-b4f7-4d5240adf962"
      },
      "execution_count": null,
      "outputs": [
        {
          "output_type": "execute_result",
          "data": {
            "text/plain": [
              "array([[-1.1631724 , -1.5849703 ],\n",
              "       [ 2.17018137,  0.93098672],\n",
              "       [ 0.0133054 ,  1.22017719],\n",
              "       [ 0.20938504,  1.07558195],\n",
              "       [ 0.40546467, -0.48604654],\n",
              "       [-0.28081405, -0.31253226],\n",
              "       [ 0.99370357, -0.8330751 ],\n",
              "       [ 0.99370357,  1.8563962 ],\n",
              "       [ 0.0133054 ,  1.24909623],\n",
              "       [-0.86905295,  2.26126285],\n",
              "       [-1.1631724 , -1.5849703 ],\n",
              "       [ 2.17018137, -0.80415605],\n",
              "       [-1.35925203, -1.46929411],\n",
              "       [ 0.40546467,  2.2901819 ],\n",
              "       [ 0.79762394,  0.75747245],\n",
              "       [-0.96709276, -0.31253226],\n",
              "       [ 0.11134522,  0.75747245],\n",
              "       [-0.96709276,  0.55503912],\n",
              "       [ 0.30742485,  0.06341534],\n",
              "       [ 0.69958412, -1.26686079],\n",
              "       [-0.47689368, -0.0233418 ],\n",
              "       [-1.7514113 ,  0.3526058 ],\n",
              "       [-0.67297331,  0.12125343],\n",
              "       [ 0.40546467,  0.29476771],\n",
              "       [-0.28081405,  0.06341534],\n",
              "       [-0.47689368,  2.2901819 ],\n",
              "       [ 0.20938504,  0.03449629],\n",
              "       [ 1.28782302,  2.20342476],\n",
              "       [ 0.79762394,  0.26584866],\n",
              "       [-0.28081405,  0.15017248],\n",
              "       [ 0.0133054 , -0.54388463],\n",
              "       [-0.18277423,  0.15017248],\n",
              "       [-0.08473441,  0.23692961],\n",
              "       [ 0.0133054 , -0.25469417],\n",
              "       [ 2.17018137,  1.104501  ],\n",
              "       [-1.7514113 ,  0.3526058 ],\n",
              "       [ 1.87606192,  0.12125343],\n",
              "       [ 0.40546467, -0.13901799],\n",
              "       [-1.1631724 ,  0.29476771],\n",
              "       [ 0.79762394,  1.36477242],\n",
              "       [-0.28081405, -0.25469417],\n",
              "       [-1.65337148, -0.05226085],\n",
              "       [-0.96709276, -0.74631796],\n",
              "       [ 0.30742485,  0.49720103],\n",
              "       [-0.08473441, -1.06442747],\n",
              "       [-1.06513258,  0.58395817],\n",
              "       [ 0.11134522, -0.80415605],\n",
              "       [-0.96709276,  1.53828669],\n",
              "       [-0.67297331,  1.39369146],\n",
              "       [-1.26121221,  0.49720103],\n",
              "       [-0.28081405,  0.03449629],\n",
              "       [-0.08473441,  0.00557724],\n",
              "       [-0.28081405, -0.89091319],\n",
              "       [ 0.89566375, -1.35361793],\n",
              "       [-0.28081405,  2.2323438 ],\n",
              "       [ 0.99370357,  1.97207239],\n",
              "       [-1.1631724 ,  0.46828198],\n",
              "       [-1.26121221,  0.26584866],\n",
              "       [ 1.38586284,  1.97207239],\n",
              "       [ 1.28782302, -1.35361793],\n",
              "       [-0.28081405, -0.28361322],\n",
              "       [-0.47689368,  1.24909623],\n",
              "       [-0.77101313,  1.07558195],\n",
              "       [ 0.99370357, -1.06442747],\n",
              "       [ 0.30742485,  0.29476771],\n",
              "       [ 0.99370357,  0.75747245],\n",
              "       [-0.67297331, -1.49821316],\n",
              "       [-0.67297331,  0.03449629],\n",
              "       [ 0.50350449,  1.71180097],\n",
              "       [ 2.07214155,  0.17909152],\n",
              "       [-1.94749093, -0.74631796],\n",
              "       [-0.18277423,  1.39369146],\n",
              "       [ 0.40546467,  0.58395817],\n",
              "       [ 0.89566375, -1.1511846 ],\n",
              "       [-1.1631724 , -0.775237  ],\n",
              "       [ 0.20938504,  0.23692961],\n",
              "       [ 0.79762394, -0.31253226],\n",
              "       [ 2.07214155, -0.80415605],\n",
              "       [ 0.79762394,  0.12125343],\n",
              "       [-0.28081405,  0.61287722],\n",
              "       [-0.96709276, -0.31253226],\n",
              "       [ 0.20938504, -0.37037036],\n",
              "       [ 2.07214155,  2.11666762],\n",
              "       [ 1.87606192, -1.26686079],\n",
              "       [ 1.38586284, -0.91983223],\n",
              "       [ 0.89566375,  1.24909623],\n",
              "       [ 1.48390265,  2.11666762],\n",
              "       [-0.28081405, -1.23794174],\n",
              "       [ 1.97410174,  0.90206768],\n",
              "       [ 0.69958412, -0.71739891],\n",
              "       [-1.45729185,  0.3526058 ],\n",
              "       [ 0.79762394, -1.35361793],\n",
              "       [ 0.40546467, -0.13901799],\n",
              "       [-0.96709276,  0.41044389],\n",
              "       [ 0.0133054 , -0.31253226],\n",
              "       [-1.1631724 ,  0.41044389],\n",
              "       [-0.86905295, -1.2090227 ],\n",
              "       [-0.08473441,  0.03449629],\n",
              "       [-1.55533166, -0.42820845],\n",
              "       [ 0.99370357, -1.00658937],\n",
              "       [ 1.09174339, -1.2090227 ],\n",
              "       [ 0.0133054 , -0.13901799],\n",
              "       [-1.06513258, -1.52713221],\n",
              "       [ 0.79762394, -1.2090227 ],\n",
              "       [ 0.99370357,  2.05882953],\n",
              "       [-1.1631724 , -1.52713221],\n",
              "       [-0.28081405,  0.78639149],\n",
              "       [ 0.11134522, -0.31253226],\n",
              "       [-1.35925203, -1.23794174],\n",
              "       [-0.5749335 , -1.49821316],\n",
              "       [ 0.79762394,  0.52612008],\n",
              "       [-0.28081405, -0.34145131],\n",
              "       [ 1.7780221 , -0.28361322],\n",
              "       [ 0.89566375, -1.03550842],\n",
              "       [ 0.20938504,  0.06341534],\n",
              "       [-0.5749335 ,  0.87314863],\n",
              "       [-1.84945111, -1.41145602],\n",
              "       [-1.26121221,  0.58395817],\n",
              "       [-0.28081405,  0.52612008],\n",
              "       [-0.96709276, -1.09334651],\n",
              "       [ 1.1897832 , -1.44037507],\n",
              "       [ 0.20938504, -0.31253226],\n",
              "       [ 1.1897832 , -0.74631796],\n",
              "       [-0.28081405,  0.06341534],\n",
              "       [ 0.20938504,  2.08774857],\n",
              "       [ 0.79762394, -1.09334651],\n",
              "       [ 0.11134522,  0.03449629],\n",
              "       [-1.7514113 ,  0.12125343],\n",
              "       [-0.86905295,  0.15017248],\n",
              "       [-0.67297331,  0.17909152],\n",
              "       [ 0.89566375, -1.29577984],\n",
              "       [ 0.20938504, -0.25469417],\n",
              "       [-0.37885386,  1.22017719],\n",
              "       [ 0.0133054 ,  0.29476771],\n",
              "       [ 0.40546467,  0.15017248],\n",
              "       [ 0.89566375, -0.65956082],\n",
              "       [ 0.11134522,  0.15017248],\n",
              "       [-1.84945111, -1.29577984],\n",
              "       [-0.08473441,  0.29476771],\n",
              "       [-0.18277423, -0.28361322],\n",
              "       [ 0.30742485, -0.51496559],\n",
              "       [-0.18277423,  1.59612479],\n",
              "       [ 0.99370357, -1.18010365],\n",
              "       [-0.18277423,  1.62504383],\n",
              "       [ 1.28782302,  1.8563962 ],\n",
              "       [-1.06513258, -0.37037036],\n",
              "       [ 0.0133054 ,  0.03449629],\n",
              "       [ 0.11134522, -0.25469417],\n",
              "       [-1.55533166, -1.23794174],\n",
              "       [-0.47689368, -0.28361322],\n",
              "       [ 0.99370357,  0.12125343],\n",
              "       [ 1.97410174, -1.35361793],\n",
              "       [ 1.48390265,  0.06341534],\n",
              "       [-0.5749335 ,  1.36477242],\n",
              "       [ 1.58194247,  0.00557724],\n",
              "       [-0.77101313,  0.29476771],\n",
              "       [ 1.97410174,  0.7285534 ],\n",
              "       [-1.1631724 , -0.51496559],\n",
              "       [ 0.69958412,  0.26584866],\n",
              "       [-1.35925203, -0.42820845],\n",
              "       [ 0.20938504,  0.15017248],\n",
              "       [-0.47689368, -1.2090227 ],\n",
              "       [ 0.6015443 ,  2.00099143],\n",
              "       [-1.55533166, -1.49821316],\n",
              "       [-0.47689368, -0.54388463],\n",
              "       [ 0.50350449,  1.82747716],\n",
              "       [-1.35925203, -1.09334651],\n",
              "       [ 0.79762394, -1.38253697],\n",
              "       [-0.28081405, -0.42820845],\n",
              "       [ 1.58194247,  0.98882482],\n",
              "       [ 0.99370357,  1.42261051],\n",
              "       [-0.28081405, -0.48604654],\n",
              "       [-0.08473441,  2.14558666],\n",
              "       [-1.45729185, -0.11009894],\n",
              "       [-0.08473441,  1.94315334],\n",
              "       [-0.67297331, -0.34145131],\n",
              "       [-0.47689368, -0.8330751 ],\n",
              "       [ 0.69958412, -1.38253697],\n",
              "       [-0.77101313, -1.5849703 ],\n",
              "       [-1.84945111, -1.46929411],\n",
              "       [ 1.09174339,  0.12125343],\n",
              "       [ 0.11134522,  1.50936765],\n",
              "       [-0.28081405,  0.09233438],\n",
              "       [ 0.11134522,  0.03449629],\n",
              "       [-1.35925203, -1.35361793],\n",
              "       [ 0.30742485,  0.06341534],\n",
              "       [-0.86905295,  0.38152485],\n",
              "       [ 1.58194247, -1.26686079],\n",
              "       [-0.28081405, -0.74631796],\n",
              "       [-0.08473441,  0.15017248],\n",
              "       [-0.86905295, -0.65956082],\n",
              "       [-0.67297331, -0.05226085],\n",
              "       [ 0.40546467, -0.45712749],\n",
              "       [-0.77101313,  1.88531525],\n",
              "       [ 1.38586284,  1.27801528],\n",
              "       [ 1.1897832 , -0.97767033],\n",
              "       [ 1.7780221 ,  1.82747716],\n",
              "       [-0.86905295, -0.25469417],\n",
              "       [-0.77101313,  0.55503912],\n",
              "       [-1.1631724 , -1.55605125],\n",
              "       [-0.47689368, -1.12226556],\n",
              "       [ 0.30742485,  0.06341534],\n",
              "       [-0.18277423, -1.06442747],\n",
              "       [ 1.67998229,  1.59612479],\n",
              "       [ 0.99370357,  1.76963906],\n",
              "       [ 0.30742485,  0.03449629],\n",
              "       [-0.77101313, -0.22577513],\n",
              "       [-0.08473441,  0.06341534],\n",
              "       [ 0.30742485, -0.19685608],\n",
              "       [ 1.97410174, -0.65956082],\n",
              "       [-0.77101313,  1.33585337],\n",
              "       [-1.7514113 , -0.60172273],\n",
              "       [-0.08473441,  0.12125343],\n",
              "       [ 0.30742485, -0.31253226],\n",
              "       [ 1.09174339,  0.55503912],\n",
              "       [-0.96709276,  0.26584866],\n",
              "       [ 1.48390265,  0.3526058 ],\n",
              "       [ 0.20938504, -0.37037036],\n",
              "       [ 2.17018137, -1.03550842],\n",
              "       [-0.28081405,  1.104501  ],\n",
              "       [-1.65337148,  0.06341534],\n",
              "       [ 0.0133054 ,  0.03449629],\n",
              "       [ 0.11134522,  1.04666291],\n",
              "       [-0.08473441, -0.37037036],\n",
              "       [-1.1631724 ,  0.06341534],\n",
              "       [-0.28081405, -1.35361793],\n",
              "       [ 1.58194247,  1.104501  ],\n",
              "       [-0.77101313, -1.52713221],\n",
              "       [ 0.11134522,  1.8563962 ],\n",
              "       [-0.86905295, -0.775237  ],\n",
              "       [-0.47689368, -0.775237  ],\n",
              "       [-0.28081405, -0.91983223],\n",
              "       [ 0.30742485, -0.71739891],\n",
              "       [ 0.30742485,  0.06341534],\n",
              "       [ 0.11134522,  1.8563962 ],\n",
              "       [-1.06513258,  1.94315334],\n",
              "       [-1.65337148, -1.55605125],\n",
              "       [-1.1631724 , -1.09334651],\n",
              "       [-0.67297331, -0.11009894],\n",
              "       [ 0.11134522,  0.09233438],\n",
              "       [ 0.30742485,  0.26584866],\n",
              "       [ 0.89566375, -0.57280368],\n",
              "       [ 0.30742485, -1.1511846 ],\n",
              "       [-0.08473441,  0.67071531],\n",
              "       [ 2.17018137, -0.68847986],\n",
              "       [-1.26121221, -1.38253697],\n",
              "       [-0.96709276, -0.94875128],\n",
              "       [ 0.0133054 , -0.42820845],\n",
              "       [-0.18277423, -0.45712749],\n",
              "       [-1.7514113 , -0.97767033],\n",
              "       [ 1.7780221 ,  0.98882482],\n",
              "       [ 0.20938504, -0.37037036],\n",
              "       [ 0.40546467,  1.104501  ],\n",
              "       [-1.7514113 , -1.35361793],\n",
              "       [ 0.20938504, -0.13901799],\n",
              "       [ 0.89566375, -1.44037507],\n",
              "       [-1.94749093,  0.46828198],\n",
              "       [-0.28081405,  0.26584866],\n",
              "       [ 1.87606192, -1.06442747],\n",
              "       [-0.37885386,  0.06341534],\n",
              "       [ 1.09174339, -0.89091319],\n",
              "       [-1.06513258, -1.12226556],\n",
              "       [-1.84945111,  0.00557724],\n",
              "       [ 0.11134522,  0.26584866],\n",
              "       [-1.1631724 ,  0.32368675],\n",
              "       [-1.26121221,  0.29476771],\n",
              "       [-0.96709276,  0.43936294],\n",
              "       [ 1.67998229, -0.89091319],\n",
              "       [ 1.1897832 ,  0.52612008],\n",
              "       [ 1.09174339,  0.52612008],\n",
              "       [ 1.38586284,  2.31910094],\n",
              "       [-0.28081405, -0.13901799],\n",
              "       [ 0.40546467, -0.45712749],\n",
              "       [-0.37885386, -0.775237  ],\n",
              "       [-0.08473441, -0.51496559],\n",
              "       [ 0.99370357, -1.1511846 ],\n",
              "       [-0.86905295, -0.775237  ],\n",
              "       [-0.18277423, -0.51496559],\n",
              "       [-1.06513258, -0.45712749],\n",
              "       [-1.1631724 ,  1.39369146]])"
            ]
          },
          "metadata": {},
          "execution_count": 12
        }
      ]
    },
    {
      "cell_type": "code",
      "source": [
        "X_train_scaled = pd.DataFrame(X_train_scaled,columns=X_train.columns)\n",
        "X_test_scaled = pd.DataFrame(X_test_scaled,columns=X_test.columns)"
      ],
      "metadata": {
        "id": "Tw5orh_f-piu"
      },
      "execution_count": null,
      "outputs": []
    },
    {
      "cell_type": "code",
      "source": [
        "X_train.describe()"
      ],
      "metadata": {
        "id": "WBT8iWLc-pes",
        "colab": {
          "base_uri": "https://localhost:8080/",
          "height": 300
        },
        "outputId": "bc52d83e-926b-4ef5-f4c9-6d17e26d0eb3"
      },
      "execution_count": null,
      "outputs": [
        {
          "output_type": "execute_result",
          "data": {
            "text/plain": [
              "              Age  EstimatedSalary\n",
              "count  280.000000       280.000000\n",
              "mean    37.864286     69807.142857\n",
              "std     10.218201     34641.201654\n",
              "min     18.000000     15000.000000\n",
              "25%     30.000000     43000.000000\n",
              "50%     37.000000     70500.000000\n",
              "75%     46.000000     88000.000000\n",
              "max     60.000000    150000.000000"
            ],
            "text/html": [
              "\n",
              "  <div id=\"df-44ba27ee-94fe-4ad2-be16-72eb3825498a\">\n",
              "    <div class=\"colab-df-container\">\n",
              "      <div>\n",
              "<style scoped>\n",
              "    .dataframe tbody tr th:only-of-type {\n",
              "        vertical-align: middle;\n",
              "    }\n",
              "\n",
              "    .dataframe tbody tr th {\n",
              "        vertical-align: top;\n",
              "    }\n",
              "\n",
              "    .dataframe thead th {\n",
              "        text-align: right;\n",
              "    }\n",
              "</style>\n",
              "<table border=\"1\" class=\"dataframe\">\n",
              "  <thead>\n",
              "    <tr style=\"text-align: right;\">\n",
              "      <th></th>\n",
              "      <th>Age</th>\n",
              "      <th>EstimatedSalary</th>\n",
              "    </tr>\n",
              "  </thead>\n",
              "  <tbody>\n",
              "    <tr>\n",
              "      <th>count</th>\n",
              "      <td>280.000000</td>\n",
              "      <td>280.000000</td>\n",
              "    </tr>\n",
              "    <tr>\n",
              "      <th>mean</th>\n",
              "      <td>37.864286</td>\n",
              "      <td>69807.142857</td>\n",
              "    </tr>\n",
              "    <tr>\n",
              "      <th>std</th>\n",
              "      <td>10.218201</td>\n",
              "      <td>34641.201654</td>\n",
              "    </tr>\n",
              "    <tr>\n",
              "      <th>min</th>\n",
              "      <td>18.000000</td>\n",
              "      <td>15000.000000</td>\n",
              "    </tr>\n",
              "    <tr>\n",
              "      <th>25%</th>\n",
              "      <td>30.000000</td>\n",
              "      <td>43000.000000</td>\n",
              "    </tr>\n",
              "    <tr>\n",
              "      <th>50%</th>\n",
              "      <td>37.000000</td>\n",
              "      <td>70500.000000</td>\n",
              "    </tr>\n",
              "    <tr>\n",
              "      <th>75%</th>\n",
              "      <td>46.000000</td>\n",
              "      <td>88000.000000</td>\n",
              "    </tr>\n",
              "    <tr>\n",
              "      <th>max</th>\n",
              "      <td>60.000000</td>\n",
              "      <td>150000.000000</td>\n",
              "    </tr>\n",
              "  </tbody>\n",
              "</table>\n",
              "</div>\n",
              "      <button class=\"colab-df-convert\" onclick=\"convertToInteractive('df-44ba27ee-94fe-4ad2-be16-72eb3825498a')\"\n",
              "              title=\"Convert this dataframe to an interactive table.\"\n",
              "              style=\"display:none;\">\n",
              "        \n",
              "  <svg xmlns=\"http://www.w3.org/2000/svg\" height=\"24px\"viewBox=\"0 0 24 24\"\n",
              "       width=\"24px\">\n",
              "    <path d=\"M0 0h24v24H0V0z\" fill=\"none\"/>\n",
              "    <path d=\"M18.56 5.44l.94 2.06.94-2.06 2.06-.94-2.06-.94-.94-2.06-.94 2.06-2.06.94zm-11 1L8.5 8.5l.94-2.06 2.06-.94-2.06-.94L8.5 2.5l-.94 2.06-2.06.94zm10 10l.94 2.06.94-2.06 2.06-.94-2.06-.94-.94-2.06-.94 2.06-2.06.94z\"/><path d=\"M17.41 7.96l-1.37-1.37c-.4-.4-.92-.59-1.43-.59-.52 0-1.04.2-1.43.59L10.3 9.45l-7.72 7.72c-.78.78-.78 2.05 0 2.83L4 21.41c.39.39.9.59 1.41.59.51 0 1.02-.2 1.41-.59l7.78-7.78 2.81-2.81c.8-.78.8-2.07 0-2.86zM5.41 20L4 18.59l7.72-7.72 1.47 1.35L5.41 20z\"/>\n",
              "  </svg>\n",
              "      </button>\n",
              "      \n",
              "  <style>\n",
              "    .colab-df-container {\n",
              "      display:flex;\n",
              "      flex-wrap:wrap;\n",
              "      gap: 12px;\n",
              "    }\n",
              "\n",
              "    .colab-df-convert {\n",
              "      background-color: #E8F0FE;\n",
              "      border: none;\n",
              "      border-radius: 50%;\n",
              "      cursor: pointer;\n",
              "      display: none;\n",
              "      fill: #1967D2;\n",
              "      height: 32px;\n",
              "      padding: 0 0 0 0;\n",
              "      width: 32px;\n",
              "    }\n",
              "\n",
              "    .colab-df-convert:hover {\n",
              "      background-color: #E2EBFA;\n",
              "      box-shadow: 0px 1px 2px rgba(60, 64, 67, 0.3), 0px 1px 3px 1px rgba(60, 64, 67, 0.15);\n",
              "      fill: #174EA6;\n",
              "    }\n",
              "\n",
              "    [theme=dark] .colab-df-convert {\n",
              "      background-color: #3B4455;\n",
              "      fill: #D2E3FC;\n",
              "    }\n",
              "\n",
              "    [theme=dark] .colab-df-convert:hover {\n",
              "      background-color: #434B5C;\n",
              "      box-shadow: 0px 1px 3px 1px rgba(0, 0, 0, 0.15);\n",
              "      filter: drop-shadow(0px 1px 2px rgba(0, 0, 0, 0.3));\n",
              "      fill: #FFFFFF;\n",
              "    }\n",
              "  </style>\n",
              "\n",
              "      <script>\n",
              "        const buttonEl =\n",
              "          document.querySelector('#df-44ba27ee-94fe-4ad2-be16-72eb3825498a button.colab-df-convert');\n",
              "        buttonEl.style.display =\n",
              "          google.colab.kernel.accessAllowed ? 'block' : 'none';\n",
              "\n",
              "        async function convertToInteractive(key) {\n",
              "          const element = document.querySelector('#df-44ba27ee-94fe-4ad2-be16-72eb3825498a');\n",
              "          const dataTable =\n",
              "            await google.colab.kernel.invokeFunction('convertToInteractive',\n",
              "                                                     [key], {});\n",
              "          if (!dataTable) return;\n",
              "\n",
              "          const docLinkHtml = 'Like what you see? Visit the ' +\n",
              "            '<a target=\"_blank\" href=https://colab.research.google.com/notebooks/data_table.ipynb>data table notebook</a>'\n",
              "            + ' to learn more about interactive tables.';\n",
              "          element.innerHTML = '';\n",
              "          dataTable['output_type'] = 'display_data';\n",
              "          await google.colab.output.renderOutput(dataTable, element);\n",
              "          const docLink = document.createElement('div');\n",
              "          docLink.innerHTML = docLinkHtml;\n",
              "          element.appendChild(docLink);\n",
              "        }\n",
              "      </script>\n",
              "    </div>\n",
              "  </div>\n",
              "  "
            ]
          },
          "metadata": {},
          "execution_count": 14
        }
      ]
    },
    {
      "cell_type": "code",
      "source": [
        "np.round(X_train.describe(), 1)"
      ],
      "metadata": {
        "id": "B8OEr0yl-pa3",
        "colab": {
          "base_uri": "https://localhost:8080/",
          "height": 300
        },
        "outputId": "8bd577a4-e49e-489f-e299-ba6260417f83"
      },
      "execution_count": null,
      "outputs": [
        {
          "output_type": "execute_result",
          "data": {
            "text/plain": [
              "         Age  EstimatedSalary\n",
              "count  280.0            280.0\n",
              "mean    37.9          69807.1\n",
              "std     10.2          34641.2\n",
              "min     18.0          15000.0\n",
              "25%     30.0          43000.0\n",
              "50%     37.0          70500.0\n",
              "75%     46.0          88000.0\n",
              "max     60.0         150000.0"
            ],
            "text/html": [
              "\n",
              "  <div id=\"df-66439863-02ff-4369-ac1f-474d2d892306\">\n",
              "    <div class=\"colab-df-container\">\n",
              "      <div>\n",
              "<style scoped>\n",
              "    .dataframe tbody tr th:only-of-type {\n",
              "        vertical-align: middle;\n",
              "    }\n",
              "\n",
              "    .dataframe tbody tr th {\n",
              "        vertical-align: top;\n",
              "    }\n",
              "\n",
              "    .dataframe thead th {\n",
              "        text-align: right;\n",
              "    }\n",
              "</style>\n",
              "<table border=\"1\" class=\"dataframe\">\n",
              "  <thead>\n",
              "    <tr style=\"text-align: right;\">\n",
              "      <th></th>\n",
              "      <th>Age</th>\n",
              "      <th>EstimatedSalary</th>\n",
              "    </tr>\n",
              "  </thead>\n",
              "  <tbody>\n",
              "    <tr>\n",
              "      <th>count</th>\n",
              "      <td>280.0</td>\n",
              "      <td>280.0</td>\n",
              "    </tr>\n",
              "    <tr>\n",
              "      <th>mean</th>\n",
              "      <td>37.9</td>\n",
              "      <td>69807.1</td>\n",
              "    </tr>\n",
              "    <tr>\n",
              "      <th>std</th>\n",
              "      <td>10.2</td>\n",
              "      <td>34641.2</td>\n",
              "    </tr>\n",
              "    <tr>\n",
              "      <th>min</th>\n",
              "      <td>18.0</td>\n",
              "      <td>15000.0</td>\n",
              "    </tr>\n",
              "    <tr>\n",
              "      <th>25%</th>\n",
              "      <td>30.0</td>\n",
              "      <td>43000.0</td>\n",
              "    </tr>\n",
              "    <tr>\n",
              "      <th>50%</th>\n",
              "      <td>37.0</td>\n",
              "      <td>70500.0</td>\n",
              "    </tr>\n",
              "    <tr>\n",
              "      <th>75%</th>\n",
              "      <td>46.0</td>\n",
              "      <td>88000.0</td>\n",
              "    </tr>\n",
              "    <tr>\n",
              "      <th>max</th>\n",
              "      <td>60.0</td>\n",
              "      <td>150000.0</td>\n",
              "    </tr>\n",
              "  </tbody>\n",
              "</table>\n",
              "</div>\n",
              "      <button class=\"colab-df-convert\" onclick=\"convertToInteractive('df-66439863-02ff-4369-ac1f-474d2d892306')\"\n",
              "              title=\"Convert this dataframe to an interactive table.\"\n",
              "              style=\"display:none;\">\n",
              "        \n",
              "  <svg xmlns=\"http://www.w3.org/2000/svg\" height=\"24px\"viewBox=\"0 0 24 24\"\n",
              "       width=\"24px\">\n",
              "    <path d=\"M0 0h24v24H0V0z\" fill=\"none\"/>\n",
              "    <path d=\"M18.56 5.44l.94 2.06.94-2.06 2.06-.94-2.06-.94-.94-2.06-.94 2.06-2.06.94zm-11 1L8.5 8.5l.94-2.06 2.06-.94-2.06-.94L8.5 2.5l-.94 2.06-2.06.94zm10 10l.94 2.06.94-2.06 2.06-.94-2.06-.94-.94-2.06-.94 2.06-2.06.94z\"/><path d=\"M17.41 7.96l-1.37-1.37c-.4-.4-.92-.59-1.43-.59-.52 0-1.04.2-1.43.59L10.3 9.45l-7.72 7.72c-.78.78-.78 2.05 0 2.83L4 21.41c.39.39.9.59 1.41.59.51 0 1.02-.2 1.41-.59l7.78-7.78 2.81-2.81c.8-.78.8-2.07 0-2.86zM5.41 20L4 18.59l7.72-7.72 1.47 1.35L5.41 20z\"/>\n",
              "  </svg>\n",
              "      </button>\n",
              "      \n",
              "  <style>\n",
              "    .colab-df-container {\n",
              "      display:flex;\n",
              "      flex-wrap:wrap;\n",
              "      gap: 12px;\n",
              "    }\n",
              "\n",
              "    .colab-df-convert {\n",
              "      background-color: #E8F0FE;\n",
              "      border: none;\n",
              "      border-radius: 50%;\n",
              "      cursor: pointer;\n",
              "      display: none;\n",
              "      fill: #1967D2;\n",
              "      height: 32px;\n",
              "      padding: 0 0 0 0;\n",
              "      width: 32px;\n",
              "    }\n",
              "\n",
              "    .colab-df-convert:hover {\n",
              "      background-color: #E2EBFA;\n",
              "      box-shadow: 0px 1px 2px rgba(60, 64, 67, 0.3), 0px 1px 3px 1px rgba(60, 64, 67, 0.15);\n",
              "      fill: #174EA6;\n",
              "    }\n",
              "\n",
              "    [theme=dark] .colab-df-convert {\n",
              "      background-color: #3B4455;\n",
              "      fill: #D2E3FC;\n",
              "    }\n",
              "\n",
              "    [theme=dark] .colab-df-convert:hover {\n",
              "      background-color: #434B5C;\n",
              "      box-shadow: 0px 1px 3px 1px rgba(0, 0, 0, 0.15);\n",
              "      filter: drop-shadow(0px 1px 2px rgba(0, 0, 0, 0.3));\n",
              "      fill: #FFFFFF;\n",
              "    }\n",
              "  </style>\n",
              "\n",
              "      <script>\n",
              "        const buttonEl =\n",
              "          document.querySelector('#df-66439863-02ff-4369-ac1f-474d2d892306 button.colab-df-convert');\n",
              "        buttonEl.style.display =\n",
              "          google.colab.kernel.accessAllowed ? 'block' : 'none';\n",
              "\n",
              "        async function convertToInteractive(key) {\n",
              "          const element = document.querySelector('#df-66439863-02ff-4369-ac1f-474d2d892306');\n",
              "          const dataTable =\n",
              "            await google.colab.kernel.invokeFunction('convertToInteractive',\n",
              "                                                     [key], {});\n",
              "          if (!dataTable) return;\n",
              "\n",
              "          const docLinkHtml = 'Like what you see? Visit the ' +\n",
              "            '<a target=\"_blank\" href=https://colab.research.google.com/notebooks/data_table.ipynb>data table notebook</a>'\n",
              "            + ' to learn more about interactive tables.';\n",
              "          element.innerHTML = '';\n",
              "          dataTable['output_type'] = 'display_data';\n",
              "          await google.colab.output.renderOutput(dataTable, element);\n",
              "          const docLink = document.createElement('div');\n",
              "          docLink.innerHTML = docLinkHtml;\n",
              "          element.appendChild(docLink);\n",
              "        }\n",
              "      </script>\n",
              "    </div>\n",
              "  </div>\n",
              "  "
            ]
          },
          "metadata": {},
          "execution_count": 15
        }
      ]
    },
    {
      "cell_type": "code",
      "source": [
        "np.round(X_train_scaled.describe(), 1)"
      ],
      "metadata": {
        "id": "xy7YCwi6-pYE",
        "colab": {
          "base_uri": "https://localhost:8080/",
          "height": 300
        },
        "outputId": "3675c3b7-28fc-4930-a3c8-1833243b85fe"
      },
      "execution_count": null,
      "outputs": [
        {
          "output_type": "execute_result",
          "data": {
            "text/plain": [
              "         Age  EstimatedSalary\n",
              "count  280.0            280.0\n",
              "mean     0.0              0.0\n",
              "std      1.0              1.0\n",
              "min     -1.9             -1.6\n",
              "25%     -0.8             -0.8\n",
              "50%     -0.1              0.0\n",
              "75%      0.8              0.5\n",
              "max      2.2              2.3"
            ],
            "text/html": [
              "\n",
              "  <div id=\"df-4d8ee5cc-07e7-4103-ae1c-0bdada3a4372\">\n",
              "    <div class=\"colab-df-container\">\n",
              "      <div>\n",
              "<style scoped>\n",
              "    .dataframe tbody tr th:only-of-type {\n",
              "        vertical-align: middle;\n",
              "    }\n",
              "\n",
              "    .dataframe tbody tr th {\n",
              "        vertical-align: top;\n",
              "    }\n",
              "\n",
              "    .dataframe thead th {\n",
              "        text-align: right;\n",
              "    }\n",
              "</style>\n",
              "<table border=\"1\" class=\"dataframe\">\n",
              "  <thead>\n",
              "    <tr style=\"text-align: right;\">\n",
              "      <th></th>\n",
              "      <th>Age</th>\n",
              "      <th>EstimatedSalary</th>\n",
              "    </tr>\n",
              "  </thead>\n",
              "  <tbody>\n",
              "    <tr>\n",
              "      <th>count</th>\n",
              "      <td>280.0</td>\n",
              "      <td>280.0</td>\n",
              "    </tr>\n",
              "    <tr>\n",
              "      <th>mean</th>\n",
              "      <td>0.0</td>\n",
              "      <td>0.0</td>\n",
              "    </tr>\n",
              "    <tr>\n",
              "      <th>std</th>\n",
              "      <td>1.0</td>\n",
              "      <td>1.0</td>\n",
              "    </tr>\n",
              "    <tr>\n",
              "      <th>min</th>\n",
              "      <td>-1.9</td>\n",
              "      <td>-1.6</td>\n",
              "    </tr>\n",
              "    <tr>\n",
              "      <th>25%</th>\n",
              "      <td>-0.8</td>\n",
              "      <td>-0.8</td>\n",
              "    </tr>\n",
              "    <tr>\n",
              "      <th>50%</th>\n",
              "      <td>-0.1</td>\n",
              "      <td>0.0</td>\n",
              "    </tr>\n",
              "    <tr>\n",
              "      <th>75%</th>\n",
              "      <td>0.8</td>\n",
              "      <td>0.5</td>\n",
              "    </tr>\n",
              "    <tr>\n",
              "      <th>max</th>\n",
              "      <td>2.2</td>\n",
              "      <td>2.3</td>\n",
              "    </tr>\n",
              "  </tbody>\n",
              "</table>\n",
              "</div>\n",
              "      <button class=\"colab-df-convert\" onclick=\"convertToInteractive('df-4d8ee5cc-07e7-4103-ae1c-0bdada3a4372')\"\n",
              "              title=\"Convert this dataframe to an interactive table.\"\n",
              "              style=\"display:none;\">\n",
              "        \n",
              "  <svg xmlns=\"http://www.w3.org/2000/svg\" height=\"24px\"viewBox=\"0 0 24 24\"\n",
              "       width=\"24px\">\n",
              "    <path d=\"M0 0h24v24H0V0z\" fill=\"none\"/>\n",
              "    <path d=\"M18.56 5.44l.94 2.06.94-2.06 2.06-.94-2.06-.94-.94-2.06-.94 2.06-2.06.94zm-11 1L8.5 8.5l.94-2.06 2.06-.94-2.06-.94L8.5 2.5l-.94 2.06-2.06.94zm10 10l.94 2.06.94-2.06 2.06-.94-2.06-.94-.94-2.06-.94 2.06-2.06.94z\"/><path d=\"M17.41 7.96l-1.37-1.37c-.4-.4-.92-.59-1.43-.59-.52 0-1.04.2-1.43.59L10.3 9.45l-7.72 7.72c-.78.78-.78 2.05 0 2.83L4 21.41c.39.39.9.59 1.41.59.51 0 1.02-.2 1.41-.59l7.78-7.78 2.81-2.81c.8-.78.8-2.07 0-2.86zM5.41 20L4 18.59l7.72-7.72 1.47 1.35L5.41 20z\"/>\n",
              "  </svg>\n",
              "      </button>\n",
              "      \n",
              "  <style>\n",
              "    .colab-df-container {\n",
              "      display:flex;\n",
              "      flex-wrap:wrap;\n",
              "      gap: 12px;\n",
              "    }\n",
              "\n",
              "    .colab-df-convert {\n",
              "      background-color: #E8F0FE;\n",
              "      border: none;\n",
              "      border-radius: 50%;\n",
              "      cursor: pointer;\n",
              "      display: none;\n",
              "      fill: #1967D2;\n",
              "      height: 32px;\n",
              "      padding: 0 0 0 0;\n",
              "      width: 32px;\n",
              "    }\n",
              "\n",
              "    .colab-df-convert:hover {\n",
              "      background-color: #E2EBFA;\n",
              "      box-shadow: 0px 1px 2px rgba(60, 64, 67, 0.3), 0px 1px 3px 1px rgba(60, 64, 67, 0.15);\n",
              "      fill: #174EA6;\n",
              "    }\n",
              "\n",
              "    [theme=dark] .colab-df-convert {\n",
              "      background-color: #3B4455;\n",
              "      fill: #D2E3FC;\n",
              "    }\n",
              "\n",
              "    [theme=dark] .colab-df-convert:hover {\n",
              "      background-color: #434B5C;\n",
              "      box-shadow: 0px 1px 3px 1px rgba(0, 0, 0, 0.15);\n",
              "      filter: drop-shadow(0px 1px 2px rgba(0, 0, 0, 0.3));\n",
              "      fill: #FFFFFF;\n",
              "    }\n",
              "  </style>\n",
              "\n",
              "      <script>\n",
              "        const buttonEl =\n",
              "          document.querySelector('#df-4d8ee5cc-07e7-4103-ae1c-0bdada3a4372 button.colab-df-convert');\n",
              "        buttonEl.style.display =\n",
              "          google.colab.kernel.accessAllowed ? 'block' : 'none';\n",
              "\n",
              "        async function convertToInteractive(key) {\n",
              "          const element = document.querySelector('#df-4d8ee5cc-07e7-4103-ae1c-0bdada3a4372');\n",
              "          const dataTable =\n",
              "            await google.colab.kernel.invokeFunction('convertToInteractive',\n",
              "                                                     [key], {});\n",
              "          if (!dataTable) return;\n",
              "\n",
              "          const docLinkHtml = 'Like what you see? Visit the ' +\n",
              "            '<a target=\"_blank\" href=https://colab.research.google.com/notebooks/data_table.ipynb>data table notebook</a>'\n",
              "            + ' to learn more about interactive tables.';\n",
              "          element.innerHTML = '';\n",
              "          dataTable['output_type'] = 'display_data';\n",
              "          await google.colab.output.renderOutput(dataTable, element);\n",
              "          const docLink = document.createElement('div');\n",
              "          docLink.innerHTML = docLinkHtml;\n",
              "          element.appendChild(docLink);\n",
              "        }\n",
              "      </script>\n",
              "    </div>\n",
              "  </div>\n",
              "  "
            ]
          },
          "metadata": {},
          "execution_count": 16
        }
      ]
    },
    {
      "cell_type": "markdown",
      "source": [
        "##Effect of Scaling"
      ],
      "metadata": {
        "id": "jvlZE4Qv-_qr"
      }
    },
    {
      "cell_type": "code",
      "source": [
        "fig, (ax1, ax2) = plt.subplots(ncols=2,figsize=(12, 5))\n",
        "\n",
        "ax1.scatter(X_train['Age'], X_train['EstimatedSalary'])\n",
        "ax1.set_title(\"Before Scaling\")\n",
        "ax2.scatter(X_train_scaled['Age'],\n",
        "            X_train_scaled['EstimatedSalary'],\n",
        "            color='red')\n",
        "ax2.set_title(\"After Scaling\")\n",
        "plt.show()"
      ],
      "metadata": {
        "id": "qMyxSkr_-8Uf"
      },
      "execution_count": null,
      "outputs": []
    },
    {
      "cell_type": "code",
      "source": [
        "import seaborn as sns"
      ],
      "metadata": {
        "id": "IH3qKOxM-8Gq"
      },
      "execution_count": null,
      "outputs": []
    },
    {
      "cell_type": "code",
      "source": [
        "fig, (ax1, ax2) = plt.subplots(ncols=2,figsize=(12, 5))\n",
        "\n",
        "# before scaling\n",
        "ax1.set_title('Before Scaling')\n",
        "sns.kdeplot(X_train['Age'], ax=ax1)\n",
        "sns.kdeplot(X_train['EstimatedSalary'],ax=ax1)\n",
        "\n",
        "# after scaling\n",
        "ax2.set_title('After Standard Scaling')\n",
        "sns.kdeplot(X_train_scaled['Age'], ax=ax2)\n",
        "sns.kdeplot(X_train_scaled['EstimatedSalary'],ax=ax2)\n",
        "plt.show()"
      ],
      "metadata": {
        "id": "-8eB5pXB-75G"
      },
      "execution_count": null,
      "outputs": []
    },
    {
      "cell_type": "markdown",
      "source": [
        "##Comparison of Distributions"
      ],
      "metadata": {
        "id": "3kUl_K90_J_Y"
      }
    },
    {
      "cell_type": "code",
      "source": [
        "fig, (ax1, ax2) = plt.subplots(ncols=2,figsize=(12, 5))\n",
        "\n",
        "# before scaling\n",
        "ax1.set_title('Age Distribution Before Scaling')\n",
        "sns.kdeplot(X_train['Age'], ax=ax1)\n",
        "\n",
        "# after scaling\n",
        "ax2.set_title('Age Distribution After Standard Scaling')\n",
        "sns.kdeplot(X_train_scaled['Age'],ax=ax2)\n",
        "plt.show()"
      ],
      "metadata": {
        "id": "pTgt2BaI-7sW"
      },
      "execution_count": null,
      "outputs": []
    },
    {
      "cell_type": "code",
      "source": [
        "fig, (ax1, ax2) = plt.subplots(ncols=2,figsize=(12, 5))\n",
        "\n",
        "# before scaling\n",
        "ax1.set_title('Salary Distribution Before Scaling')\n",
        "sns.kdeplot(X_train['EstimatedSalary'],ax=ax1)\n",
        "\n",
        "# after scaling\n",
        "ax2.set_title('Salary Distribution Standard Scaling')\n",
        "sns.kdeplot(X_train_scaled['EstimatedSalary'],ax=ax2)\n",
        "plt.show()\n"
      ],
      "metadata": {
        "id": "Z9l3o3s--7hD"
      },
      "execution_count": null,
      "outputs": []
    },
    {
      "cell_type": "markdown",
      "source": [
        "#Why scaling is important?"
      ],
      "metadata": {
        "id": "kkwyf5On_QCV"
      }
    },
    {
      "cell_type": "code",
      "source": [
        "from sklearn.linear_model import LogisticRegression"
      ],
      "metadata": {
        "id": "11ZQ_uRm-7Uq"
      },
      "execution_count": null,
      "outputs": []
    },
    {
      "cell_type": "code",
      "source": [
        "lr = LogisticRegression()\n",
        "lr_scaled = LogisticRegression()"
      ],
      "metadata": {
        "id": "uWMFOnP7-HyO"
      },
      "execution_count": null,
      "outputs": []
    },
    {
      "cell_type": "code",
      "source": [
        "lr.fit(X_train,y_train)\n",
        "lr_scaled.fit(X_train_scaled,y_train)"
      ],
      "metadata": {
        "id": "UEi7jgIx_YTv"
      },
      "execution_count": null,
      "outputs": []
    },
    {
      "cell_type": "code",
      "source": [
        "y_pred = lr.predict(X_test)\n",
        "y_pred_scaled = lr_scaled.predict(X_test_scaled)"
      ],
      "metadata": {
        "id": "-WpRH_cr_YQY"
      },
      "execution_count": null,
      "outputs": []
    },
    {
      "cell_type": "code",
      "source": [
        "from sklearn.metrics import accuracy_score"
      ],
      "metadata": {
        "id": "ZYcqz8hL_YMi"
      },
      "execution_count": null,
      "outputs": []
    },
    {
      "cell_type": "code",
      "source": [
        "print(\"Actual\",accuracy_score(y_test,y_pred))\n",
        "print(\"Scaled\",accuracy_score(y_test,y_pred_scaled))"
      ],
      "metadata": {
        "id": "btk2OCek_YKq"
      },
      "execution_count": null,
      "outputs": []
    },
    {
      "cell_type": "code",
      "source": [
        "from sklearn.tree import DecisionTreeClassifier"
      ],
      "metadata": {
        "id": "8p4LxABG_YGY"
      },
      "execution_count": null,
      "outputs": []
    },
    {
      "cell_type": "code",
      "source": [
        "dt = DecisionTreeClassifier()\n",
        "dt_scaled = DecisionTreeClassifier()"
      ],
      "metadata": {
        "id": "AG38K4s8_YC6"
      },
      "execution_count": null,
      "outputs": []
    },
    {
      "cell_type": "code",
      "source": [
        "dt.fit(X_train,y_train)\n",
        "dt_scaled.fit(X_train_scaled,y_train)"
      ],
      "metadata": {
        "id": "97RHOFI6_li7"
      },
      "execution_count": null,
      "outputs": []
    },
    {
      "cell_type": "code",
      "source": [
        "y_pred = dt.predict(X_test)\n",
        "y_pred_scaled = dt_scaled.predict(X_test_scaled)"
      ],
      "metadata": {
        "id": "Aa_QLkA6_lUx"
      },
      "execution_count": null,
      "outputs": []
    },
    {
      "cell_type": "code",
      "source": [
        "print(\"Actual\",accuracy_score(y_test,y_pred))\n",
        "print(\"Scaled\",accuracy_score(y_test,y_pred_scaled))"
      ],
      "metadata": {
        "id": "odL-7jwj_lSn"
      },
      "execution_count": null,
      "outputs": []
    },
    {
      "cell_type": "code",
      "source": [
        "df.describe()"
      ],
      "metadata": {
        "id": "Jiz9twY5_lPU"
      },
      "execution_count": null,
      "outputs": []
    },
    {
      "cell_type": "markdown",
      "source": [
        "##Effect of Outlier"
      ],
      "metadata": {
        "id": "M2tTtMiD_0d0"
      }
    },
    {
      "cell_type": "code",
      "source": [
        "df = df.append(pd.DataFrame({'Age':[5,90,95],\n",
        "                             'EstimatedSalary':[1000,250000,350000],\n",
        "                             'Purchased':[0,1,1]}),ignore_index=True)\n",
        "df"
      ],
      "metadata": {
        "id": "_DVnuWID_wM3"
      },
      "execution_count": null,
      "outputs": []
    },
    {
      "cell_type": "code",
      "source": [
        "plt.scatter(df['Age'], df['EstimatedSalary'])"
      ],
      "metadata": {
        "id": "HOZK00dr_wKh"
      },
      "execution_count": null,
      "outputs": []
    },
    {
      "cell_type": "code",
      "source": [
        "X=df.drop('Purchased',1)\n",
        "y=df['Purchased']"
      ],
      "metadata": {
        "id": "Xrlvyiiw_wA8"
      },
      "execution_count": null,
      "outputs": []
    },
    {
      "cell_type": "code",
      "source": [
        "from sklearn.model_selection import train_test_split\n",
        "X_train, X_test, y_train, y_test = train_test_split(X,y,\n",
        "                                                    test_size=0.3,\n",
        "                                                    random_state=0)"
      ],
      "metadata": {
        "id": "IhSx5KK0_v-m"
      },
      "execution_count": null,
      "outputs": []
    },
    {
      "cell_type": "code",
      "source": [
        "X_train.shape, X_test.shape"
      ],
      "metadata": {
        "id": "DZSK3z76-GrO"
      },
      "execution_count": null,
      "outputs": []
    },
    {
      "cell_type": "code",
      "source": [
        "from sklearn.preprocessing import StandardScaler\n",
        "\n",
        "scaler = StandardScaler()\n",
        "\n",
        "# fit the scaler to the train set, it will learn the parameters\n",
        "scaler.fit(X_train)\n",
        "\n",
        "# transform train and test sets\n",
        "X_train_scaled = scaler.transform(X_train)\n",
        "X_test_scaled = scaler.transform(X_test)"
      ],
      "metadata": {
        "id": "hiQuMd5qAGBx"
      },
      "execution_count": null,
      "outputs": []
    },
    {
      "cell_type": "code",
      "source": [
        "X_train_scaled = pd.DataFrame(X_train_scaled,columns=X_train.columns)\n",
        "X_test_scaled = pd.DataFrame(X_test_scaled,columns=X_test.columns)"
      ],
      "metadata": {
        "id": "ySvZxRY9AGTp"
      },
      "execution_count": null,
      "outputs": []
    },
    {
      "cell_type": "code",
      "source": [
        "fig, (ax1, ax2) = plt.subplots(ncols=2, figsize=(12, 5))\n",
        "\n",
        "ax1.scatter(X_train['Age'], X_train['EstimatedSalary'])\n",
        "ax1.set_title(\"Before Scaling\")\n",
        "ax2.scatter(X_train_scaled['Age'], \n",
        "            X_train_scaled['EstimatedSalary'],\n",
        "            color='red')\n",
        "ax2.set_title(\"After Scaling\")\n",
        "plt.show()"
      ],
      "metadata": {
        "id": "iWmgHSskAOIJ"
      },
      "execution_count": null,
      "outputs": []
    },
    {
      "cell_type": "markdown",
      "source": [
        "## **where we should use standardization**\n",
        "##1. K-mean\n",
        "##2. KNN\n",
        "##3. ANN\n",
        "##4. gradient Descent\n",
        "##5. PCA\n",
        "\n",
        "## **where you can avoid standardization**\n",
        "## random forest\n",
        "## decision tree\n",
        "## gradient boost\n",
        "## XGBOOST"
      ],
      "metadata": {
        "id": "ImXyPeUgAS2T"
      }
    },
    {
      "cell_type": "markdown",
      "source": [
        "# Normalization\n",
        "##The measurement unit used can affect the data analysis. For instance, changing the measurement unit from kg to pounds. Expressing an attribute in smaller units will lead to a larger range for that attribute and thus give inefficient results. To avoid the dependence on the choice of measurement units, the data should be normalized. Normalization is used for scaling the data of attributes so that it falls in a smaller range, such as -2.0 to 2.0. It is usually used in classification algorithms.\n",
        "## Normalization is a technique often applied as part of data preparation for machine learning. The goal of normalization is to change the values of numeric columns in the dataset to use a common scale, without distorting differences in the ranges of values or losing information.\n",
        "## if your are working in m/c learning then eliminate the units.if you are working with units then there will be problem.you sholuld work on common scale then work on this.\n",
        "##for example weight may be in kg,miligm,grams etc. in unit so eliminate units\n",
        "# Types of normalization\n",
        "##1. Min Max scaling\n",
        "##2. Mean normalization\n",
        "##3. max absolute \n",
        "##4. robust scaling"
      ],
      "metadata": {
        "id": "DbG80RedAW9V"
      }
    },
    {
      "cell_type": "markdown",
      "source": [
        "##Normalization is good to use when you know that the distribution of your data does not follow a Gaussian distribution. This can be useful in algorithms that do not assume any distribution of the data like K-Nearest Neighbors and Neural Networks.\n",
        "##Standardization, on the other hand, can be helpful in cases where the data follows a Gaussian distribution. However, this does not have to be necessarily true. Also, unlike normalization, standardization does not have a bounding range. So, even if you have outliers in your data, they will not be affected by standardization.\n",
        "##However, at the end of the day, the choice of using normalization or standardization will depend on your problem and the machine learning algorithm you are using. There is no hard and fast rule to tell you when to normalize or standardize your data. You can always start by fitting your model to raw, normalized and standardized data and compare the performance for best results."
      ],
      "metadata": {
        "id": "MYn9mDiUAbcP"
      }
    },
    {
      "cell_type": "markdown",
      "source": [
        "## Min Max Normalization:\n",
        "###Min-max normalization is one of the most common ways to normalize data. For every feature, the minimum value of that feature gets transformed into a 0, the maximum value gets transformed into a 1, and every other value gets transformed into a decimal between 0 and 1.\n",
        "\n",
        "##Another way to normalize the input features/variables (apart from the standardization that scales the features so that they have μ=0and σ=1) is the Min-Max scaler. By doing so, all features will be transformed into the range [0,1] meaning that the minimum and maximum value of a feature/variable is going to be 0 and 1, respectively.\n",
        "\n",
        "![image.png](data:image/png;base64,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)"
      ],
      "metadata": {
        "id": "PUq9zk9hAfsH"
      }
    },
    {
      "cell_type": "markdown",
      "source": [
        "#Why to normalize prior to model fitting?\n",
        "##The main idea behind normalization/standardization is always the same. Variables that are measured at different scales do not contribute equally to the model fitting & model learned function and might end up creating a bias. Thus, to deal with this potential problem feature-wise normalization such as MinMax Scaling is usually used prior to model fitting.\n",
        "\n",
        "##This can be very useful for some ML models like the Multi-layer Perceptrons (MLP), where the back-propagation can be more stable and even faster when input features are min-max scaled (or in general scaled) compared to using the original unscaled data.\n",
        "\n",
        "##Note: Tree-based models are usually not dependent on scaling, but non-tree models models such as SVM, LDA etc. are often hugely dependent on it."
      ],
      "metadata": {
        "id": "d5I8B_KmD8i-"
      }
    },
    {
      "cell_type": "code",
      "source": [
        "import pandas as pd \n",
        "import seaborn as sns\n",
        "from sklearn.preprocessing import MinMaxScaler\n",
        "from sklearn.model_selection import train_test_split"
      ],
      "metadata": {
        "id": "u-Oaae2GSAWr"
      },
      "execution_count": null,
      "outputs": []
    },
    {
      "cell_type": "code",
      "source": [
        "#seaborn has many dataset you canget dataset from this link\n",
        "#  https://github.com/mwaskom/seaborn-data\n",
        "# Or if you know the dataset you just write sns.load_dataset(\"dataset name\")\n",
        "df = sns.load_dataset(\"titanic\")\n",
        "df.head()"
      ],
      "metadata": {
        "id": "Mt4T8TQATQaG"
      },
      "execution_count": null,
      "outputs": []
    },
    {
      "cell_type": "code",
      "source": [
        "df2 = df[['survived',\"pclass\",'age','parch']]\n",
        "df2.head()"
      ],
      "metadata": {
        "id": "-Om_jECLTQSF"
      },
      "execution_count": null,
      "outputs": []
    },
    {
      "cell_type": "code",
      "source": [
        "df3 = df2.fillna(df2.mean())"
      ],
      "metadata": {
        "id": "EUB755p9TQLJ"
      },
      "execution_count": null,
      "outputs": []
    },
    {
      "cell_type": "code",
      "source": [
        "X = df3.drop(\"survived\", axis = 1)\n",
        "y = df3[\"survived\"]\n",
        "print('Shape of X = ', X.shape)\n",
        "print('Shape of y = ', y.shape)"
      ],
      "metadata": {
        "id": "IsB2H3fHTP92"
      },
      "execution_count": null,
      "outputs": []
    },
    {
      "cell_type": "code",
      "source": [
        "X_train, X_test, y_train, y_test =train_test_split(X, y, \n",
        "                                                   test_size=0.2, \n",
        "                                                   random_state=51)\n",
        "print('Shape of X_train = ', X_train.shape)\n",
        "print('Shape of y_train = ', y_train.shape)\n",
        "print('Shape of X_test = ', X_test.shape)\n",
        "print('Shape of y_test = ', y_test.shape)"
      ],
      "metadata": {
        "id": "mBrixJp6TPyw"
      },
      "execution_count": null,
      "outputs": []
    },
    {
      "cell_type": "code",
      "source": [
        "mmc = MinMaxScaler()\n",
        "mmc.fit(X_train)"
      ],
      "metadata": {
        "id": "F-6PmqNSTjd-"
      },
      "execution_count": null,
      "outputs": []
    },
    {
      "cell_type": "code",
      "source": [
        "X_train_mmc = mmc.transform(X_train)\n",
        "X_test_mmc = mmc.transform(X_test)"
      ],
      "metadata": {
        "id": "E9S-uvuVTjaU"
      },
      "execution_count": null,
      "outputs": []
    },
    {
      "cell_type": "code",
      "source": [
        "X_train_mmc =  pd.DataFrame(X_train_mmc,columns=['pclass','age','parch'])\n",
        "X_test_mmc =  pd.DataFrame(X_test_mmc,columns=['pclass','age','parch'])"
      ],
      "metadata": {
        "id": "GWiapEckTjPo"
      },
      "execution_count": null,
      "outputs": []
    },
    {
      "cell_type": "code",
      "source": [
        "X_train_mmc.describe()"
      ],
      "metadata": {
        "id": "GuJaOiT5TjNQ"
      },
      "execution_count": null,
      "outputs": []
    },
    {
      "cell_type": "code",
      "source": [
        "X_train_mmc.describe().round(2)"
      ],
      "metadata": {
        "id": "Pr9yO2n1TjKW"
      },
      "execution_count": null,
      "outputs": []
    },
    {
      "cell_type": "code",
      "source": [
        "sns.pairplot(X_train)"
      ],
      "metadata": {
        "id": "cWhhu0COTirW"
      },
      "execution_count": null,
      "outputs": []
    },
    {
      "cell_type": "code",
      "source": [
        "sns.pairplot(X_train_mmc)"
      ],
      "metadata": {
        "id": "YgZu60S0UBMB"
      },
      "execution_count": null,
      "outputs": []
    },
    {
      "cell_type": "markdown",
      "source": [
        "##Python working example\n",
        "##Here we will use the famous iris dataset that is available through scikit-learn."
      ],
      "metadata": {
        "id": "r4Bv-YycERy6"
      }
    },
    {
      "cell_type": "code",
      "source": [
        "from sklearn.datasets import load_iris\n",
        "from sklearn.preprocessing import MinMaxScaler\n",
        "import numpy as np\n",
        "# use the iris dataset\n",
        "X, y = load_iris(return_X_y=True)\n",
        "print(X.shape)\n",
        "# (150, 4) # 150 samples (rows) with 4 features/variables (columns)\n",
        "# build the scaler model\n",
        "scaler = MinMaxScaler()\n",
        "# fit using the train set\n",
        "scaler.fit(X)\n",
        "# transform the test test\n",
        "X_scaled = scaler.transform(X)\n",
        "# Verify minimum value of all features\n",
        "X_scaled.min(axis=0)\n",
        "# array([0., 0., 0., 0.])\n",
        "# Verify maximum value of all features\n",
        "X_scaled.max(axis=0)\n",
        "# array([1., 1., 1., 1.])\n",
        "# Manually normalise without using scikit-learn\n",
        "X_manual_scaled = (X-X.min(axis=0))/(X.max(axis=0)-X.min(axis=0))\n",
        "# Verify manually VS scikit-learn estimation\n",
        "print(np.allclose(X_scaled, X_manual_scaled))\n",
        "#True  "
      ],
      "metadata": {
        "id": "YojyB_LBAN59"
      },
      "execution_count": null,
      "outputs": []
    },
    {
      "cell_type": "markdown",
      "source": [
        "##The effect of the transform in a visual example"
      ],
      "metadata": {
        "id": "U5o7DcHEEqgc"
      }
    },
    {
      "cell_type": "code",
      "source": [
        "import matplotlib.pyplot as plt\n",
        "fig, axes = plt.subplots(1,2)\n",
        "axes[0].scatter(X[:,0], X[:,1], c=y)\n",
        "axes[0].set_title(\"Original data\")\n",
        "axes[1].scatter(X_scaled[:,0], X_scaled[:,1], c=y)\n",
        "axes[1].set_title(\"MinMax scaled data\")\n",
        "plt.show()"
      ],
      "metadata": {
        "id": "BYQaRLCIAGcT"
      },
      "execution_count": null,
      "outputs": []
    },
    {
      "cell_type": "code",
      "source": [],
      "metadata": {
        "id": "AOk1G_0rEvNj"
      },
      "execution_count": null,
      "outputs": []
    }
  ]
}